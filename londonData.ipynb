{
 "cells": [
  {
   "cell_type": "markdown",
   "id": "b54b8514",
   "metadata": {},
   "source": [
    "Enviornment Setup"
   ]
  },
  {
   "cell_type": "code",
   "execution_count": null,
   "id": "2ba66b36",
   "metadata": {
    "vscode": {
     "languageId": "plaintext"
    }
   },
   "outputs": [],
   "source": [
    "import requests"
   ]
  },
  {
   "cell_type": "markdown",
   "id": "58a62270",
   "metadata": {},
   "source": [
    "Get Product and Data"
   ]
  },
  {
   "cell_type": "code",
   "execution_count": null,
   "id": "198fce45",
   "metadata": {
    "vscode": {
     "languageId": "plaintext"
    }
   },
   "outputs": [],
   "source": [
    "input_date = input('enter date [yyyy/mm/dd]: ')\n",
    "input_gas = input('enter your choice of Gas (O3 / NO2): ')\n",
    "\n",
    "if input_gas == 'O3':\n",
    "    product = 'o3'\n",
    "\n",
    "if input_gas == 'NO2':\n",
    "    product = 'no2'"
   ]
  },
  {
   "cell_type": "markdown",
   "id": "a3324024",
   "metadata": {},
   "source": [
    "Parse date string and make GET request"
   ]
  },
  {
   "cell_type": "code",
   "execution_count": null,
   "id": "99b2b5a2",
   "metadata": {
    "vscode": {
     "languageId": "plaintext"
    }
   },
   "outputs": [],
   "source": [
    "input_year = input_date.split('/')[0]\n",
    "input_month = input_date.split('/')[1]\n",
    "input_day = input_date.split('/')[2]\n",
    "\n",
    "request_string = 'https://docs.openaq.org/v2/measurements?date_from=' + input_year +  '-' + input_month + '-' + input_day + 'T00%3A00%3A00%2B00%3A00&date_to=' + input_year +  '-' + input_month + '-' + input_day + 'T23%3A59%3A59%2B00%3A00&limit=100&page=1&offset=0&sort=desc&parameter=' + product + '&radius=10&city=London&order_by=datetime'\n",
    "response = requests.get(request_string)\n",
    "print('response: ', response)\n",
    "\n",
    "print('responseJ: ', response.json())"
   ]
  }
 ],
 "metadata": {
  "kernelspec": {
   "display_name": "Python 3 (ipykernel)",
   "language": "python",
   "name": "python3"
  },
  "language_info": {
   "codemirror_mode": {
    "name": "ipython",
    "version": 3
   },
   "file_extension": ".py",
   "mimetype": "text/x-python",
   "name": "python",
   "nbconvert_exporter": "python",
   "pygments_lexer": "ipython3",
   "version": "3.9.7"
  }
 },
 "nbformat": 4,
 "nbformat_minor": 5
}
