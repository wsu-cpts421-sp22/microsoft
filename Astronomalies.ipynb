{
 "cells": [
  {
   "cell_type": "markdown",
   "id": "4c433478",
   "metadata": {},
   "source": [
    "this set up was made with the help of this guide https://nbviewer.org/github/microsoft/AIforEarthDataSets/blob/main/data/sentinel-5p.ipynb#Auth-files"
   ]
  },
  {
   "cell_type": "markdown",
   "id": "ab2eee72",
   "metadata": {},
   "source": [
    "# Environment setup"
   ]
  },
  {
   "cell_type": "code",
   "execution_count": 1,
   "id": "ae1854d8",
   "metadata": {
    "scrolled": true
   },
   "outputs": [],
   "source": [
    "import os\n",
    "import fsspec\n",
    "import json\n",
    "import urllib3\n",
    "import xarray as xr\n",
    "import numpy as np\n",
    "from azure.storage.blob import ContainerClient\n",
    "from datetime import datetime, timezone\n",
    "\n",
    "# Not used directly, but needs to be installed to read NetCDF files with xarray\n",
    "import h5netcdf"
   ]
  },
  {
   "cell_type": "markdown",
   "id": "8981776a",
   "metadata": {},
   "source": [
    "# get Product & Date"
   ]
  },
  {
   "cell_type": "code",
   "execution_count": 2,
   "id": "f95b5df0",
   "metadata": {},
   "outputs": [
    {
     "name": "stdout",
     "output_type": "stream",
     "text": [
      "enter date [yyyy/mm/dd]: 2022/03/01\n",
      "enter your choice of Gas (O3 / NO2 / CH4): CH4\n"
     ]
    }
   ],
   "source": [
    "input_date = input('enter date [yyyy/mm/dd]: ')\n",
    "input_gas = input('enter your choice of Gas (O3 / NO2 / CH4): ')\n",
    "\n",
    "if input_gas == 'CH4':\n",
    "    product = 'L2__CH4___'\n",
    "else:\n",
    "    if input_gas == 'NO2':\n",
    "        product = 'L2__NO2___'\n",
    "    else:\n",
    "        product = 'L2__O3____'\n",
    "        \n",
    "date = input_date"
   ]
  },
  {
   "cell_type": "markdown",
   "id": "ca3213dc",
   "metadata": {},
   "source": [
    "# get Token from URL"
   ]
  },
  {
   "cell_type": "code",
   "execution_count": 3,
   "id": "0a54c390",
   "metadata": {
    "scrolled": true
   },
   "outputs": [],
   "source": [
    "def get_Token_Data():\n",
    "    http = urllib3.PoolManager()\n",
    "    response = http.request('GET', 'https://planetarycomputer.microsoft.com/api/sas/v1/token/sentinel5euwest/sentinel-5p')\n",
    "    data = json.loads(response.data.decode('utf-8'))\n",
    "    return data"
   ]
  },
  {
   "cell_type": "markdown",
   "id": "fe463978",
   "metadata": {},
   "source": [
    "# Check Token File"
   ]
  },
  {
   "cell_type": "markdown",
   "id": "0213b39f",
   "metadata": {},
   "source": [
    "## helper functions"
   ]
  },
  {
   "cell_type": "code",
   "execution_count": 4,
   "id": "449cc9b2",
   "metadata": {},
   "outputs": [],
   "source": [
    "def is_file_empty(file_path):\n",
    "    # check if file exist and is empty\n",
    "    return os.path.exists(file_path) and os.stat(file_path).st_size == 0\n",
    "\n",
    "def getTime():\n",
    "    dt = datetime().now().astimezone(timezone.pst)\n",
    "    dt_string = dt.isoformat(timespec = 'milliseconds').replace('+00:00', 'Z')\n",
    "    return dt_string\n",
    "    \n",
    "def checkToken(jsonData):\n",
    "    token_expiration = jsonData['msft:expiry']\n",
    "    currTime = getTime()\n",
    "    if token_expiration <= currTime :\n",
    "        print('token expired! expiration Time: ', currTime)\n",
    "        return 0\n",
    "    else:\n",
    "        print('token still Valid! expiration Time ', curTime)\n",
    "        return 1"
   ]
  },
  {
   "cell_type": "markdown",
   "id": "729205e0",
   "metadata": {},
   "source": [
    "## Read Token"
   ]
  },
  {
   "cell_type": "code",
   "execution_count": 5,
   "id": "c354d8a3",
   "metadata": {},
   "outputs": [],
   "source": [
    "sas_path = './tokens/sentinel-5p_sas.json'\n",
    "is_empty = is_file_empty(sas_path)\n",
    "\n",
    "if is_empty != 0:\n",
    "    with open(sas_path, 'r+') as f:\n",
    "        data = json.load(f)\n",
    "        if checkToken(data):\n",
    "            sas_token=data['token']\n",
    "        else:\n",
    "            newData = get_Token_Data()\n",
    "            sas_token = newData['token']\n",
    "            f.seek(0)\n",
    "            json.dump(newData, f)\n",
    "else:\n",
    "    with open(sas_path, 'r+') as f:\n",
    "        newData = get_Token_Data()\n",
    "        sas_token = newData['token']\n",
    "        f.seek(0)\n",
    "        json.dump(newData, f)"
   ]
  },
  {
   "cell_type": "markdown",
   "id": "eda9ea7a",
   "metadata": {},
   "source": [
    "# Azure storage constants"
   ]
  },
  {
   "cell_type": "code",
   "execution_count": 6,
   "id": "ab8afb62",
   "metadata": {},
   "outputs": [],
   "source": [
    "storage_account_name = 'sentinel5euwest'\n",
    "container_name = 'sentinel-5p'\n",
    "storage_account_url = 'https://' + storage_account_name + '.blob.core.windows.net/'\n",
    "\n",
    "container_client = ContainerClient(account_url=storage_account_url, \n",
    "                                                container_name=container_name,\n",
    "                                                credential=sas_token)"
   ]
  },
  {
   "cell_type": "markdown",
   "id": "342124d1",
   "metadata": {},
   "source": [
    "# List products matching our product/date"
   ]
  },
  {
   "cell_type": "code",
   "execution_count": 7,
   "id": "fe9a8498",
   "metadata": {
    "scrolled": true
   },
   "outputs": [
    {
     "name": "stdout",
     "output_type": "stream",
     "text": [
      "Searching for prefix TROPOMI/L2__CH4___/2022/03/01\n",
      "\n",
      "Found 14 matching scenes:\n",
      "\n",
      "S5P_OFFL_L2__CH4____20220301T004505_20220301T022635_22695_02_020301_20220302T164456.nc\n",
      "S5P_OFFL_L2__CH4____20220301T022635_20220301T040805_22696_02_020301_20220302T181137.nc\n",
      "S5P_OFFL_L2__CH4____20220301T040805_20220301T054936_22697_02_020301_20220302T200810.nc\n",
      "S5P_OFFL_L2__CH4____20220301T054936_20220301T073106_22698_02_020301_20220302T220046.nc\n",
      "S5P_OFFL_L2__CH4____20220301T073106_20220301T091237_22699_02_020301_20220302T234452.nc\n",
      "S5P_OFFL_L2__CH4____20220301T091237_20220301T105407_22700_02_020301_20220303T012017.nc\n",
      "S5P_OFFL_L2__CH4____20220301T105407_20220301T123537_22701_02_020301_20220303T031500.nc\n",
      "S5P_OFFL_L2__CH4____20220301T123537_20220301T141708_22702_02_020301_20220303T044722.nc\n",
      "S5P_OFFL_L2__CH4____20220301T141708_20220301T155838_22703_02_020301_20220303T061839.nc\n",
      "S5P_OFFL_L2__CH4____20220301T155838_20220301T174008_22704_02_020301_20220303T075219.nc\n",
      "S5P_OFFL_L2__CH4____20220301T174008_20220301T192139_22705_02_020301_20220303T100224.nc\n",
      "S5P_OFFL_L2__CH4____20220301T192139_20220301T210309_22706_02_020301_20220303T113041.nc\n",
      "S5P_OFFL_L2__CH4____20220301T210309_20220301T224440_22707_02_020301_20220303T125033.nc\n",
      "S5P_OFFL_L2__CH4____20220301T224440_20220302T002610_22708_02_020301_20220303T143253.nc\n"
     ]
    }
   ],
   "source": [
    "prefix = '/'.join(['TROPOMI',product,date])\n",
    "print('Searching for prefix {}'.format(prefix))\n",
    "generator = container_client.list_blobs(name_starts_with=prefix)\n",
    "scene_paths = [blob.name for blob in generator]\n",
    "print('\\nFound {} matching scenes:\\n'.format(len(scene_paths)))\n",
    "for s in scene_paths:\n",
    "    print(s.split('/')[-1])"
   ]
  },
  {
   "cell_type": "markdown",
   "id": "9a9e254b",
   "metadata": {},
   "source": [
    "# Print Metadata for one scene"
   ]
  },
  {
   "cell_type": "code",
   "execution_count": 8,
   "id": "0594f3d4",
   "metadata": {},
   "outputs": [
    {
     "name": "stdout",
     "output_type": "stream",
     "text": [
      "Processing image at URL:\n",
      "https://sentinel5euwest.blob.core.windows.net/sentinel-5p/TROPOMI/L2__CH4___/2022/03/01/S5P_OFFL_L2__CH4____20220301T123537_20220301T141708_22702_02_020301_20220303T044722/S5P_OFFL_L2__CH4____20220301T123537_20220301T141708_22702_02_020301_20220303T044722.nc\n"
     ]
    }
   ],
   "source": [
    "offl_scenes = [s for s in scene_paths if 'OFFL' in s]\n",
    "scene_path = offl_scenes[len(offl_scenes) // 2]\n",
    "url = storage_account_url + container_name + '/' + scene_path\n",
    "print('Processing image at URL:\\n{}'.format(url))"
   ]
  },
  {
   "cell_type": "markdown",
   "id": "00e9132c",
   "metadata": {},
   "source": [
    "# IT BREAKS HERE NEED TO FIND A WAY TO AUTHORIZE THE ACCESS TO THE URL WITH OUR TOKEN"
   ]
  },
  {
   "cell_type": "code",
   "execution_count": 9,
   "id": "efa45453",
   "metadata": {
    "scrolled": true
   },
   "outputs": [],
   "source": []
  },
  {
   "cell_type": "markdown",
   "id": "c81d75b7",
   "metadata": {},
   "source": [
    "# Open the Data"
   ]
  },
  {
   "cell_type": "code",
   "execution_count": 10,
   "id": "fae2e11a",
   "metadata": {},
   "outputs": [
    {
     "ename": "FileNotFoundError",
     "evalue": "https://sentinel5euwest.blob.core.windows.net/sentinel-5p/TROPOMI/L2__CH4___/2022/03/01/S5P_OFFL_L2__CH4____20220301T123537_20220301T141708_22702_02_020301_20220303T044722/S5P_OFFL_L2__CH4____20220301T123537_20220301T141708_22702_02_020301_20220303T044722.ncst=2022-04-01T23%3A56%3A27Z&se=2022-04-03T00%3A41%3A27Z&sp=rl&sv=2020-06-12&sr=c&skoid=c85c15d6-d1ae-42d4-af60-e2ca0f81359b&sktid=72f988bf-86f1-41af-91ab-2d7cd011db47&skt=2022-04-02T22%3A56%3A27Z&ske=2022-04-03T23%3A56%3A27Z&sks=b&skv=2020-06-12&sig=Q7VUMW4lsHZ56yA1UaUOgjV9LmLLsmIQdRMKbnu2ImQ%3D",
     "output_type": "error",
     "traceback": [
      "\u001b[1;31m---------------------------------------------------------------------------\u001b[0m",
      "\u001b[1;31mClientResponseError\u001b[0m                       Traceback (most recent call last)",
      "File \u001b[1;32m~\\anaconda3\\envs\\SeniorProject\\lib\\site-packages\\fsspec\\implementations\\http.py:383\u001b[0m, in \u001b[0;36mHTTPFileSystem._info\u001b[1;34m(self, url, **kwargs)\u001b[0m\n\u001b[0;32m    381\u001b[0m \u001b[38;5;28;01mtry\u001b[39;00m:\n\u001b[0;32m    382\u001b[0m     info\u001b[38;5;241m.\u001b[39mupdate(\n\u001b[1;32m--> 383\u001b[0m         \u001b[38;5;28;01mawait\u001b[39;00m _file_info(\n\u001b[0;32m    384\u001b[0m             url,\n\u001b[0;32m    385\u001b[0m             size_policy\u001b[38;5;241m=\u001b[39mpolicy,\n\u001b[0;32m    386\u001b[0m             session\u001b[38;5;241m=\u001b[39msession,\n\u001b[0;32m    387\u001b[0m             \u001b[38;5;241m*\u001b[39m\u001b[38;5;241m*\u001b[39m\u001b[38;5;28mself\u001b[39m\u001b[38;5;241m.\u001b[39mkwargs,\n\u001b[0;32m    388\u001b[0m             \u001b[38;5;241m*\u001b[39m\u001b[38;5;241m*\u001b[39mkwargs,\n\u001b[0;32m    389\u001b[0m         )\n\u001b[0;32m    390\u001b[0m     )\n\u001b[0;32m    391\u001b[0m     \u001b[38;5;28;01mif\u001b[39;00m info\u001b[38;5;241m.\u001b[39mget(\u001b[38;5;124m\"\u001b[39m\u001b[38;5;124msize\u001b[39m\u001b[38;5;124m\"\u001b[39m) \u001b[38;5;129;01mis\u001b[39;00m \u001b[38;5;129;01mnot\u001b[39;00m \u001b[38;5;28;01mNone\u001b[39;00m:\n",
      "File \u001b[1;32m~\\anaconda3\\envs\\SeniorProject\\lib\\site-packages\\fsspec\\implementations\\http.py:734\u001b[0m, in \u001b[0;36m_file_info\u001b[1;34m(url, session, size_policy, **kwargs)\u001b[0m\n\u001b[0;32m    733\u001b[0m \u001b[38;5;28;01masync\u001b[39;00m \u001b[38;5;28;01mwith\u001b[39;00m r:\n\u001b[1;32m--> 734\u001b[0m     \u001b[43mr\u001b[49m\u001b[38;5;241;43m.\u001b[39;49m\u001b[43mraise_for_status\u001b[49m\u001b[43m(\u001b[49m\u001b[43m)\u001b[49m\n\u001b[0;32m    736\u001b[0m     \u001b[38;5;66;03m# TODO:\u001b[39;00m\n\u001b[0;32m    737\u001b[0m     \u001b[38;5;66;03m#  recognise lack of 'Accept-Ranges',\u001b[39;00m\n\u001b[0;32m    738\u001b[0m     \u001b[38;5;66;03m#                 or 'Accept-Ranges': 'none' (not 'bytes')\u001b[39;00m\n\u001b[0;32m    739\u001b[0m     \u001b[38;5;66;03m#  to mean streaming only, no random access => return None\u001b[39;00m\n",
      "File \u001b[1;32m~\\anaconda3\\envs\\SeniorProject\\lib\\site-packages\\aiohttp\\client_reqrep.py:1004\u001b[0m, in \u001b[0;36mClientResponse.raise_for_status\u001b[1;34m(self)\u001b[0m\n\u001b[0;32m   1003\u001b[0m \u001b[38;5;28mself\u001b[39m\u001b[38;5;241m.\u001b[39mrelease()\n\u001b[1;32m-> 1004\u001b[0m \u001b[38;5;28;01mraise\u001b[39;00m ClientResponseError(\n\u001b[0;32m   1005\u001b[0m     \u001b[38;5;28mself\u001b[39m\u001b[38;5;241m.\u001b[39mrequest_info,\n\u001b[0;32m   1006\u001b[0m     \u001b[38;5;28mself\u001b[39m\u001b[38;5;241m.\u001b[39mhistory,\n\u001b[0;32m   1007\u001b[0m     status\u001b[38;5;241m=\u001b[39m\u001b[38;5;28mself\u001b[39m\u001b[38;5;241m.\u001b[39mstatus,\n\u001b[0;32m   1008\u001b[0m     message\u001b[38;5;241m=\u001b[39m\u001b[38;5;28mself\u001b[39m\u001b[38;5;241m.\u001b[39mreason,\n\u001b[0;32m   1009\u001b[0m     headers\u001b[38;5;241m=\u001b[39m\u001b[38;5;28mself\u001b[39m\u001b[38;5;241m.\u001b[39mheaders,\n\u001b[0;32m   1010\u001b[0m )\n",
      "\u001b[1;31mClientResponseError\u001b[0m: 404, message='The specified resource does not exist.', url=URL('https://sentinel5euwest.blob.core.windows.net/sentinel-5p/TROPOMI/L2__CH4___/2022/03/01/S5P_OFFL_L2__CH4____20220301T123537_20220301T141708_22702_02_020301_20220303T044722/S5P_OFFL_L2__CH4____20220301T123537_20220301T141708_22702_02_020301_20220303T044722.ncst=2022-04-01T23:56:27Z&se=2022-04-03T00:41:27Z&sp=rl&sv=2020-06-12&sr=c&skoid=c85c15d6-d1ae-42d4-af60-e2ca0f81359b&sktid=72f988bf-86f1-41af-91ab-2d7cd011db47&skt=2022-04-02T22:56:27Z&ske=2022-04-03T23:56:27Z&sks=b&skv=2020-06-12&sig=Q7VUMW4lsHZ56yA1UaUOgjV9LmLLsmIQdRMKbnu2ImQ=')",
      "\nThe above exception was the direct cause of the following exception:\n",
      "\u001b[1;31mFileNotFoundError\u001b[0m                         Traceback (most recent call last)",
      "Input \u001b[1;32mIn [10]\u001b[0m, in \u001b[0;36m<cell line: 1>\u001b[1;34m()\u001b[0m\n\u001b[1;32m----> 1\u001b[0m \u001b[38;5;28;01mwith\u001b[39;00m fsspec\u001b[38;5;241m.\u001b[39mopen(url\u001b[38;5;241m+\u001b[39msas_token) \u001b[38;5;28;01mas\u001b[39;00m f:\n\u001b[0;32m      2\u001b[0m     ds \u001b[38;5;241m=\u001b[39m xr\u001b[38;5;241m.\u001b[39mopen_dataset(f,group\u001b[38;5;241m=\u001b[39m\u001b[38;5;124m'\u001b[39m\u001b[38;5;124m/PRODUCT\u001b[39m\u001b[38;5;124m'\u001b[39m)\n\u001b[0;32m      3\u001b[0m \u001b[38;5;28mprint\u001b[39m(ds)\n",
      "File \u001b[1;32m~\\anaconda3\\envs\\SeniorProject\\lib\\site-packages\\fsspec\\core.py:103\u001b[0m, in \u001b[0;36mOpenFile.__enter__\u001b[1;34m(self)\u001b[0m\n\u001b[0;32m    100\u001b[0m \u001b[38;5;28;01mdef\u001b[39;00m \u001b[38;5;21m__enter__\u001b[39m(\u001b[38;5;28mself\u001b[39m):\n\u001b[0;32m    101\u001b[0m     mode \u001b[38;5;241m=\u001b[39m \u001b[38;5;28mself\u001b[39m\u001b[38;5;241m.\u001b[39mmode\u001b[38;5;241m.\u001b[39mreplace(\u001b[38;5;124m\"\u001b[39m\u001b[38;5;124mt\u001b[39m\u001b[38;5;124m\"\u001b[39m, \u001b[38;5;124m\"\u001b[39m\u001b[38;5;124m\"\u001b[39m)\u001b[38;5;241m.\u001b[39mreplace(\u001b[38;5;124m\"\u001b[39m\u001b[38;5;124mb\u001b[39m\u001b[38;5;124m\"\u001b[39m, \u001b[38;5;124m\"\u001b[39m\u001b[38;5;124m\"\u001b[39m) \u001b[38;5;241m+\u001b[39m \u001b[38;5;124m\"\u001b[39m\u001b[38;5;124mb\u001b[39m\u001b[38;5;124m\"\u001b[39m\n\u001b[1;32m--> 103\u001b[0m     f \u001b[38;5;241m=\u001b[39m \u001b[38;5;28;43mself\u001b[39;49m\u001b[38;5;241;43m.\u001b[39;49m\u001b[43mfs\u001b[49m\u001b[38;5;241;43m.\u001b[39;49m\u001b[43mopen\u001b[49m\u001b[43m(\u001b[49m\u001b[38;5;28;43mself\u001b[39;49m\u001b[38;5;241;43m.\u001b[39;49m\u001b[43mpath\u001b[49m\u001b[43m,\u001b[49m\u001b[43m \u001b[49m\u001b[43mmode\u001b[49m\u001b[38;5;241;43m=\u001b[39;49m\u001b[43mmode\u001b[49m\u001b[43m)\u001b[49m\n\u001b[0;32m    105\u001b[0m     \u001b[38;5;28mself\u001b[39m\u001b[38;5;241m.\u001b[39mfobjects \u001b[38;5;241m=\u001b[39m [f]\n\u001b[0;32m    107\u001b[0m     \u001b[38;5;28;01mif\u001b[39;00m \u001b[38;5;28mself\u001b[39m\u001b[38;5;241m.\u001b[39mcompression \u001b[38;5;129;01mis\u001b[39;00m \u001b[38;5;129;01mnot\u001b[39;00m \u001b[38;5;28;01mNone\u001b[39;00m:\n",
      "File \u001b[1;32m~\\anaconda3\\envs\\SeniorProject\\lib\\site-packages\\fsspec\\spec.py:1009\u001b[0m, in \u001b[0;36mAbstractFileSystem.open\u001b[1;34m(self, path, mode, block_size, cache_options, compression, **kwargs)\u001b[0m\n\u001b[0;32m   1007\u001b[0m \u001b[38;5;28;01melse\u001b[39;00m:\n\u001b[0;32m   1008\u001b[0m     ac \u001b[38;5;241m=\u001b[39m kwargs\u001b[38;5;241m.\u001b[39mpop(\u001b[38;5;124m\"\u001b[39m\u001b[38;5;124mautocommit\u001b[39m\u001b[38;5;124m\"\u001b[39m, \u001b[38;5;129;01mnot\u001b[39;00m \u001b[38;5;28mself\u001b[39m\u001b[38;5;241m.\u001b[39m_intrans)\n\u001b[1;32m-> 1009\u001b[0m     f \u001b[38;5;241m=\u001b[39m \u001b[38;5;28mself\u001b[39m\u001b[38;5;241m.\u001b[39m_open(\n\u001b[0;32m   1010\u001b[0m         path,\n\u001b[0;32m   1011\u001b[0m         mode\u001b[38;5;241m=\u001b[39mmode,\n\u001b[0;32m   1012\u001b[0m         block_size\u001b[38;5;241m=\u001b[39mblock_size,\n\u001b[0;32m   1013\u001b[0m         autocommit\u001b[38;5;241m=\u001b[39mac,\n\u001b[0;32m   1014\u001b[0m         cache_options\u001b[38;5;241m=\u001b[39mcache_options,\n\u001b[0;32m   1015\u001b[0m         \u001b[38;5;241m*\u001b[39m\u001b[38;5;241m*\u001b[39mkwargs,\n\u001b[0;32m   1016\u001b[0m     )\n\u001b[0;32m   1017\u001b[0m     \u001b[38;5;28;01mif\u001b[39;00m compression \u001b[38;5;129;01mis\u001b[39;00m \u001b[38;5;129;01mnot\u001b[39;00m \u001b[38;5;28;01mNone\u001b[39;00m:\n\u001b[0;32m   1018\u001b[0m         \u001b[38;5;28;01mfrom\u001b[39;00m \u001b[38;5;21;01mfsspec\u001b[39;00m\u001b[38;5;21;01m.\u001b[39;00m\u001b[38;5;21;01mcompression\u001b[39;00m \u001b[38;5;28;01mimport\u001b[39;00m compr\n",
      "File \u001b[1;32m~\\anaconda3\\envs\\SeniorProject\\lib\\site-packages\\fsspec\\implementations\\http.py:343\u001b[0m, in \u001b[0;36mHTTPFileSystem._open\u001b[1;34m(self, path, mode, block_size, autocommit, cache_type, cache_options, size, **kwargs)\u001b[0m\n\u001b[0;32m    341\u001b[0m kw[\u001b[38;5;124m\"\u001b[39m\u001b[38;5;124masynchronous\u001b[39m\u001b[38;5;124m\"\u001b[39m] \u001b[38;5;241m=\u001b[39m \u001b[38;5;28mself\u001b[39m\u001b[38;5;241m.\u001b[39masynchronous\n\u001b[0;32m    342\u001b[0m kw\u001b[38;5;241m.\u001b[39mupdate(kwargs)\n\u001b[1;32m--> 343\u001b[0m size \u001b[38;5;241m=\u001b[39m size \u001b[38;5;129;01mor\u001b[39;00m \u001b[38;5;28mself\u001b[39m\u001b[38;5;241m.\u001b[39minfo(path, \u001b[38;5;241m*\u001b[39m\u001b[38;5;241m*\u001b[39mkwargs)[\u001b[38;5;124m\"\u001b[39m\u001b[38;5;124msize\u001b[39m\u001b[38;5;124m\"\u001b[39m]\n\u001b[0;32m    344\u001b[0m session \u001b[38;5;241m=\u001b[39m sync(\u001b[38;5;28mself\u001b[39m\u001b[38;5;241m.\u001b[39mloop, \u001b[38;5;28mself\u001b[39m\u001b[38;5;241m.\u001b[39mset_session)\n\u001b[0;32m    345\u001b[0m \u001b[38;5;28;01mif\u001b[39;00m block_size \u001b[38;5;129;01mand\u001b[39;00m size:\n",
      "File \u001b[1;32m~\\anaconda3\\envs\\SeniorProject\\lib\\site-packages\\fsspec\\asyn.py:91\u001b[0m, in \u001b[0;36msync_wrapper.<locals>.wrapper\u001b[1;34m(*args, **kwargs)\u001b[0m\n\u001b[0;32m     88\u001b[0m \u001b[38;5;129m@functools\u001b[39m\u001b[38;5;241m.\u001b[39mwraps(func)\n\u001b[0;32m     89\u001b[0m \u001b[38;5;28;01mdef\u001b[39;00m \u001b[38;5;21mwrapper\u001b[39m(\u001b[38;5;241m*\u001b[39margs, \u001b[38;5;241m*\u001b[39m\u001b[38;5;241m*\u001b[39mkwargs):\n\u001b[0;32m     90\u001b[0m     \u001b[38;5;28mself\u001b[39m \u001b[38;5;241m=\u001b[39m obj \u001b[38;5;129;01mor\u001b[39;00m args[\u001b[38;5;241m0\u001b[39m]\n\u001b[1;32m---> 91\u001b[0m     \u001b[38;5;28;01mreturn\u001b[39;00m sync(\u001b[38;5;28mself\u001b[39m\u001b[38;5;241m.\u001b[39mloop, func, \u001b[38;5;241m*\u001b[39margs, \u001b[38;5;241m*\u001b[39m\u001b[38;5;241m*\u001b[39mkwargs)\n",
      "File \u001b[1;32m~\\anaconda3\\envs\\SeniorProject\\lib\\site-packages\\fsspec\\asyn.py:71\u001b[0m, in \u001b[0;36msync\u001b[1;34m(loop, func, timeout, *args, **kwargs)\u001b[0m\n\u001b[0;32m     69\u001b[0m     \u001b[38;5;28;01mraise\u001b[39;00m FSTimeoutError \u001b[38;5;28;01mfrom\u001b[39;00m \u001b[38;5;21;01mreturn_result\u001b[39;00m\n\u001b[0;32m     70\u001b[0m \u001b[38;5;28;01melif\u001b[39;00m \u001b[38;5;28misinstance\u001b[39m(return_result, \u001b[38;5;167;01mBaseException\u001b[39;00m):\n\u001b[1;32m---> 71\u001b[0m     \u001b[38;5;28;01mraise\u001b[39;00m return_result\n\u001b[0;32m     72\u001b[0m \u001b[38;5;28;01melse\u001b[39;00m:\n\u001b[0;32m     73\u001b[0m     \u001b[38;5;28;01mreturn\u001b[39;00m return_result\n",
      "File \u001b[1;32m~\\anaconda3\\envs\\SeniorProject\\lib\\site-packages\\fsspec\\asyn.py:25\u001b[0m, in \u001b[0;36m_runner\u001b[1;34m(event, coro, result, timeout)\u001b[0m\n\u001b[0;32m     23\u001b[0m     coro \u001b[38;5;241m=\u001b[39m asyncio\u001b[38;5;241m.\u001b[39mwait_for(coro, timeout\u001b[38;5;241m=\u001b[39mtimeout)\n\u001b[0;32m     24\u001b[0m \u001b[38;5;28;01mtry\u001b[39;00m:\n\u001b[1;32m---> 25\u001b[0m     result[\u001b[38;5;241m0\u001b[39m] \u001b[38;5;241m=\u001b[39m \u001b[38;5;28;01mawait\u001b[39;00m coro\n\u001b[0;32m     26\u001b[0m \u001b[38;5;28;01mexcept\u001b[39;00m \u001b[38;5;167;01mException\u001b[39;00m \u001b[38;5;28;01mas\u001b[39;00m ex:\n\u001b[0;32m     27\u001b[0m     result[\u001b[38;5;241m0\u001b[39m] \u001b[38;5;241m=\u001b[39m ex\n",
      "File \u001b[1;32m~\\anaconda3\\envs\\SeniorProject\\lib\\site-packages\\fsspec\\implementations\\http.py:396\u001b[0m, in \u001b[0;36mHTTPFileSystem._info\u001b[1;34m(self, url, **kwargs)\u001b[0m\n\u001b[0;32m    393\u001b[0m     \u001b[38;5;28;01mexcept\u001b[39;00m \u001b[38;5;167;01mException\u001b[39;00m \u001b[38;5;28;01mas\u001b[39;00m exc:\n\u001b[0;32m    394\u001b[0m         \u001b[38;5;28;01mif\u001b[39;00m policy \u001b[38;5;241m==\u001b[39m \u001b[38;5;124m\"\u001b[39m\u001b[38;5;124mget\u001b[39m\u001b[38;5;124m\"\u001b[39m:\n\u001b[0;32m    395\u001b[0m             \u001b[38;5;66;03m# If get failed, then raise a FileNotFoundError\u001b[39;00m\n\u001b[1;32m--> 396\u001b[0m             \u001b[38;5;28;01mraise\u001b[39;00m \u001b[38;5;167;01mFileNotFoundError\u001b[39;00m(url) \u001b[38;5;28;01mfrom\u001b[39;00m \u001b[38;5;21;01mexc\u001b[39;00m\n\u001b[0;32m    397\u001b[0m         logger\u001b[38;5;241m.\u001b[39mdebug(\u001b[38;5;28mstr\u001b[39m(exc))\n\u001b[0;32m    399\u001b[0m \u001b[38;5;28;01mreturn\u001b[39;00m {\u001b[38;5;124m\"\u001b[39m\u001b[38;5;124mname\u001b[39m\u001b[38;5;124m\"\u001b[39m: url, \u001b[38;5;124m\"\u001b[39m\u001b[38;5;124msize\u001b[39m\u001b[38;5;124m\"\u001b[39m: \u001b[38;5;28;01mNone\u001b[39;00m, \u001b[38;5;241m*\u001b[39m\u001b[38;5;241m*\u001b[39minfo, \u001b[38;5;124m\"\u001b[39m\u001b[38;5;124mtype\u001b[39m\u001b[38;5;124m\"\u001b[39m: \u001b[38;5;124m\"\u001b[39m\u001b[38;5;124mfile\u001b[39m\u001b[38;5;124m\"\u001b[39m}\n",
      "\u001b[1;31mFileNotFoundError\u001b[0m: https://sentinel5euwest.blob.core.windows.net/sentinel-5p/TROPOMI/L2__CH4___/2022/03/01/S5P_OFFL_L2__CH4____20220301T123537_20220301T141708_22702_02_020301_20220303T044722/S5P_OFFL_L2__CH4____20220301T123537_20220301T141708_22702_02_020301_20220303T044722.ncst=2022-04-01T23%3A56%3A27Z&se=2022-04-03T00%3A41%3A27Z&sp=rl&sv=2020-06-12&sr=c&skoid=c85c15d6-d1ae-42d4-af60-e2ca0f81359b&sktid=72f988bf-86f1-41af-91ab-2d7cd011db47&skt=2022-04-02T22%3A56%3A27Z&ske=2022-04-03T23%3A56%3A27Z&sks=b&skv=2020-06-12&sig=Q7VUMW4lsHZ56yA1UaUOgjV9LmLLsmIQdRMKbnu2ImQ%3D"
     ]
    }
   ],
   "source": [
    "with fsspec.open(url+sas_token) as f:\n",
    "    ds = xr.open_dataset(f,group='/PRODUCT')\n",
    "print(ds)"
   ]
  },
  {
   "cell_type": "code",
   "execution_count": null,
   "id": "09851057",
   "metadata": {},
   "outputs": [],
   "source": []
  }
 ],
 "metadata": {
  "kernelspec": {
   "display_name": "Python 3 (ipykernel)",
   "language": "python",
   "name": "python3"
  },
  "language_info": {
   "codemirror_mode": {
    "name": "ipython",
    "version": 3
   },
   "file_extension": ".py",
   "mimetype": "text/x-python",
   "name": "python",
   "nbconvert_exporter": "python",
   "pygments_lexer": "ipython3",
   "version": "3.9.7"
  }
 },
 "nbformat": 4,
 "nbformat_minor": 5
}
