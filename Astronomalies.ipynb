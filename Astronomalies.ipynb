{
 "cells": [
  {
   "cell_type": "markdown",
   "id": "4c433478",
   "metadata": {},
   "source": [
    "this set up was made with the help of this guide https://nbviewer.org/github/microsoft/AIforEarthDataSets/blob/main/data/sentinel-5p.ipynb#Auth-files"
   ]
  },
  {
   "cell_type": "markdown",
   "id": "ab2eee72",
   "metadata": {},
   "source": [
    "# Environment setup"
   ]
  },
  {
   "cell_type": "code",
   "execution_count": 1,
   "id": "ae1854d8",
   "metadata": {
    "scrolled": true
   },
   "outputs": [],
   "source": [
    "import os\n",
    "import fsspec\n",
    "import json\n",
    "import urllib3\n",
    "import xarray as xr\n",
    "import numpy as np\n",
    "from azure.storage.blob import ContainerClient\n",
    "from datetime import datetime, timezone\n",
    "\n",
    "# Not used directly, but needs to be installed to read NetCDF files with xarray\n",
    "import h5netcdf"
   ]
  },
  {
   "cell_type": "markdown",
   "id": "8981776a",
   "metadata": {},
   "source": [
    "# get Product & Date"
   ]
  },
  {
   "cell_type": "code",
   "execution_count": 2,
   "id": "f95b5df0",
   "metadata": {},
   "outputs": [
    {
     "name": "stdout",
     "output_type": "stream",
     "text": [
      "enter date [yyyy/mm/dd]: 2022/03/01\n",
      "enter your choice of Gas (O3 / NO2 / CH4): CH4\n"
     ]
    }
   ],
   "source": [
    "input_date = input('enter date [yyyy/mm/dd]: ')\n",
    "input_gas = input('enter your choice of Gas (O3 / NO2 / CH4): ')\n",
    "\n",
    "if input_gas == 'CH4':\n",
    "    product = 'L2__CH4___'\n",
    "else:\n",
    "    if input_gas == 'NO2':\n",
    "        product = 'L2__NO2___'\n",
    "    else:\n",
    "        product = 'L2__O3____'\n",
    "        \n",
    "date = input_date"
   ]
  },
  {
   "cell_type": "markdown",
   "id": "ca3213dc",
   "metadata": {},
   "source": [
    "# get Token from URL"
   ]
  },
  {
   "cell_type": "code",
   "execution_count": 3,
   "id": "0a54c390",
   "metadata": {
    "scrolled": true
   },
   "outputs": [],
   "source": [
    "def get_Token_Data():\n",
    "    http = urllib3.PoolManager()\n",
    "    response = http.request('GET', 'https://planetarycomputer.microsoft.com/api/sas/v1/token/sentinel5euwest/sentinel-5p')\n",
    "    data = json.loads(response.data.decode('utf-8'))\n",
    "    return data"
   ]
  },
  {
   "cell_type": "markdown",
   "id": "fe463978",
   "metadata": {},
   "source": [
    "# Check Token File"
   ]
  },
  {
   "cell_type": "markdown",
   "id": "0213b39f",
   "metadata": {},
   "source": [
    "## helper functions"
   ]
  },
  {
   "cell_type": "code",
   "execution_count": 4,
   "id": "449cc9b2",
   "metadata": {},
   "outputs": [],
   "source": [
    "def is_file_empty(file_path):\n",
    "    # check if file exist and is empty\n",
    "    return os.path.exists(file_path) and os.stat(file_path).st_size == 0\n",
    "\n",
    "def getTime():\n",
    "    dt = datetime().now().astimezone(timezone.pst)\n",
    "    dt_string = dt.isoformat(timespec = 'milliseconds').replace('+00:00', 'Z')\n",
    "    return dt_string\n",
    "    \n",
    "def checkToken(jsonData):\n",
    "    token_expiration = jsonData['msft:expiry']\n",
    "    currTime = getTime()\n",
    "    if token_expiration <= currTime :\n",
    "        print('token expired! expiration Time: ', currTime)\n",
    "        return 0\n",
    "    else:\n",
    "        print('token still Valid! expiration Time ', curTime)\n",
    "        return 1"
   ]
  },
  {
   "cell_type": "markdown",
   "id": "729205e0",
   "metadata": {},
   "source": [
    "## Read Token"
   ]
  },
  {
   "cell_type": "code",
   "execution_count": 5,
   "id": "c354d8a3",
   "metadata": {},
   "outputs": [],
   "source": [
    "sas_path = './tokens/sentinel-5p_sas.json'\n",
    "is_empty = is_file_empty(sas_path)\n",
    "\n",
    "if is_empty != 0:\n",
    "    with open(sas_path, 'r+') as f:\n",
    "        data = json.load(f)\n",
    "        if checkToken(data):\n",
    "            sas_token=data['token']\n",
    "        else:\n",
    "            newData = get_Token_Data()\n",
    "            sas_token = newData['token']\n",
    "            f.seek(0)\n",
    "            json.dump(newData, f)\n",
    "else:\n",
    "    with open(sas_path, 'r+') as f:\n",
    "        newData = get_Token_Data()\n",
    "        sas_token = newData['token']\n",
    "        f.seek(0)\n",
    "        json.dump(newData, f)"
   ]
  },
  {
   "cell_type": "markdown",
   "id": "eda9ea7a",
   "metadata": {},
   "source": [
    "# Azure storage constants"
   ]
  },
  {
   "cell_type": "code",
   "execution_count": 6,
   "id": "ab8afb62",
   "metadata": {},
   "outputs": [],
   "source": [
    "storage_account_name = 'sentinel5euwest'\n",
    "container_name = 'sentinel-5p'\n",
    "storage_account_url = 'https://' + storage_account_name + '.blob.core.windows.net/'\n",
    "\n",
    "container_client = ContainerClient(account_url=storage_account_url, \n",
    "                                                container_name=container_name,\n",
    "                                                credential=sas_token)"
   ]
  },
  {
   "cell_type": "markdown",
   "id": "342124d1",
   "metadata": {},
   "source": [
    "# List products matching our product/date"
   ]
  },
  {
   "cell_type": "code",
   "execution_count": 7,
   "id": "fe9a8498",
   "metadata": {
    "scrolled": true
   },
   "outputs": [
    {
     "name": "stdout",
     "output_type": "stream",
     "text": [
      "Searching for prefix TROPOMI/L2__CH4___/2022/03/01\n",
      "\n",
      "Found 14 matching scenes:\n",
      "\n",
      "S5P_OFFL_L2__CH4____20220301T004505_20220301T022635_22695_02_020301_20220302T164456.nc\n",
      "S5P_OFFL_L2__CH4____20220301T022635_20220301T040805_22696_02_020301_20220302T181137.nc\n",
      "S5P_OFFL_L2__CH4____20220301T040805_20220301T054936_22697_02_020301_20220302T200810.nc\n",
      "S5P_OFFL_L2__CH4____20220301T054936_20220301T073106_22698_02_020301_20220302T220046.nc\n",
      "S5P_OFFL_L2__CH4____20220301T073106_20220301T091237_22699_02_020301_20220302T234452.nc\n",
      "S5P_OFFL_L2__CH4____20220301T091237_20220301T105407_22700_02_020301_20220303T012017.nc\n",
      "S5P_OFFL_L2__CH4____20220301T105407_20220301T123537_22701_02_020301_20220303T031500.nc\n",
      "S5P_OFFL_L2__CH4____20220301T123537_20220301T141708_22702_02_020301_20220303T044722.nc\n",
      "S5P_OFFL_L2__CH4____20220301T141708_20220301T155838_22703_02_020301_20220303T061839.nc\n",
      "S5P_OFFL_L2__CH4____20220301T155838_20220301T174008_22704_02_020301_20220303T075219.nc\n",
      "S5P_OFFL_L2__CH4____20220301T174008_20220301T192139_22705_02_020301_20220303T100224.nc\n",
      "S5P_OFFL_L2__CH4____20220301T192139_20220301T210309_22706_02_020301_20220303T113041.nc\n",
      "S5P_OFFL_L2__CH4____20220301T210309_20220301T224440_22707_02_020301_20220303T125033.nc\n",
      "S5P_OFFL_L2__CH4____20220301T224440_20220302T002610_22708_02_020301_20220303T143253.nc\n"
     ]
    }
   ],
   "source": [
    "prefix = '/'.join(['TROPOMI',product,date])\n",
    "print('Searching for prefix {}'.format(prefix))\n",
    "generator = container_client.list_blobs(name_starts_with=prefix)\n",
    "scene_paths = [blob.name for blob in generator]\n",
    "print('\\nFound {} matching scenes:\\n'.format(len(scene_paths)))\n",
    "for s in scene_paths:\n",
    "    print(s.split('/')[-1])"
   ]
  },
  {
   "cell_type": "markdown",
   "id": "9a9e254b",
   "metadata": {},
   "source": [
    "# Print Metadata for one scene"
   ]
  },
  {
   "cell_type": "code",
   "execution_count": 8,
   "id": "0594f3d4",
   "metadata": {},
   "outputs": [
    {
     "name": "stdout",
     "output_type": "stream",
     "text": [
      "Processing image at URL:\n",
      "https://sentinel5euwest.blob.core.windows.net/sentinel-5p/TROPOMI/L2__CH4___/2022/03/01/S5P_OFFL_L2__CH4____20220301T123537_20220301T141708_22702_02_020301_20220303T044722/S5P_OFFL_L2__CH4____20220301T123537_20220301T141708_22702_02_020301_20220303T044722.nc\n"
     ]
    }
   ],
   "source": [
    "#different gas use different sc_mode, default CH4\n",
    "sc_mode = 'OFFL'\n",
    "if (product == 'L2__NO2___'):\n",
    "    sc_mode = 'NRTI'\n",
    "#need to add sc_mode for the other gases. will probably move this part to the beginning\n",
    "\n",
    "offl_scenes = [s for s in scene_paths if sc_mode in s]\n",
    "scene_path = offl_scenes[len(offl_scenes) // 2]\n",
    "url = storage_account_url + container_name + '/' + scene_path\n",
    "print('Processing image at URL:\\n{}'.format(url))"
   ]
  },
  {
   "cell_type": "markdown",
   "id": "00e9132c",
   "metadata": {},
   "source": [
    "## Sign URL"
   ]
  },
  {
   "cell_type": "code",
   "execution_count": 9,
   "id": "efa45453",
   "metadata": {
    "scrolled": true
   },
   "outputs": [
    {
     "name": "stdout",
     "output_type": "stream",
     "text": [
      "https://sentinel5euwest.blob.core.windows.net/sentinel-5p/TROPOMI/L2__CH4___/2022/03/01/S5P_OFFL_L2__CH4____20220301T123537_20220301T141708_22702_02_020301_20220303T044722/S5P_OFFL_L2__CH4____20220301T123537_20220301T141708_22702_02_020301_20220303T044722.nc?st=2022-04-30T18%3A07%3A57Z&se=2022-05-01T18%3A52%3A57Z&sp=rl&sv=2020-06-12&sr=c&skoid=c85c15d6-d1ae-42d4-af60-e2ca0f81359b&sktid=72f988bf-86f1-41af-91ab-2d7cd011db47&skt=2022-04-30T01%3A22%3A08Z&ske=2022-05-07T01%3A22%3A08Z&sks=b&skv=2020-06-12&sig=E8ydAgNeuwk%2BHwyZ8JZ3uyG%2B8MeyigUVQiBOboPUMIs%3D\n"
     ]
    }
   ],
   "source": [
    "import planetary_computer\n",
    "import pystac\n",
    "import rasterio\n",
    "\n",
    "#item: pystac.Item = ... # no idea what goes here been trying multiple things but still stuck\n",
    "b4_href = planetary_computer.sign(url) #i think this sign the url directly\n",
    "\n",
    "print(b4_href)\n",
    "#this print a url if clicked would download the scene\n",
    "\n",
    "\n"
   ]
  },
  {
   "cell_type": "code",
   "execution_count": 10,
   "id": "4ee26430",
   "metadata": {},
   "outputs": [],
   "source": [
    "def _create_dirs(dest_path):\n",
    "    if not os.path.exists(dest_path):\n",
    "        os.makedirs(dest_path)\n",
    "    elif not os.path.isdir(dest_path):\n",
    "        shutil.rmtree(dst_path)\n",
    "        os.makedirs(dest_path)"
   ]
  },
  {
   "cell_type": "markdown",
   "id": "c1809298",
   "metadata": {
    "scrolled": true
   },
   "source": [
    "# We cannot access and read the files directly from the blob. We will need to download it first.\n",
    "blob_list = container_client.list_blobs(name_starts_with=prefix)\n",
    "for blob in blob_list:\n",
    "        fname = os.path.join('data', blob.name)\n",
    "        print(f'Downloading {blob.name} to {fname}')\n",
    "\n",
    "        # get blob client which has download_blob method\n",
    "        blob_client = container_client.get_blob_client(blob)\n",
    "        _create_dirs(os.path.dirname(fname))\n",
    "        with open(fname, \"wb\") as download_file:\n",
    "            download_file.write(blob_client.download_blob().readall())"
   ]
  },
  {
   "cell_type": "code",
   "execution_count": 11,
   "id": "4707d562",
   "metadata": {},
   "outputs": [],
   "source": [
    "data = 'data\\TROPOMI/L2__CH4___/2022/03/01/S5P_OFFL_L2__CH4____20220301T004505_20220301T022635_22695_02_020301_20220302T164456/S5P_OFFL_L2__CH4____20220301T004505_20220301T022635_22695_02_020301_20220302T164456.nc'"
   ]
  },
  {
   "cell_type": "code",
   "execution_count": 12,
   "id": "c0fc4ac2",
   "metadata": {},
   "outputs": [
    {
     "name": "stdout",
     "output_type": "stream",
     "text": [
      "<class 'netCDF4._netCDF4.Dataset'>\n",
      "root group (NETCDF4 data model, file format HDF5):\n",
      "    Conventions: CF-1.7\n",
      "    institution: KNMI/SRON\n",
      "    source: Sentinel 5 precursor, TROPOMI, space-borne remote sensing, L2\n",
      "    history: 2022-03-02 19:17:53 f_s5pops tropnll2dp /mnt/data1/storage_offl_l2/cache_offl_l2/WORKING-610672580/JobOrder.610672551.xml\n",
      "    summary: TROPOMI/S5P Methane 1-Orbit L2 Swath 5.5x7.0km\n",
      "    tracking_id: 5acbcf38-5b5a-4ce4-9922-786c6b8de93a\n",
      "    id: S5P_OFFL_L2__CH4____20220301T004505_20220301T022635_22695_02_020301_20220302T164456\n",
      "    time_reference: 2022-03-01T00:00:00Z\n",
      "    time_reference_days_since_1950: 26357\n",
      "    time_reference_julian_day: 2459639.5\n",
      "    time_reference_seconds_since_1970: 1646092800\n",
      "    time_coverage_start: 2022-03-01T01:06:40Z\n",
      "    time_coverage_end: 2022-03-01T02:05:03Z\n",
      "    time_coverage_duration: PT3503.561S\n",
      "    time_coverage_resolution: PT0.840S\n",
      "    orbit: 22695\n",
      "    references: http://www.tropomi.eu/data-products/methane https://sentinels.copernicus.eu/web/sentinel/technical-guides/sentinel-5p/products-algorithms\n",
      "    processor_version: 2.3.1\n",
      "    keywords_vocabulary: AGU index terms, http://publications.agu.org/author-resource-center/index-terms/\n",
      "    keywords: 0300 Atmospheric Composition and Structure; 0365 Troposphere, Composition and Chemistry; 0400 Biogeosciences; 0428 Carbon Cycling; 1600 Global Change\n",
      "    standard_name_vocabulary: NetCDF Climate and Forecast Metadata Conventions Standard Name Table (v29, 08 July 2015), http://cfconventions.org/standard-names.html\n",
      "    naming_authority: nl.knmi\n",
      "    cdm_data_type: Swath\n",
      "    date_created: 2022-03-02T16:44:59Z\n",
      "    creator_name: The Sentinel 5 Precursor TROPOMI Level 2 products are developed with funding from the European Space Agency (ESA), the Netherlands Space Office (NSO), the Belgian Science Policy Office, the German Aerospace Center (DLR) and the Bayerisches Staatsministerium für Wirtschaft und Medien, Energie und Technologie (StMWi).\n",
      "    creator_url: http://www.tropomi.eu https://sentinels.copernicus.eu/web/sentinel/missions/sentinel-5p\n",
      "    creator_email: EOSupport@Copernicus.esa.int\n",
      "    project: Sentinel 5 precursor/TROPOMI\n",
      "    geospatial_lat_min: -89.94022\n",
      "    geospatial_lat_max: 89.94012\n",
      "    geospatial_lon_min: -179.99992\n",
      "    geospatial_lon_max: 180.0\n",
      "    license: No conditions apply\n",
      "    platform: S5P\n",
      "    sensor: TROPOMI\n",
      "    spatial_resolution: 5.5x7.0 km2\n",
      "    cpp_compiler_version: g++ (GCC) 4.8.5 20150623 (Red Hat 4.8.5-11)\n",
      "    cpp_compiler_flags: -g -O2 -fPIC -std=c++11 -W -Wall -Wno-ignored-qualifiers -Wno-write-strings -Wno-unused-variable -Wno-unused-parameter -DTROPNLL2DP\n",
      "    f90_compiler_version: GNU Fortran (GCC) 4.8.5 20150623 (Red Hat 4.8.5-11)\n",
      "    f90_compiler_flags: -gdwarf-3 -O2 -fPIC -cpp -ffpe-trap=invalid -fno-range-check -frecursive -fimplicit-none -ffree-line-length-none -DTROPNLL2DP -Wuninitialized -Wtabs\n",
      "    build_date: 2021-10-08T11:04:00Z\n",
      "    revision_control_identifier: d70206b382e3\n",
      "    geolocation_grid_from_band: 7\n",
      "    identifier_product_doi: 10.5270/S5P-3lcdqiv\n",
      "    identifier_product_doi_authority: http://dx.doi.org/\n",
      "    algorithm_version: 1.4.0\n",
      "    title: TROPOMI/S5P Methane 1-Orbit L2 Swath 5.5x7.0km\n",
      "    product_version: 1.4.0\n",
      "    processing_status: Nominal\n",
      "    Status_MET_2D: Nominal\n",
      "    Status_CTM_CO: Nominal\n",
      "    Status_CTMCH4: Nominal\n",
      "    Status_NPP_VIIRS: Nominal\n",
      "    dimensions(sizes): \n",
      "    variables(dimensions): \n",
      "    groups: PRODUCT, METADATA\n"
     ]
    }
   ],
   "source": [
    "from netCDF4 import Dataset\n",
    "\n",
    "fh = Dataset(data, mode = 'r')\n",
    "\n",
    "print(fh)"
   ]
  },
  {
   "cell_type": "code",
   "execution_count": 13,
   "id": "e4fd2c35",
   "metadata": {},
   "outputs": [
    {
     "name": "stdout",
     "output_type": "stream",
     "text": [
      "<xarray.Dataset>\n",
      "Dimensions:  ()\n",
      "Data variables:\n",
      "    *empty*\n",
      "Attributes: (12/53)\n",
      "    Conventions:                        CF-1.7\n",
      "    institution:                        KNMI/SRON\n",
      "    source:                             Sentinel 5 precursor, TROPOMI, space-...\n",
      "    history:                            2022-03-02 19:17:53 f_s5pops tropnll2...\n",
      "    summary:                            TROPOMI/S5P Methane 1-Orbit L2 Swath ...\n",
      "    tracking_id:                        5acbcf38-5b5a-4ce4-9922-786c6b8de93a\n",
      "    ...                                 ...\n",
      "    product_version:                    1.4.0\n",
      "    processing_status:                  Nominal\n",
      "    Status_MET_2D:                      Nominal\n",
      "    Status_CTM_CO:                      Nominal\n",
      "    Status_CTMCH4:                      Nominal\n",
      "    Status_NPP_VIIRS:                   Nominal\n"
     ]
    }
   ],
   "source": [
    "ds = xr.open_dataset(data)\n",
    "print(ds)"
   ]
  },
  {
   "cell_type": "code",
   "execution_count": 14,
   "id": "c4523166",
   "metadata": {},
   "outputs": [
    {
     "name": "stdout",
     "output_type": "stream",
     "text": [
      "<xarray.Dataset>\n",
      "Dimensions:                              (scanline: 4172, ground_pixel: 215, time: 1, corner: 4, layer: 12, level: 13)\n",
      "Coordinates:\n",
      "  * scanline                             (scanline) float64 0.0 ... 4.171e+03\n",
      "  * ground_pixel                         (ground_pixel) float64 0.0 ... 214.0\n",
      "  * time                                 (time) datetime64[ns] 2022-03-01\n",
      "  * corner                               (corner) float64 0.0 1.0 2.0 3.0\n",
      "  * layer                                (layer) float64 0.0 1.0 ... 10.0 11.0\n",
      "  * level                                (level) float64 0.0 1.0 ... 11.0 12.0\n",
      "    latitude                             (time, scanline, ground_pixel) float32 ...\n",
      "    longitude                            (time, scanline, ground_pixel) float32 ...\n",
      "Data variables:\n",
      "    delta_time                           (time, scanline) datetime64[ns] ...\n",
      "    time_utc                             (time, scanline) object ...\n",
      "    qa_value                             (time, scanline, ground_pixel) float32 ...\n",
      "    methane_mixing_ratio                 (time, scanline, ground_pixel) float32 ...\n",
      "    methane_mixing_ratio_precision       (time, scanline, ground_pixel) float32 ...\n",
      "    methane_mixing_ratio_bias_corrected  (time, scanline, ground_pixel) float32 ...\n"
     ]
    }
   ],
   "source": [
    "with fsspec.open(data) as f:\n",
    "    ds = xr.open_dataset(f,group='/PRODUCT')\n",
    "print(ds)"
   ]
  },
  {
   "cell_type": "code",
   "execution_count": null,
   "id": "933dac62",
   "metadata": {},
   "outputs": [],
   "source": []
  }
 ],
 "metadata": {
  "kernelspec": {
   "display_name": "Python 3 (ipykernel)",
   "language": "python",
   "name": "python3"
  },
  "language_info": {
   "codemirror_mode": {
    "name": "ipython",
    "version": 3
   },
   "file_extension": ".py",
   "mimetype": "text/x-python",
   "name": "python",
   "nbconvert_exporter": "python",
   "pygments_lexer": "ipython3",
   "version": "3.9.7"
  }
 },
 "nbformat": 4,
 "nbformat_minor": 5
}
