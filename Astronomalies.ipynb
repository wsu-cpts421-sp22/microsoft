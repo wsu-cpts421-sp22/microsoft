{
 "cells": [
  {
   "cell_type": "markdown",
   "id": "4c433478",
   "metadata": {},
   "source": [
    "this set up was made with the help of this guide https://nbviewer.org/github/microsoft/AIforEarthDataSets/blob/main/data/sentinel-5p.ipynb#Auth-files"
   ]
  },
  {
   "cell_type": "markdown",
   "id": "ab2eee72",
   "metadata": {},
   "source": [
    "# Environment setup"
   ]
  },
  {
   "cell_type": "code",
   "execution_count": 3,
   "id": "ae1854d8",
   "metadata": {
    "scrolled": true
   },
   "outputs": [
    {
     "ename": "ModuleNotFoundError",
     "evalue": "No module named 'azure'",
     "output_type": "error",
     "traceback": [
      "\u001b[1;31m---------------------------------------------------------------------------\u001b[0m",
      "\u001b[1;31mModuleNotFoundError\u001b[0m                       Traceback (most recent call last)",
      "\u001b[1;32m~\\AppData\\Local\\Temp/ipykernel_17468/1350658083.py\u001b[0m in \u001b[0;36m<module>\u001b[1;34m\u001b[0m\n\u001b[0;32m      5\u001b[0m \u001b[1;32mimport\u001b[0m \u001b[0mxarray\u001b[0m \u001b[1;32mas\u001b[0m \u001b[0mxr\u001b[0m\u001b[1;33m\u001b[0m\u001b[1;33m\u001b[0m\u001b[0m\n\u001b[0;32m      6\u001b[0m \u001b[1;32mimport\u001b[0m \u001b[0mnumpy\u001b[0m \u001b[1;32mas\u001b[0m \u001b[0mnp\u001b[0m\u001b[1;33m\u001b[0m\u001b[1;33m\u001b[0m\u001b[0m\n\u001b[1;32m----> 7\u001b[1;33m \u001b[1;32mfrom\u001b[0m \u001b[0mazure\u001b[0m\u001b[1;33m.\u001b[0m\u001b[0mstorage\u001b[0m\u001b[1;33m.\u001b[0m\u001b[0mblob\u001b[0m \u001b[1;32mimport\u001b[0m \u001b[0mContainerClient\u001b[0m\u001b[1;33m\u001b[0m\u001b[1;33m\u001b[0m\u001b[0m\n\u001b[0m\u001b[0;32m      8\u001b[0m \u001b[1;32mfrom\u001b[0m \u001b[0mdatetime\u001b[0m \u001b[1;32mimport\u001b[0m \u001b[0mdatetime\u001b[0m\u001b[1;33m,\u001b[0m \u001b[0mtimezone\u001b[0m\u001b[1;33m\u001b[0m\u001b[1;33m\u001b[0m\u001b[0m\n\u001b[0;32m      9\u001b[0m \u001b[1;33m\u001b[0m\u001b[0m\n",
      "\u001b[1;31mModuleNotFoundError\u001b[0m: No module named 'azure'"
     ]
    }
   ],
   "source": [
    "import os\n",
    "import fsspec\n",
    "import json\n",
    "import urllib3\n",
    "import xarray as xr\n",
    "import numpy as np\n",
    "from azure.storage.blob import ContainerClient\n",
    "from datetime import datetime, timezone\n",
    "\n",
    "# Not used directly, but needs to be installed to read NetCDF files with xarray\n",
    "import h5netcdf"
   ]
  },
  {
   "cell_type": "markdown",
   "id": "8981776a",
   "metadata": {},
   "source": [
    "# Constants"
   ]
  },
  {
   "cell_type": "code",
   "execution_count": null,
   "id": "f95b5df0",
   "metadata": {},
   "outputs": [],
   "source": [
    "# Let's look at ozone concentration from mid-day on Jan 1, 2021\n",
    "product = 'L2__O3____'\n",
    "date = '2021/01/01'"
   ]
  },
  {
   "cell_type": "markdown",
   "id": "ca3213dc",
   "metadata": {},
   "source": [
    "# get Token from URL"
   ]
  },
  {
   "cell_type": "code",
   "execution_count": null,
   "id": "0a54c390",
   "metadata": {
    "scrolled": true
   },
   "outputs": [],
   "source": [
    "def get_Token_Data():\n",
    "    http = urllib3.PoolManager()\n",
    "    response = http.request('GET', 'https://planetarycomputer.microsoft.com/api/sas/v1/token/sentinel5euwest/sentinel-5p')\n",
    "    data = json.loads(response.data.decode('utf-8'))\n",
    "    return data"
   ]
  },
  {
   "cell_type": "markdown",
   "id": "fe463978",
   "metadata": {},
   "source": [
    "# Check Token File"
   ]
  },
  {
   "cell_type": "markdown",
   "id": "0213b39f",
   "metadata": {},
   "source": [
    "## helper functions"
   ]
  },
  {
   "cell_type": "code",
   "execution_count": null,
   "id": "449cc9b2",
   "metadata": {},
   "outputs": [],
   "source": [
    "def is_file_empty(file_path):\n",
    "    # check if file exist and is empty\n",
    "    return os.path.exists(file_path) and os.stat(file_path).st_size == 0\n",
    "\n",
    "def getTime():\n",
    "    dt = datetime().now().astimezone(timezone.pst)\n",
    "    dt_string = dt.isoformat(timespec = 'milliseconds').replace('+00:00', 'Z')\n",
    "    return dt_string\n",
    "    \n",
    "def checkToken(jsonData):\n",
    "    token_expiration = jsonData['msft:expiry']\n",
    "    currTime = getTime()\n",
    "    if token_expiration <= currTime :\n",
    "        print('token expired! expiration Time: ', currTime)\n",
    "        return false\n",
    "    else:\n",
    "        print('token still Valid! expiration Time ', curTime)\n",
    "        return true"
   ]
  },
  {
   "cell_type": "markdown",
   "id": "729205e0",
   "metadata": {},
   "source": [
    "## Read Token"
   ]
  },
  {
   "cell_type": "code",
   "execution_count": null,
   "id": "c354d8a3",
   "metadata": {},
   "outputs": [],
   "source": [
    "sas_path = './tokens/sentinel-5p_sas.json'\n",
    "is_empty = is_file_empty(sas_path)\n",
    "\n",
    "if !is_empty:\n",
    "    with open(sas_path, 'r+') as f:\n",
    "        data = json.load(f)\n",
    "        if checkToken(data):\n",
    "            sas_token=data['token']\n",
    "        else:\n",
    "            newData = get_Token_Data()\n",
    "            sas_token = newData['token']\n",
    "            f.seek(0)\n",
    "            json.dump(newData, f)\n",
    "else:\n",
    "    newData = get_Token_Data()\n",
    "    sas_token = newData['token']\n",
    "    f.seek(0)\n",
    "    json.dump(newData, f)"
   ]
  },
  {
   "cell_type": "markdown",
   "id": "eda9ea7a",
   "metadata": {},
   "source": [
    "# Azure storage constants"
   ]
  },
  {
   "cell_type": "code",
   "execution_count": null,
   "id": "ab8afb62",
   "metadata": {},
   "outputs": [],
   "source": [
    "storage_account_name = 'sentinel5euwest'\n",
    "container_name = 'sentinel-5p'\n",
    "storage_account_url = 'https://' + storage_account_name + '.blob.core.windows.net/'\n",
    "\n",
    "container_client = ContainerClient(account_url=storage_account_url, \n",
    "                                                container_name=container_name,\n",
    "                                                credential=sas_token)"
   ]
  },
  {
   "cell_type": "markdown",
   "id": "342124d1",
   "metadata": {},
   "source": [
    "# List products matching our product/date"
   ]
  },
  {
   "cell_type": "code",
   "execution_count": null,
   "id": "fe9a8498",
   "metadata": {
    "scrolled": true
   },
   "outputs": [],
   "source": [
    "prefix = '/'.join(['TROPOMI',product,date])\n",
    "print('Searching for prefix {}'.format(prefix))\n",
    "generator = container_client.list_blobs(name_starts_with=prefix)\n",
    "scene_paths = [blob.name for blob in generator]\n",
    "print('\\nFound {} matching scenes:\\n'.format(len(scene_paths)))\n",
    "for s in scene_paths:\n",
    "    print(s.split('/')[-1])"
   ]
  }
 ],
 "metadata": {
  "kernelspec": {
   "display_name": "Python 3 (ipykernel)",
   "language": "python",
   "name": "python3"
  },
  "language_info": {
   "codemirror_mode": {
    "name": "ipython",
    "version": 3
   },
   "file_extension": ".py",
   "mimetype": "text/x-python",
   "name": "python",
   "nbconvert_exporter": "python",
   "pygments_lexer": "ipython3",
   "version": "3.9.7"
  }
 },
 "nbformat": 4,
 "nbformat_minor": 5
}
