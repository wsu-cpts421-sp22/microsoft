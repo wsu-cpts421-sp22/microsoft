{
 "cells": [
  {
   "cell_type": "markdown",
   "id": "4c433478",
   "metadata": {},
   "source": [
    "this set up was made with the help of this guide https://nbviewer.org/github/microsoft/AIforEarthDataSets/blob/main/data/sentinel-5p.ipynb#Auth-files"
   ]
  },
  {
   "cell_type": "markdown",
   "id": "ab2eee72",
   "metadata": {},
   "source": [
    "# Environment setup"
   ]
  },
  {
   "cell_type": "code",
   "execution_count": 1,
   "id": "ae1854d8",
   "metadata": {
    "scrolled": true
   },
   "outputs": [],
   "source": [
    "import os\n",
    "import fsspec\n",
    "import json\n",
    "import urllib3\n",
    "import xarray as xr\n",
    "import numpy as np\n",
    "from azure.storage.blob import ContainerClient\n",
    "from datetime import datetime, timezone\n",
    "\n",
    "# Not used directly, but needs to be installed to read NetCDF files with xarray\n",
    "import h5netcdf"
   ]
  },
  {
   "cell_type": "markdown",
   "id": "8981776a",
   "metadata": {},
   "source": [
    "# get Product & Date"
   ]
  },
  {
   "cell_type": "code",
   "execution_count": 2,
   "id": "f95b5df0",
   "metadata": {},
   "outputs": [
    {
     "name": "stdout",
     "output_type": "stream",
     "text": [
      "enter date [yyyy/mm/dd]: 2022/03/01\n",
      "enter your choice of Gas (O3 / NO2 / CH4): CH4\n"
     ]
    }
   ],
   "source": [
    "input_date = input('enter date [yyyy/mm/dd]: ')\n",
    "input_gas = input('enter your choice of Gas (O3 / NO2 / CH4): ')\n",
    "\n",
    "if input_gas == 'CH4':\n",
    "    product = 'L2__CH4___'\n",
    "else:\n",
    "    if input_gas == 'NO2':\n",
    "        product = 'L2__NO2___'\n",
    "    else:\n",
    "        product = 'L2__O3____'\n",
    "        \n",
    "date = input_date"
   ]
  },
  {
   "cell_type": "markdown",
   "id": "ca3213dc",
   "metadata": {},
   "source": [
    "# get Token from URL"
   ]
  },
  {
   "cell_type": "code",
   "execution_count": 3,
   "id": "0a54c390",
   "metadata": {
    "scrolled": true
   },
   "outputs": [],
   "source": [
    "def get_Token_Data():\n",
    "    http = urllib3.PoolManager()\n",
    "    response = http.request('GET', 'https://planetarycomputer.microsoft.com/api/sas/v1/token/sentinel5euwest/sentinel-5p')\n",
    "    data = json.loads(response.data.decode('utf-8'))\n",
    "    return data"
   ]
  },
  {
   "cell_type": "markdown",
   "id": "fe463978",
   "metadata": {},
   "source": [
    "# Check Token File"
   ]
  },
  {
   "cell_type": "markdown",
   "id": "0213b39f",
   "metadata": {},
   "source": [
    "## helper functions"
   ]
  },
  {
   "cell_type": "code",
   "execution_count": 4,
   "id": "449cc9b2",
   "metadata": {},
   "outputs": [],
   "source": [
    "def is_file_empty(file_path):\n",
    "    # check if file exist and is empty\n",
    "    return os.path.exists(file_path) and os.stat(file_path).st_size == 0\n",
    "\n",
    "def getTime():\n",
    "    dt = datetime().now().astimezone(timezone.pst)\n",
    "    dt_string = dt.isoformat(timespec = 'milliseconds').replace('+00:00', 'Z')\n",
    "    return dt_string\n",
    "    \n",
    "def checkToken(jsonData):\n",
    "    token_expiration = jsonData['msft:expiry']\n",
    "    currTime = getTime()\n",
    "    if token_expiration <= currTime :\n",
    "        print('token expired! expiration Time: ', currTime)\n",
    "        return 0\n",
    "    else:\n",
    "        print('token still Valid! expiration Time ', curTime)\n",
    "        return 1"
   ]
  },
  {
   "cell_type": "markdown",
   "id": "729205e0",
   "metadata": {},
   "source": [
    "## Read Token"
   ]
  },
  {
   "cell_type": "code",
   "execution_count": 5,
   "id": "c354d8a3",
   "metadata": {},
   "outputs": [],
   "source": [
    "sas_path = './tokens/sentinel-5p_sas.json'\n",
    "is_empty = is_file_empty(sas_path)\n",
    "\n",
    "if is_empty != 0:\n",
    "    with open(sas_path, 'r+') as f:\n",
    "        data = json.load(f)\n",
    "        if checkToken(data):\n",
    "            sas_token=data['token']\n",
    "        else:\n",
    "            newData = get_Token_Data()\n",
    "            sas_token = newData['token']\n",
    "            f.seek(0)\n",
    "            json.dump(newData, f)\n",
    "else:\n",
    "    with open(sas_path, 'r+') as f:\n",
    "        newData = get_Token_Data()\n",
    "        sas_token = newData['token']\n",
    "        f.seek(0)\n",
    "        json.dump(newData, f)"
   ]
  },
  {
   "cell_type": "markdown",
   "id": "eda9ea7a",
   "metadata": {},
   "source": [
    "# Azure storage constants"
   ]
  },
  {
   "cell_type": "code",
   "execution_count": 6,
   "id": "ab8afb62",
   "metadata": {},
   "outputs": [],
   "source": [
    "storage_account_name = 'sentinel5euwest'\n",
    "container_name = 'sentinel-5p'\n",
    "storage_account_url = 'https://' + storage_account_name + '.blob.core.windows.net/'\n",
    "\n",
    "container_client = ContainerClient(account_url=storage_account_url, \n",
    "                                                container_name=container_name,\n",
    "                                                credential=sas_token)"
   ]
  },
  {
   "cell_type": "markdown",
   "id": "342124d1",
   "metadata": {},
   "source": [
    "# List products matching our product/date"
   ]
  },
  {
   "cell_type": "code",
   "execution_count": 7,
   "id": "fe9a8498",
   "metadata": {
    "scrolled": true
   },
   "outputs": [
    {
     "name": "stdout",
     "output_type": "stream",
     "text": [
      "Searching for prefix TROPOMI/L2__CH4___/2022/03/01\n",
      "\n",
      "Found 14 matching scenes:\n",
      "\n",
      "S5P_OFFL_L2__CH4____20220301T004505_20220301T022635_22695_02_020301_20220302T164456.nc\n",
      "S5P_OFFL_L2__CH4____20220301T022635_20220301T040805_22696_02_020301_20220302T181137.nc\n",
      "S5P_OFFL_L2__CH4____20220301T040805_20220301T054936_22697_02_020301_20220302T200810.nc\n",
      "S5P_OFFL_L2__CH4____20220301T054936_20220301T073106_22698_02_020301_20220302T220046.nc\n",
      "S5P_OFFL_L2__CH4____20220301T073106_20220301T091237_22699_02_020301_20220302T234452.nc\n",
      "S5P_OFFL_L2__CH4____20220301T091237_20220301T105407_22700_02_020301_20220303T012017.nc\n",
      "S5P_OFFL_L2__CH4____20220301T105407_20220301T123537_22701_02_020301_20220303T031500.nc\n",
      "S5P_OFFL_L2__CH4____20220301T123537_20220301T141708_22702_02_020301_20220303T044722.nc\n",
      "S5P_OFFL_L2__CH4____20220301T141708_20220301T155838_22703_02_020301_20220303T061839.nc\n",
      "S5P_OFFL_L2__CH4____20220301T155838_20220301T174008_22704_02_020301_20220303T075219.nc\n",
      "S5P_OFFL_L2__CH4____20220301T174008_20220301T192139_22705_02_020301_20220303T100224.nc\n",
      "S5P_OFFL_L2__CH4____20220301T192139_20220301T210309_22706_02_020301_20220303T113041.nc\n",
      "S5P_OFFL_L2__CH4____20220301T210309_20220301T224440_22707_02_020301_20220303T125033.nc\n",
      "S5P_OFFL_L2__CH4____20220301T224440_20220302T002610_22708_02_020301_20220303T143253.nc\n"
     ]
    }
   ],
   "source": [
    "prefix = '/'.join(['TROPOMI',product,date])\n",
    "print('Searching for prefix {}'.format(prefix))\n",
    "generator = container_client.list_blobs(name_starts_with=prefix)\n",
    "scene_paths = [blob.name for blob in generator]\n",
    "print('\\nFound {} matching scenes:\\n'.format(len(scene_paths)))\n",
    "for s in scene_paths:\n",
    "    print(s.split('/')[-1])"
   ]
  },
  {
   "cell_type": "markdown",
   "id": "9a9e254b",
   "metadata": {},
   "source": [
    "# Print Metadata for one scene"
   ]
  },
  {
   "cell_type": "code",
   "execution_count": 8,
   "id": "0594f3d4",
   "metadata": {},
   "outputs": [
    {
     "name": "stdout",
     "output_type": "stream",
     "text": [
      "Processing image at URL:\n",
      "https://sentinel5euwest.blob.core.windows.net/sentinel-5p/TROPOMI/L2__CH4___/2022/03/01/S5P_OFFL_L2__CH4____20220301T123537_20220301T141708_22702_02_020301_20220303T044722/S5P_OFFL_L2__CH4____20220301T123537_20220301T141708_22702_02_020301_20220303T044722.nc\n"
     ]
    }
   ],
   "source": [
    "offl_scenes = [s for s in scene_paths if 'OFFL' in s]\n",
    "scene_path = offl_scenes[len(offl_scenes) // 2]\n",
    "url = storage_account_url + container_name + '/' + scene_path\n",
    "print('Processing image at URL:\\n{}'.format(url))"
   ]
  },
  {
   "cell_type": "markdown",
   "id": "00e9132c",
   "metadata": {},
   "source": [
    "# Sign URL"
   ]
  },
  {
   "cell_type": "code",
   "execution_count": 11,
   "id": "efa45453",
   "metadata": {
    "scrolled": true
   },
   "outputs": [
    {
     "name": "stdout",
     "output_type": "stream",
     "text": [
      "https://sentinel5euwest.blob.core.windows.net/sentinel-5p/TROPOMI/L2__CH4___/2022/03/01/S5P_OFFL_L2__CH4____20220301T123537_20220301T141708_22702_02_020301_20220303T044722/S5P_OFFL_L2__CH4____20220301T123537_20220301T141708_22702_02_020301_20220303T044722.nc?st=2022-04-02T00%3A12%3A40Z&se=2022-04-03T00%3A57%3A40Z&sp=rl&sv=2020-06-12&sr=c&skoid=c85c15d6-d1ae-42d4-af60-e2ca0f81359b&sktid=72f988bf-86f1-41af-91ab-2d7cd011db47&skt=2022-04-02T23%3A12%3A40Z&ske=2022-04-04T00%3A12%3A40Z&sks=b&skv=2020-06-12&sig=c6Xru%2Bc6FiWviSQBb5uuyTrN7sg60vWiSEEr%2BZwNVTM%3D\n"
     ]
    }
   ],
   "source": [
    "import planetary_computer\n",
    "import pystac\n",
    "import rasterio #this seems to break when called\n",
    "\n",
    "#item: pystac.Item = ... # no idea what goes here been trying multiple things but still stuck\n",
    "b4_href = planetary_computer.sign(url) #i think this sign the url directly\n",
    "\n",
    "print(b4_href)\n",
    "#this print a url if clicked would download the scene\n",
    "\n",
    "\n"
   ]
  },
  {
   "cell_type": "markdown",
   "id": "c81d75b7",
   "metadata": {},
   "source": [
    "# Open the Data"
   ]
  },
  {
   "cell_type": "code",
   "execution_count": 12,
   "id": "fae2e11a",
   "metadata": {},
   "outputs": [
    {
     "ename": "KeyboardInterrupt",
     "evalue": "",
     "output_type": "error",
     "traceback": [
      "\u001b[1;31m---------------------------------------------------------------------------\u001b[0m",
      "\u001b[1;31mKeyboardInterrupt\u001b[0m                         Traceback (most recent call last)",
      "Input \u001b[1;32mIn [12]\u001b[0m, in \u001b[0;36m<cell line: 1>\u001b[1;34m()\u001b[0m\n\u001b[0;32m      1\u001b[0m \u001b[38;5;28;01mwith\u001b[39;00m fsspec\u001b[38;5;241m.\u001b[39mopen(b4_href) \u001b[38;5;28;01mas\u001b[39;00m f:\n\u001b[1;32m----> 2\u001b[0m     ds \u001b[38;5;241m=\u001b[39m \u001b[43mxr\u001b[49m\u001b[38;5;241;43m.\u001b[39;49m\u001b[43mopen_dataset\u001b[49m\u001b[43m(\u001b[49m\u001b[43mf\u001b[49m\u001b[43m,\u001b[49m\u001b[43mgroup\u001b[49m\u001b[38;5;241;43m=\u001b[39;49m\u001b[38;5;124;43m'\u001b[39;49m\u001b[38;5;124;43m/PRODUCT\u001b[39;49m\u001b[38;5;124;43m'\u001b[39;49m\u001b[43m)\u001b[49m\n\u001b[0;32m      3\u001b[0m \u001b[38;5;28mprint\u001b[39m(ds)\n",
      "File \u001b[1;32m~\\anaconda3\\envs\\SeniorProject\\lib\\site-packages\\xarray\\backends\\api.py:495\u001b[0m, in \u001b[0;36mopen_dataset\u001b[1;34m(filename_or_obj, engine, chunks, cache, decode_cf, mask_and_scale, decode_times, decode_timedelta, use_cftime, concat_characters, decode_coords, drop_variables, backend_kwargs, *args, **kwargs)\u001b[0m\n\u001b[0;32m    483\u001b[0m decoders \u001b[38;5;241m=\u001b[39m _resolve_decoders_kwargs(\n\u001b[0;32m    484\u001b[0m     decode_cf,\n\u001b[0;32m    485\u001b[0m     open_backend_dataset_parameters\u001b[38;5;241m=\u001b[39mbackend\u001b[38;5;241m.\u001b[39mopen_dataset_parameters,\n\u001b[1;32m   (...)\u001b[0m\n\u001b[0;32m    491\u001b[0m     decode_coords\u001b[38;5;241m=\u001b[39mdecode_coords,\n\u001b[0;32m    492\u001b[0m )\n\u001b[0;32m    494\u001b[0m overwrite_encoded_chunks \u001b[38;5;241m=\u001b[39m kwargs\u001b[38;5;241m.\u001b[39mpop(\u001b[38;5;124m\"\u001b[39m\u001b[38;5;124moverwrite_encoded_chunks\u001b[39m\u001b[38;5;124m\"\u001b[39m, \u001b[38;5;28;01mNone\u001b[39;00m)\n\u001b[1;32m--> 495\u001b[0m backend_ds \u001b[38;5;241m=\u001b[39m backend\u001b[38;5;241m.\u001b[39mopen_dataset(\n\u001b[0;32m    496\u001b[0m     filename_or_obj,\n\u001b[0;32m    497\u001b[0m     drop_variables\u001b[38;5;241m=\u001b[39mdrop_variables,\n\u001b[0;32m    498\u001b[0m     \u001b[38;5;241m*\u001b[39m\u001b[38;5;241m*\u001b[39mdecoders,\n\u001b[0;32m    499\u001b[0m     \u001b[38;5;241m*\u001b[39m\u001b[38;5;241m*\u001b[39mkwargs,\n\u001b[0;32m    500\u001b[0m )\n\u001b[0;32m    501\u001b[0m ds \u001b[38;5;241m=\u001b[39m _dataset_from_backend_dataset(\n\u001b[0;32m    502\u001b[0m     backend_ds,\n\u001b[0;32m    503\u001b[0m     filename_or_obj,\n\u001b[1;32m   (...)\u001b[0m\n\u001b[0;32m    510\u001b[0m     \u001b[38;5;241m*\u001b[39m\u001b[38;5;241m*\u001b[39mkwargs,\n\u001b[0;32m    511\u001b[0m )\n\u001b[0;32m    512\u001b[0m \u001b[38;5;28;01mreturn\u001b[39;00m ds\n",
      "File \u001b[1;32m~\\anaconda3\\envs\\SeniorProject\\lib\\site-packages\\xarray\\backends\\h5netcdf_.py:386\u001b[0m, in \u001b[0;36mH5netcdfBackendEntrypoint.open_dataset\u001b[1;34m(self, filename_or_obj, mask_and_scale, decode_times, concat_characters, decode_coords, drop_variables, use_cftime, decode_timedelta, format, group, lock, invalid_netcdf, phony_dims, decode_vlen_strings)\u001b[0m\n\u001b[0;32m    374\u001b[0m store \u001b[38;5;241m=\u001b[39m H5NetCDFStore\u001b[38;5;241m.\u001b[39mopen(\n\u001b[0;32m    375\u001b[0m     filename_or_obj,\n\u001b[0;32m    376\u001b[0m     \u001b[38;5;28mformat\u001b[39m\u001b[38;5;241m=\u001b[39m\u001b[38;5;28mformat\u001b[39m,\n\u001b[1;32m   (...)\u001b[0m\n\u001b[0;32m    381\u001b[0m     decode_vlen_strings\u001b[38;5;241m=\u001b[39mdecode_vlen_strings,\n\u001b[0;32m    382\u001b[0m )\n\u001b[0;32m    384\u001b[0m store_entrypoint \u001b[38;5;241m=\u001b[39m StoreBackendEntrypoint()\n\u001b[1;32m--> 386\u001b[0m ds \u001b[38;5;241m=\u001b[39m \u001b[43mstore_entrypoint\u001b[49m\u001b[38;5;241;43m.\u001b[39;49m\u001b[43mopen_dataset\u001b[49m\u001b[43m(\u001b[49m\n\u001b[0;32m    387\u001b[0m \u001b[43m    \u001b[49m\u001b[43mstore\u001b[49m\u001b[43m,\u001b[49m\n\u001b[0;32m    388\u001b[0m \u001b[43m    \u001b[49m\u001b[43mmask_and_scale\u001b[49m\u001b[38;5;241;43m=\u001b[39;49m\u001b[43mmask_and_scale\u001b[49m\u001b[43m,\u001b[49m\n\u001b[0;32m    389\u001b[0m \u001b[43m    \u001b[49m\u001b[43mdecode_times\u001b[49m\u001b[38;5;241;43m=\u001b[39;49m\u001b[43mdecode_times\u001b[49m\u001b[43m,\u001b[49m\n\u001b[0;32m    390\u001b[0m \u001b[43m    \u001b[49m\u001b[43mconcat_characters\u001b[49m\u001b[38;5;241;43m=\u001b[39;49m\u001b[43mconcat_characters\u001b[49m\u001b[43m,\u001b[49m\n\u001b[0;32m    391\u001b[0m \u001b[43m    \u001b[49m\u001b[43mdecode_coords\u001b[49m\u001b[38;5;241;43m=\u001b[39;49m\u001b[43mdecode_coords\u001b[49m\u001b[43m,\u001b[49m\n\u001b[0;32m    392\u001b[0m \u001b[43m    \u001b[49m\u001b[43mdrop_variables\u001b[49m\u001b[38;5;241;43m=\u001b[39;49m\u001b[43mdrop_variables\u001b[49m\u001b[43m,\u001b[49m\n\u001b[0;32m    393\u001b[0m \u001b[43m    \u001b[49m\u001b[43muse_cftime\u001b[49m\u001b[38;5;241;43m=\u001b[39;49m\u001b[43muse_cftime\u001b[49m\u001b[43m,\u001b[49m\n\u001b[0;32m    394\u001b[0m \u001b[43m    \u001b[49m\u001b[43mdecode_timedelta\u001b[49m\u001b[38;5;241;43m=\u001b[39;49m\u001b[43mdecode_timedelta\u001b[49m\u001b[43m,\u001b[49m\n\u001b[0;32m    395\u001b[0m \u001b[43m\u001b[49m\u001b[43m)\u001b[49m\n\u001b[0;32m    396\u001b[0m \u001b[38;5;28;01mreturn\u001b[39;00m ds\n",
      "File \u001b[1;32m~\\anaconda3\\envs\\SeniorProject\\lib\\site-packages\\xarray\\backends\\store.py:24\u001b[0m, in \u001b[0;36mStoreBackendEntrypoint.open_dataset\u001b[1;34m(self, store, mask_and_scale, decode_times, concat_characters, decode_coords, drop_variables, use_cftime, decode_timedelta)\u001b[0m\n\u001b[0;32m     12\u001b[0m \u001b[38;5;28;01mdef\u001b[39;00m \u001b[38;5;21mopen_dataset\u001b[39m(\n\u001b[0;32m     13\u001b[0m     \u001b[38;5;28mself\u001b[39m,\n\u001b[0;32m     14\u001b[0m     store,\n\u001b[1;32m   (...)\u001b[0m\n\u001b[0;32m     22\u001b[0m     decode_timedelta\u001b[38;5;241m=\u001b[39m\u001b[38;5;28;01mNone\u001b[39;00m,\n\u001b[0;32m     23\u001b[0m ):\n\u001b[1;32m---> 24\u001b[0m     \u001b[38;5;28mvars\u001b[39m, attrs \u001b[38;5;241m=\u001b[39m \u001b[43mstore\u001b[49m\u001b[38;5;241;43m.\u001b[39;49m\u001b[43mload\u001b[49m\u001b[43m(\u001b[49m\u001b[43m)\u001b[49m\n\u001b[0;32m     25\u001b[0m     encoding \u001b[38;5;241m=\u001b[39m store\u001b[38;5;241m.\u001b[39mget_encoding()\n\u001b[0;32m     27\u001b[0m     \u001b[38;5;28mvars\u001b[39m, attrs, coord_names \u001b[38;5;241m=\u001b[39m conventions\u001b[38;5;241m.\u001b[39mdecode_cf_variables(\n\u001b[0;32m     28\u001b[0m         \u001b[38;5;28mvars\u001b[39m,\n\u001b[0;32m     29\u001b[0m         attrs,\n\u001b[1;32m   (...)\u001b[0m\n\u001b[0;32m     36\u001b[0m         decode_timedelta\u001b[38;5;241m=\u001b[39mdecode_timedelta,\n\u001b[0;32m     37\u001b[0m     )\n",
      "File \u001b[1;32m~\\anaconda3\\envs\\SeniorProject\\lib\\site-packages\\xarray\\backends\\common.py:123\u001b[0m, in \u001b[0;36mAbstractDataStore.load\u001b[1;34m(self)\u001b[0m\n\u001b[0;32m    101\u001b[0m \u001b[38;5;28;01mdef\u001b[39;00m \u001b[38;5;21mload\u001b[39m(\u001b[38;5;28mself\u001b[39m):\n\u001b[0;32m    102\u001b[0m     \u001b[38;5;124;03m\"\"\"\u001b[39;00m\n\u001b[0;32m    103\u001b[0m \u001b[38;5;124;03m    This loads the variables and attributes simultaneously.\u001b[39;00m\n\u001b[0;32m    104\u001b[0m \u001b[38;5;124;03m    A centralized loading function makes it easier to create\u001b[39;00m\n\u001b[1;32m   (...)\u001b[0m\n\u001b[0;32m    120\u001b[0m \u001b[38;5;124;03m    are requested, so care should be taken to make sure its fast.\u001b[39;00m\n\u001b[0;32m    121\u001b[0m \u001b[38;5;124;03m    \"\"\"\u001b[39;00m\n\u001b[0;32m    122\u001b[0m     variables \u001b[38;5;241m=\u001b[39m FrozenDict(\n\u001b[1;32m--> 123\u001b[0m         (_decode_variable_name(k), v) \u001b[38;5;28;01mfor\u001b[39;00m k, v \u001b[38;5;129;01min\u001b[39;00m \u001b[38;5;28;43mself\u001b[39;49m\u001b[38;5;241;43m.\u001b[39;49m\u001b[43mget_variables\u001b[49m\u001b[43m(\u001b[49m\u001b[43m)\u001b[49m\u001b[38;5;241m.\u001b[39mitems()\n\u001b[0;32m    124\u001b[0m     )\n\u001b[0;32m    125\u001b[0m     attributes \u001b[38;5;241m=\u001b[39m FrozenDict(\u001b[38;5;28mself\u001b[39m\u001b[38;5;241m.\u001b[39mget_attrs())\n\u001b[0;32m    126\u001b[0m     \u001b[38;5;28;01mreturn\u001b[39;00m variables, attributes\n",
      "File \u001b[1;32m~\\anaconda3\\envs\\SeniorProject\\lib\\site-packages\\xarray\\backends\\h5netcdf_.py:229\u001b[0m, in \u001b[0;36mH5NetCDFStore.get_variables\u001b[1;34m(self)\u001b[0m\n\u001b[0;32m    228\u001b[0m \u001b[38;5;28;01mdef\u001b[39;00m \u001b[38;5;21mget_variables\u001b[39m(\u001b[38;5;28mself\u001b[39m):\n\u001b[1;32m--> 229\u001b[0m     \u001b[38;5;28;01mreturn\u001b[39;00m \u001b[43mFrozenDict\u001b[49m\u001b[43m(\u001b[49m\n\u001b[0;32m    230\u001b[0m \u001b[43m        \u001b[49m\u001b[43m(\u001b[49m\u001b[43mk\u001b[49m\u001b[43m,\u001b[49m\u001b[43m \u001b[49m\u001b[38;5;28;43mself\u001b[39;49m\u001b[38;5;241;43m.\u001b[39;49m\u001b[43mopen_store_variable\u001b[49m\u001b[43m(\u001b[49m\u001b[43mk\u001b[49m\u001b[43m,\u001b[49m\u001b[43m \u001b[49m\u001b[43mv\u001b[49m\u001b[43m)\u001b[49m\u001b[43m)\u001b[49m\u001b[43m \u001b[49m\u001b[38;5;28;43;01mfor\u001b[39;49;00m\u001b[43m \u001b[49m\u001b[43mk\u001b[49m\u001b[43m,\u001b[49m\u001b[43m \u001b[49m\u001b[43mv\u001b[49m\u001b[43m \u001b[49m\u001b[38;5;129;43;01min\u001b[39;49;00m\u001b[43m \u001b[49m\u001b[38;5;28;43mself\u001b[39;49m\u001b[38;5;241;43m.\u001b[39;49m\u001b[43mds\u001b[49m\u001b[38;5;241;43m.\u001b[39;49m\u001b[43mvariables\u001b[49m\u001b[38;5;241;43m.\u001b[39;49m\u001b[43mitems\u001b[49m\u001b[43m(\u001b[49m\u001b[43m)\u001b[49m\n\u001b[0;32m    231\u001b[0m \u001b[43m    \u001b[49m\u001b[43m)\u001b[49m\n",
      "File \u001b[1;32m~\\anaconda3\\envs\\SeniorProject\\lib\\site-packages\\xarray\\core\\utils.py:476\u001b[0m, in \u001b[0;36mFrozenDict\u001b[1;34m(*args, **kwargs)\u001b[0m\n\u001b[0;32m    475\u001b[0m \u001b[38;5;28;01mdef\u001b[39;00m \u001b[38;5;21mFrozenDict\u001b[39m(\u001b[38;5;241m*\u001b[39margs, \u001b[38;5;241m*\u001b[39m\u001b[38;5;241m*\u001b[39mkwargs) \u001b[38;5;241m-\u001b[39m\u001b[38;5;241m>\u001b[39m Frozen:\n\u001b[1;32m--> 476\u001b[0m     \u001b[38;5;28;01mreturn\u001b[39;00m Frozen(\u001b[38;5;28mdict\u001b[39m(\u001b[38;5;241m*\u001b[39margs, \u001b[38;5;241m*\u001b[39m\u001b[38;5;241m*\u001b[39mkwargs))\n",
      "File \u001b[1;32m~\\anaconda3\\envs\\SeniorProject\\lib\\site-packages\\xarray\\backends\\h5netcdf_.py:230\u001b[0m, in \u001b[0;36m<genexpr>\u001b[1;34m(.0)\u001b[0m\n\u001b[0;32m    228\u001b[0m \u001b[38;5;28;01mdef\u001b[39;00m \u001b[38;5;21mget_variables\u001b[39m(\u001b[38;5;28mself\u001b[39m):\n\u001b[0;32m    229\u001b[0m     \u001b[38;5;28;01mreturn\u001b[39;00m FrozenDict(\n\u001b[1;32m--> 230\u001b[0m         (k, \u001b[38;5;28;43mself\u001b[39;49m\u001b[38;5;241;43m.\u001b[39;49m\u001b[43mopen_store_variable\u001b[49m\u001b[43m(\u001b[49m\u001b[43mk\u001b[49m\u001b[43m,\u001b[49m\u001b[43m \u001b[49m\u001b[43mv\u001b[49m\u001b[43m)\u001b[49m) \u001b[38;5;28;01mfor\u001b[39;00m k, v \u001b[38;5;129;01min\u001b[39;00m \u001b[38;5;28mself\u001b[39m\u001b[38;5;241m.\u001b[39mds\u001b[38;5;241m.\u001b[39mvariables\u001b[38;5;241m.\u001b[39mitems()\n\u001b[0;32m    231\u001b[0m     )\n",
      "File \u001b[1;32m~\\anaconda3\\envs\\SeniorProject\\lib\\site-packages\\xarray\\backends\\h5netcdf_.py:194\u001b[0m, in \u001b[0;36mH5NetCDFStore.open_store_variable\u001b[1;34m(self, name, var)\u001b[0m\n\u001b[0;32m    191\u001b[0m \u001b[38;5;28;01mdef\u001b[39;00m \u001b[38;5;21mopen_store_variable\u001b[39m(\u001b[38;5;28mself\u001b[39m, name, var):\n\u001b[0;32m    192\u001b[0m     \u001b[38;5;28;01mimport\u001b[39;00m \u001b[38;5;21;01mh5py\u001b[39;00m\n\u001b[1;32m--> 194\u001b[0m     dimensions \u001b[38;5;241m=\u001b[39m \u001b[43mvar\u001b[49m\u001b[38;5;241;43m.\u001b[39;49m\u001b[43mdimensions\u001b[49m\n\u001b[0;32m    195\u001b[0m     data \u001b[38;5;241m=\u001b[39m indexing\u001b[38;5;241m.\u001b[39mLazilyIndexedArray(H5NetCDFArrayWrapper(name, \u001b[38;5;28mself\u001b[39m))\n\u001b[0;32m    196\u001b[0m     attrs \u001b[38;5;241m=\u001b[39m _read_attributes(var)\n",
      "File \u001b[1;32m~\\anaconda3\\envs\\SeniorProject\\lib\\site-packages\\h5netcdf\\core.py:259\u001b[0m, in \u001b[0;36mBaseVariable.dimensions\u001b[1;34m(self)\u001b[0m\n\u001b[0;32m    256\u001b[0m \u001b[38;5;129m@property\u001b[39m\n\u001b[0;32m    257\u001b[0m \u001b[38;5;28;01mdef\u001b[39;00m \u001b[38;5;21mdimensions\u001b[39m(\u001b[38;5;28mself\u001b[39m):\n\u001b[0;32m    258\u001b[0m     \u001b[38;5;28;01mif\u001b[39;00m \u001b[38;5;28mself\u001b[39m\u001b[38;5;241m.\u001b[39m_dimensions \u001b[38;5;129;01mis\u001b[39;00m \u001b[38;5;28;01mNone\u001b[39;00m:\n\u001b[1;32m--> 259\u001b[0m         \u001b[38;5;28mself\u001b[39m\u001b[38;5;241m.\u001b[39m_dimensions \u001b[38;5;241m=\u001b[39m \u001b[38;5;28;43mself\u001b[39;49m\u001b[38;5;241;43m.\u001b[39;49m\u001b[43m_lookup_dimensions\u001b[49m\u001b[43m(\u001b[49m\u001b[43m)\u001b[49m\n\u001b[0;32m    260\u001b[0m     \u001b[38;5;28;01mreturn\u001b[39;00m \u001b[38;5;28mself\u001b[39m\u001b[38;5;241m.\u001b[39m_dimensions\n",
      "File \u001b[1;32m~\\anaconda3\\envs\\SeniorProject\\lib\\site-packages\\h5netcdf\\core.py:156\u001b[0m, in \u001b[0;36mBaseVariable._lookup_dimensions\u001b[1;34m(self)\u001b[0m\n\u001b[0;32m    153\u001b[0m \u001b[38;5;66;03m# normal variable carrying DIMENSION_LIST\u001b[39;00m\n\u001b[0;32m    154\u001b[0m \u001b[38;5;66;03m# extract hdf5 file references and get objects name\u001b[39;00m\n\u001b[0;32m    155\u001b[0m \u001b[38;5;28;01mif\u001b[39;00m \u001b[38;5;124m\"\u001b[39m\u001b[38;5;124mDIMENSION_LIST\u001b[39m\u001b[38;5;124m\"\u001b[39m \u001b[38;5;129;01min\u001b[39;00m attrs:\n\u001b[1;32m--> 156\u001b[0m     \u001b[38;5;28;01mreturn\u001b[39;00m \u001b[38;5;28;43mtuple\u001b[39;49m\u001b[43m(\u001b[49m\n\u001b[0;32m    157\u001b[0m \u001b[43m        \u001b[49m\u001b[38;5;28;43mself\u001b[39;49m\u001b[38;5;241;43m.\u001b[39;49m\u001b[43m_root\u001b[49m\u001b[38;5;241;43m.\u001b[39;49m\u001b[43m_h5file\u001b[49m\u001b[43m[\u001b[49m\u001b[43mref\u001b[49m\u001b[43m[\u001b[49m\u001b[38;5;241;43m0\u001b[39;49m\u001b[43m]\u001b[49m\u001b[43m]\u001b[49m\u001b[38;5;241;43m.\u001b[39;49m\u001b[43mname\u001b[49m\u001b[38;5;241;43m.\u001b[39;49m\u001b[43msplit\u001b[49m\u001b[43m(\u001b[49m\u001b[38;5;124;43m\"\u001b[39;49m\u001b[38;5;124;43m/\u001b[39;49m\u001b[38;5;124;43m\"\u001b[39;49m\u001b[43m)\u001b[49m\u001b[43m[\u001b[49m\u001b[38;5;241;43m-\u001b[39;49m\u001b[38;5;241;43m1\u001b[39;49m\u001b[43m]\u001b[49m\n\u001b[0;32m    158\u001b[0m \u001b[43m        \u001b[49m\u001b[38;5;28;43;01mfor\u001b[39;49;00m\u001b[43m \u001b[49m\u001b[43mref\u001b[49m\u001b[43m \u001b[49m\u001b[38;5;129;43;01min\u001b[39;49;00m\u001b[43m \u001b[49m\u001b[38;5;28;43mlist\u001b[39;49m\u001b[43m(\u001b[49m\u001b[38;5;28;43mself\u001b[39;49m\u001b[38;5;241;43m.\u001b[39;49m\u001b[43m_h5ds\u001b[49m\u001b[38;5;241;43m.\u001b[39;49m\u001b[43mattrs\u001b[49m\u001b[38;5;241;43m.\u001b[39;49m\u001b[43mget\u001b[49m\u001b[43m(\u001b[49m\u001b[38;5;124;43m\"\u001b[39;49m\u001b[38;5;124;43mDIMENSION_LIST\u001b[39;49m\u001b[38;5;124;43m\"\u001b[39;49m\u001b[43m,\u001b[49m\u001b[43m \u001b[49m\u001b[43m[\u001b[49m\u001b[43m]\u001b[49m\u001b[43m)\u001b[49m\u001b[43m)\u001b[49m\n\u001b[0;32m    159\u001b[0m \u001b[43m    \u001b[49m\u001b[43m)\u001b[49m\n\u001b[0;32m    161\u001b[0m \u001b[38;5;66;03m# need to use the h5ds name here to distinguish from collision dimensions\u001b[39;00m\n\u001b[0;32m    162\u001b[0m child_name \u001b[38;5;241m=\u001b[39m \u001b[38;5;28mself\u001b[39m\u001b[38;5;241m.\u001b[39m_h5ds\u001b[38;5;241m.\u001b[39mname\u001b[38;5;241m.\u001b[39msplit(\u001b[38;5;124m\"\u001b[39m\u001b[38;5;124m/\u001b[39m\u001b[38;5;124m\"\u001b[39m)[\u001b[38;5;241m-\u001b[39m\u001b[38;5;241m1\u001b[39m]\n",
      "File \u001b[1;32m~\\anaconda3\\envs\\SeniorProject\\lib\\site-packages\\h5netcdf\\core.py:157\u001b[0m, in \u001b[0;36m<genexpr>\u001b[1;34m(.0)\u001b[0m\n\u001b[0;32m    153\u001b[0m \u001b[38;5;66;03m# normal variable carrying DIMENSION_LIST\u001b[39;00m\n\u001b[0;32m    154\u001b[0m \u001b[38;5;66;03m# extract hdf5 file references and get objects name\u001b[39;00m\n\u001b[0;32m    155\u001b[0m \u001b[38;5;28;01mif\u001b[39;00m \u001b[38;5;124m\"\u001b[39m\u001b[38;5;124mDIMENSION_LIST\u001b[39m\u001b[38;5;124m\"\u001b[39m \u001b[38;5;129;01min\u001b[39;00m attrs:\n\u001b[0;32m    156\u001b[0m     \u001b[38;5;28;01mreturn\u001b[39;00m \u001b[38;5;28mtuple\u001b[39m(\n\u001b[1;32m--> 157\u001b[0m         \u001b[38;5;28;43mself\u001b[39;49m\u001b[38;5;241;43m.\u001b[39;49m\u001b[43m_root\u001b[49m\u001b[38;5;241;43m.\u001b[39;49m\u001b[43m_h5file\u001b[49m\u001b[43m[\u001b[49m\u001b[43mref\u001b[49m\u001b[43m[\u001b[49m\u001b[38;5;241;43m0\u001b[39;49m\u001b[43m]\u001b[49m\u001b[43m]\u001b[49m\u001b[38;5;241;43m.\u001b[39;49m\u001b[43mname\u001b[49m\u001b[38;5;241m.\u001b[39msplit(\u001b[38;5;124m\"\u001b[39m\u001b[38;5;124m/\u001b[39m\u001b[38;5;124m\"\u001b[39m)[\u001b[38;5;241m-\u001b[39m\u001b[38;5;241m1\u001b[39m]\n\u001b[0;32m    158\u001b[0m         \u001b[38;5;28;01mfor\u001b[39;00m ref \u001b[38;5;129;01min\u001b[39;00m \u001b[38;5;28mlist\u001b[39m(\u001b[38;5;28mself\u001b[39m\u001b[38;5;241m.\u001b[39m_h5ds\u001b[38;5;241m.\u001b[39mattrs\u001b[38;5;241m.\u001b[39mget(\u001b[38;5;124m\"\u001b[39m\u001b[38;5;124mDIMENSION_LIST\u001b[39m\u001b[38;5;124m\"\u001b[39m, []))\n\u001b[0;32m    159\u001b[0m     )\n\u001b[0;32m    161\u001b[0m \u001b[38;5;66;03m# need to use the h5ds name here to distinguish from collision dimensions\u001b[39;00m\n\u001b[0;32m    162\u001b[0m child_name \u001b[38;5;241m=\u001b[39m \u001b[38;5;28mself\u001b[39m\u001b[38;5;241m.\u001b[39m_h5ds\u001b[38;5;241m.\u001b[39mname\u001b[38;5;241m.\u001b[39msplit(\u001b[38;5;124m\"\u001b[39m\u001b[38;5;124m/\u001b[39m\u001b[38;5;124m\"\u001b[39m)[\u001b[38;5;241m-\u001b[39m\u001b[38;5;241m1\u001b[39m]\n",
      "File \u001b[1;32mh5py\\_objects.pyx:54\u001b[0m, in \u001b[0;36mh5py._objects.with_phil.wrapper\u001b[1;34m()\u001b[0m\n",
      "File \u001b[1;32mh5py\\_objects.pyx:55\u001b[0m, in \u001b[0;36mh5py._objects.with_phil.wrapper\u001b[1;34m()\u001b[0m\n",
      "File \u001b[1;32m~\\anaconda3\\envs\\SeniorProject\\lib\\site-packages\\h5py\\_hl\\base.py:291\u001b[0m, in \u001b[0;36mHLObject.name\u001b[1;34m(self)\u001b[0m\n\u001b[0;32m    287\u001b[0m \u001b[38;5;129m@property\u001b[39m\n\u001b[0;32m    288\u001b[0m \u001b[38;5;129m@with_phil\u001b[39m\n\u001b[0;32m    289\u001b[0m \u001b[38;5;28;01mdef\u001b[39;00m \u001b[38;5;21mname\u001b[39m(\u001b[38;5;28mself\u001b[39m):\n\u001b[0;32m    290\u001b[0m     \u001b[38;5;124;03m\"\"\" Return the full name of this object.  None if anonymous. \"\"\"\u001b[39;00m\n\u001b[1;32m--> 291\u001b[0m     \u001b[38;5;28;01mreturn\u001b[39;00m \u001b[38;5;28mself\u001b[39m\u001b[38;5;241m.\u001b[39m_d(\u001b[43mh5i\u001b[49m\u001b[38;5;241;43m.\u001b[39;49m\u001b[43mget_name\u001b[49m\u001b[43m(\u001b[49m\u001b[38;5;28;43mself\u001b[39;49m\u001b[38;5;241;43m.\u001b[39;49m\u001b[43mid\u001b[49m\u001b[43m)\u001b[49m)\n",
      "File \u001b[1;32mh5py\\_objects.pyx:54\u001b[0m, in \u001b[0;36mh5py._objects.with_phil.wrapper\u001b[1;34m()\u001b[0m\n",
      "File \u001b[1;32mh5py\\_objects.pyx:55\u001b[0m, in \u001b[0;36mh5py._objects.with_phil.wrapper\u001b[1;34m()\u001b[0m\n",
      "File \u001b[1;32mh5py\\h5i.pyx:92\u001b[0m, in \u001b[0;36mh5py.h5i.get_name\u001b[1;34m()\u001b[0m\n",
      "File \u001b[1;32mh5py\\h5fd.pyx:162\u001b[0m, in \u001b[0;36mh5py.h5fd.H5FD_fileobj_read\u001b[1;34m()\u001b[0m\n",
      "File \u001b[1;32m~\\anaconda3\\envs\\SeniorProject\\lib\\site-packages\\fsspec\\spec.py:1554\u001b[0m, in \u001b[0;36mAbstractBufferedFile.readinto\u001b[1;34m(self, b)\u001b[0m\n\u001b[0;32m   1549\u001b[0m \u001b[38;5;124;03m\"\"\"mirrors builtin file's readinto method\u001b[39;00m\n\u001b[0;32m   1550\u001b[0m \n\u001b[0;32m   1551\u001b[0m \u001b[38;5;124;03mhttps://docs.python.org/3/library/io.html#io.RawIOBase.readinto\u001b[39;00m\n\u001b[0;32m   1552\u001b[0m \u001b[38;5;124;03m\"\"\"\u001b[39;00m\n\u001b[0;32m   1553\u001b[0m out \u001b[38;5;241m=\u001b[39m \u001b[38;5;28mmemoryview\u001b[39m(b)\u001b[38;5;241m.\u001b[39mcast(\u001b[38;5;124m\"\u001b[39m\u001b[38;5;124mB\u001b[39m\u001b[38;5;124m\"\u001b[39m)\n\u001b[1;32m-> 1554\u001b[0m data \u001b[38;5;241m=\u001b[39m \u001b[38;5;28;43mself\u001b[39;49m\u001b[38;5;241;43m.\u001b[39;49m\u001b[43mread\u001b[49m\u001b[43m(\u001b[49m\u001b[43mout\u001b[49m\u001b[38;5;241;43m.\u001b[39;49m\u001b[43mnbytes\u001b[49m\u001b[43m)\u001b[49m\n\u001b[0;32m   1555\u001b[0m out[: \u001b[38;5;28mlen\u001b[39m(data)] \u001b[38;5;241m=\u001b[39m data\n\u001b[0;32m   1556\u001b[0m \u001b[38;5;28;01mreturn\u001b[39;00m \u001b[38;5;28mlen\u001b[39m(data)\n",
      "File \u001b[1;32m~\\anaconda3\\envs\\SeniorProject\\lib\\site-packages\\fsspec\\implementations\\http.py:566\u001b[0m, in \u001b[0;36mHTTPFile.read\u001b[1;34m(self, length)\u001b[0m\n\u001b[0;32m    564\u001b[0m \u001b[38;5;28;01melse\u001b[39;00m:\n\u001b[0;32m    565\u001b[0m     length \u001b[38;5;241m=\u001b[39m \u001b[38;5;28mmin\u001b[39m(\u001b[38;5;28mself\u001b[39m\u001b[38;5;241m.\u001b[39msize \u001b[38;5;241m-\u001b[39m \u001b[38;5;28mself\u001b[39m\u001b[38;5;241m.\u001b[39mloc, length)\n\u001b[1;32m--> 566\u001b[0m \u001b[38;5;28;01mreturn\u001b[39;00m \u001b[38;5;28;43msuper\u001b[39;49m\u001b[43m(\u001b[49m\u001b[43m)\u001b[49m\u001b[38;5;241;43m.\u001b[39;49m\u001b[43mread\u001b[49m\u001b[43m(\u001b[49m\u001b[43mlength\u001b[49m\u001b[43m)\u001b[49m\n",
      "File \u001b[1;32m~\\anaconda3\\envs\\SeniorProject\\lib\\site-packages\\fsspec\\spec.py:1544\u001b[0m, in \u001b[0;36mAbstractBufferedFile.read\u001b[1;34m(self, length)\u001b[0m\n\u001b[0;32m   1541\u001b[0m \u001b[38;5;28;01mif\u001b[39;00m length \u001b[38;5;241m==\u001b[39m \u001b[38;5;241m0\u001b[39m:\n\u001b[0;32m   1542\u001b[0m     \u001b[38;5;66;03m# don't even bother calling fetch\u001b[39;00m\n\u001b[0;32m   1543\u001b[0m     \u001b[38;5;28;01mreturn\u001b[39;00m \u001b[38;5;124mb\u001b[39m\u001b[38;5;124m\"\u001b[39m\u001b[38;5;124m\"\u001b[39m\n\u001b[1;32m-> 1544\u001b[0m out \u001b[38;5;241m=\u001b[39m \u001b[38;5;28;43mself\u001b[39;49m\u001b[38;5;241;43m.\u001b[39;49m\u001b[43mcache\u001b[49m\u001b[38;5;241;43m.\u001b[39;49m\u001b[43m_fetch\u001b[49m\u001b[43m(\u001b[49m\u001b[38;5;28;43mself\u001b[39;49m\u001b[38;5;241;43m.\u001b[39;49m\u001b[43mloc\u001b[49m\u001b[43m,\u001b[49m\u001b[43m \u001b[49m\u001b[38;5;28;43mself\u001b[39;49m\u001b[38;5;241;43m.\u001b[39;49m\u001b[43mloc\u001b[49m\u001b[43m \u001b[49m\u001b[38;5;241;43m+\u001b[39;49m\u001b[43m \u001b[49m\u001b[43mlength\u001b[49m\u001b[43m)\u001b[49m\n\u001b[0;32m   1545\u001b[0m \u001b[38;5;28mself\u001b[39m\u001b[38;5;241m.\u001b[39mloc \u001b[38;5;241m+\u001b[39m\u001b[38;5;241m=\u001b[39m \u001b[38;5;28mlen\u001b[39m(out)\n\u001b[0;32m   1546\u001b[0m \u001b[38;5;28;01mreturn\u001b[39;00m out\n",
      "File \u001b[1;32m~\\anaconda3\\envs\\SeniorProject\\lib\\site-packages\\fsspec\\caching.py:391\u001b[0m, in \u001b[0;36mBytesCache._fetch\u001b[1;34m(self, start, end)\u001b[0m\n\u001b[0;32m    389\u001b[0m     \u001b[38;5;28;01mpass\u001b[39;00m\n\u001b[0;32m    390\u001b[0m \u001b[38;5;28;01melif\u001b[39;00m end \u001b[38;5;241m-\u001b[39m \u001b[38;5;28mself\u001b[39m\u001b[38;5;241m.\u001b[39mend \u001b[38;5;241m>\u001b[39m \u001b[38;5;28mself\u001b[39m\u001b[38;5;241m.\u001b[39mblocksize:\n\u001b[1;32m--> 391\u001b[0m     \u001b[38;5;28mself\u001b[39m\u001b[38;5;241m.\u001b[39mcache \u001b[38;5;241m=\u001b[39m \u001b[38;5;28;43mself\u001b[39;49m\u001b[38;5;241;43m.\u001b[39;49m\u001b[43mfetcher\u001b[49m\u001b[43m(\u001b[49m\u001b[43mstart\u001b[49m\u001b[43m,\u001b[49m\u001b[43m \u001b[49m\u001b[43mbend\u001b[49m\u001b[43m)\u001b[49m\n\u001b[0;32m    392\u001b[0m     \u001b[38;5;28mself\u001b[39m\u001b[38;5;241m.\u001b[39mstart \u001b[38;5;241m=\u001b[39m start\n\u001b[0;32m    393\u001b[0m \u001b[38;5;28;01melse\u001b[39;00m:\n",
      "File \u001b[1;32m~\\anaconda3\\envs\\SeniorProject\\lib\\site-packages\\fsspec\\asyn.py:91\u001b[0m, in \u001b[0;36msync_wrapper.<locals>.wrapper\u001b[1;34m(*args, **kwargs)\u001b[0m\n\u001b[0;32m     88\u001b[0m \u001b[38;5;129m@functools\u001b[39m\u001b[38;5;241m.\u001b[39mwraps(func)\n\u001b[0;32m     89\u001b[0m \u001b[38;5;28;01mdef\u001b[39;00m \u001b[38;5;21mwrapper\u001b[39m(\u001b[38;5;241m*\u001b[39margs, \u001b[38;5;241m*\u001b[39m\u001b[38;5;241m*\u001b[39mkwargs):\n\u001b[0;32m     90\u001b[0m     \u001b[38;5;28mself\u001b[39m \u001b[38;5;241m=\u001b[39m obj \u001b[38;5;129;01mor\u001b[39;00m args[\u001b[38;5;241m0\u001b[39m]\n\u001b[1;32m---> 91\u001b[0m     \u001b[38;5;28;01mreturn\u001b[39;00m sync(\u001b[38;5;28mself\u001b[39m\u001b[38;5;241m.\u001b[39mloop, func, \u001b[38;5;241m*\u001b[39margs, \u001b[38;5;241m*\u001b[39m\u001b[38;5;241m*\u001b[39mkwargs)\n",
      "File \u001b[1;32m~\\anaconda3\\envs\\SeniorProject\\lib\\site-packages\\fsspec\\asyn.py:59\u001b[0m, in \u001b[0;36msync\u001b[1;34m(loop, func, timeout, *args, **kwargs)\u001b[0m\n\u001b[0;32m     56\u001b[0m asyncio\u001b[38;5;241m.\u001b[39mrun_coroutine_threadsafe(_runner(event, coro, result, timeout), loop)\n\u001b[0;32m     57\u001b[0m \u001b[38;5;28;01mwhile\u001b[39;00m \u001b[38;5;28;01mTrue\u001b[39;00m:\n\u001b[0;32m     58\u001b[0m     \u001b[38;5;66;03m# this loops allows thread to get interrupted\u001b[39;00m\n\u001b[1;32m---> 59\u001b[0m     \u001b[38;5;28;01mif\u001b[39;00m \u001b[43mevent\u001b[49m\u001b[38;5;241;43m.\u001b[39;49m\u001b[43mwait\u001b[49m\u001b[43m(\u001b[49m\u001b[38;5;241;43m1\u001b[39;49m\u001b[43m)\u001b[49m:\n\u001b[0;32m     60\u001b[0m         \u001b[38;5;28;01mbreak\u001b[39;00m\n\u001b[0;32m     61\u001b[0m     \u001b[38;5;28;01mif\u001b[39;00m timeout \u001b[38;5;129;01mis\u001b[39;00m \u001b[38;5;129;01mnot\u001b[39;00m \u001b[38;5;28;01mNone\u001b[39;00m:\n",
      "File \u001b[1;32m~\\anaconda3\\envs\\SeniorProject\\lib\\threading.py:574\u001b[0m, in \u001b[0;36mEvent.wait\u001b[1;34m(self, timeout)\u001b[0m\n\u001b[0;32m    572\u001b[0m signaled \u001b[38;5;241m=\u001b[39m \u001b[38;5;28mself\u001b[39m\u001b[38;5;241m.\u001b[39m_flag\n\u001b[0;32m    573\u001b[0m \u001b[38;5;28;01mif\u001b[39;00m \u001b[38;5;129;01mnot\u001b[39;00m signaled:\n\u001b[1;32m--> 574\u001b[0m     signaled \u001b[38;5;241m=\u001b[39m \u001b[38;5;28;43mself\u001b[39;49m\u001b[38;5;241;43m.\u001b[39;49m\u001b[43m_cond\u001b[49m\u001b[38;5;241;43m.\u001b[39;49m\u001b[43mwait\u001b[49m\u001b[43m(\u001b[49m\u001b[43mtimeout\u001b[49m\u001b[43m)\u001b[49m\n\u001b[0;32m    575\u001b[0m \u001b[38;5;28;01mreturn\u001b[39;00m signaled\n",
      "File \u001b[1;32m~\\anaconda3\\envs\\SeniorProject\\lib\\threading.py:316\u001b[0m, in \u001b[0;36mCondition.wait\u001b[1;34m(self, timeout)\u001b[0m\n\u001b[0;32m    314\u001b[0m \u001b[38;5;28;01melse\u001b[39;00m:\n\u001b[0;32m    315\u001b[0m     \u001b[38;5;28;01mif\u001b[39;00m timeout \u001b[38;5;241m>\u001b[39m \u001b[38;5;241m0\u001b[39m:\n\u001b[1;32m--> 316\u001b[0m         gotit \u001b[38;5;241m=\u001b[39m \u001b[43mwaiter\u001b[49m\u001b[38;5;241;43m.\u001b[39;49m\u001b[43macquire\u001b[49m\u001b[43m(\u001b[49m\u001b[38;5;28;43;01mTrue\u001b[39;49;00m\u001b[43m,\u001b[49m\u001b[43m \u001b[49m\u001b[43mtimeout\u001b[49m\u001b[43m)\u001b[49m\n\u001b[0;32m    317\u001b[0m     \u001b[38;5;28;01melse\u001b[39;00m:\n\u001b[0;32m    318\u001b[0m         gotit \u001b[38;5;241m=\u001b[39m waiter\u001b[38;5;241m.\u001b[39macquire(\u001b[38;5;28;01mFalse\u001b[39;00m)\n",
      "\u001b[1;31mKeyboardInterrupt\u001b[0m: "
     ]
    }
   ],
   "source": [
    "#not sure if this is just taking too long, or its stuck in a loop\n",
    "\n",
    "with fsspec.open(b4_href) as f:\n",
    "    ds = xr.open_dataset(f,group='/PRODUCT')\n",
    "print(ds)"
   ]
  },
  {
   "cell_type": "code",
   "execution_count": null,
   "id": "09851057",
   "metadata": {},
   "outputs": [],
   "source": []
  }
 ],
 "metadata": {
  "kernelspec": {
   "display_name": "Python 3 (ipykernel)",
   "language": "python",
   "name": "python3"
  },
  "language_info": {
   "codemirror_mode": {
    "name": "ipython",
    "version": 3
   },
   "file_extension": ".py",
   "mimetype": "text/x-python",
   "name": "python",
   "nbconvert_exporter": "python",
   "pygments_lexer": "ipython3",
   "version": "3.9.7"
  }
 },
 "nbformat": 4,
 "nbformat_minor": 5
}
