{
 "cells": [
  {
   "cell_type": "markdown",
   "id": "4c433478",
   "metadata": {},
   "source": [
    "this set up was made with the help of this guide https://nbviewer.org/github/microsoft/AIforEarthDataSets/blob/main/data/sentinel-5p.ipynb#Auth-files"
   ]
  },
  {
   "cell_type": "markdown",
   "id": "ab2eee72",
   "metadata": {},
   "source": [
    "# Environment setup"
   ]
  },
  {
   "cell_type": "code",
   "execution_count": 8,
   "id": "ae1854d8",
   "metadata": {
    "scrolled": true
   },
   "outputs": [],
   "source": [
    "import os\n",
    "import fsspec\n",
    "import xarray as xr\n",
    "import numpy as np\n",
    "from azure.storage.blob import ContainerClient\n",
    "\n",
    "# Not used directly, but needs to be installed to read NetCDF files with xarray\n",
    "import h5netcdf"
   ]
  },
  {
   "cell_type": "markdown",
   "id": "6eae7e2f",
   "metadata": {},
   "source": [
    "# Auth files"
   ]
  },
  {
   "cell_type": "code",
   "execution_count": 9,
   "id": "ac3831ec",
   "metadata": {},
   "outputs": [],
   "source": [
    "# this is still path dependent watchout!!!\n",
    "sas_file = os.path.expanduser('~/421/microsoft/tokens/sentinel-5p_sas.txt')"
   ]
  },
  {
   "cell_type": "markdown",
   "id": "8981776a",
   "metadata": {},
   "source": [
    "# Constants"
   ]
  },
  {
   "cell_type": "code",
   "execution_count": 10,
   "id": "f95b5df0",
   "metadata": {},
   "outputs": [],
   "source": [
    "# Let's look at ozone concentration from mid-day on Jan 1, 2021\n",
    "product = 'L2__O3____'\n",
    "date = '2021/01/01'"
   ]
  },
  {
   "cell_type": "markdown",
   "id": "b8252af1",
   "metadata": {},
   "source": [
    "# Parse Token"
   ]
  },
  {
   "cell_type": "code",
   "execution_count": 11,
   "id": "adc52512",
   "metadata": {},
   "outputs": [],
   "source": [
    "lines = []\n",
    "with open(sas_file,'r') as f:\n",
    "    lines = f.readlines()\n",
    "assert len(lines) >= 1\n",
    "#sas_token = lines[0].strip()\n",
    "\n",
    "newline=lines[0].split('\"')\n",
    "\n",
    "sas_token=newline[7]\n",
    "\n",
    "\n",
    "#print(sas_token) #added just to check the sas_token is parsed correctly"
   ]
  },
  {
   "cell_type": "markdown",
   "id": "eda9ea7a",
   "metadata": {},
   "source": [
    "# Azure storage constants"
   ]
  },
  {
   "cell_type": "code",
   "execution_count": 12,
   "id": "ab8afb62",
   "metadata": {},
   "outputs": [],
   "source": [
    "storage_account_name = 'sentinel5euwest'\n",
    "container_name = 'sentinel-5p'\n",
    "storage_account_url = 'https://' + storage_account_name + '.blob.core.windows.net/'\n",
    "\n",
    "container_client = ContainerClient(account_url=storage_account_url, \n",
    "                                                container_name=container_name,\n",
    "                                                credential=sas_token)"
   ]
  },
  {
   "cell_type": "markdown",
   "id": "342124d1",
   "metadata": {},
   "source": [
    "# List products matching our product/date"
   ]
  },
  {
   "cell_type": "code",
   "execution_count": 13,
   "id": "fe9a8498",
   "metadata": {},
   "outputs": [
    {
     "name": "stdout",
     "output_type": "stream",
     "text": [
      "Searching for prefix TROPOMI/L2__O3____/2021/01/01\n",
      "\n",
      "Found 14 matching scenes:\n",
      "\n",
      "S5P_OFFL_L2__O3_____20210101T013036_20210101T031206_16680_01_020104_20210102T182728.nc\n",
      "S5P_OFFL_L2__O3_____20210101T031206_20210101T045336_16681_01_020104_20210102T203532.nc\n",
      "S5P_OFFL_L2__O3_____20210101T045336_20210101T063506_16682_01_020104_20210102T224247.nc\n",
      "S5P_OFFL_L2__O3_____20210101T063506_20210101T081636_16683_01_020104_20210103T000719.nc\n",
      "S5P_OFFL_L2__O3_____20210101T081636_20210101T095806_16684_01_020104_20210103T013023.nc\n",
      "S5P_OFFL_L2__O3_____20210101T095806_20210101T113936_16685_01_020104_20210103T031528.nc\n",
      "S5P_OFFL_L2__O3_____20210101T113936_20210101T132106_16686_01_020104_20210103T052522.nc\n",
      "S5P_OFFL_L2__O3_____20210101T132106_20210101T150236_16687_01_020104_20210103T065107.nc\n",
      "S5P_OFFL_L2__O3_____20210101T150236_20210101T164406_16688_01_020104_20210103T081248.nc\n",
      "S5P_OFFL_L2__O3_____20210101T164406_20210101T182536_16689_01_020104_20210103T101745.nc\n",
      "S5P_OFFL_L2__O3_____20210101T182536_20210101T200706_16690_01_020104_20210103T120101.nc\n",
      "S5P_OFFL_L2__O3_____20210101T200706_20210101T214836_16691_01_020104_20210103T132100.nc\n",
      "S5P_OFFL_L2__O3_____20210101T214836_20210101T233006_16692_01_020104_20210103T151234.nc\n",
      "S5P_OFFL_L2__O3_____20210101T233006_20210102T011136_16693_01_020104_20210103T162233.nc\n"
     ]
    }
   ],
   "source": [
    "prefix = '/'.join(['TROPOMI',product,date])\n",
    "print('Searching for prefix {}'.format(prefix))\n",
    "generator = container_client.list_blobs(name_starts_with=prefix)\n",
    "scene_paths = [blob.name for blob in generator]\n",
    "print('\\nFound {} matching scenes:\\n'.format(len(scene_paths)))\n",
    "for s in scene_paths:\n",
    "    print(s.split('/')[-1])"
   ]
  }
 ],
 "metadata": {
  "kernelspec": {
   "display_name": "Python 3 (ipykernel)",
   "language": "python",
   "name": "python3"
  },
  "language_info": {
   "codemirror_mode": {
    "name": "ipython",
    "version": 3
   },
   "file_extension": ".py",
   "mimetype": "text/x-python",
   "name": "python",
   "nbconvert_exporter": "python",
   "pygments_lexer": "ipython3",
   "version": "3.9.7"
  }
 },
 "nbformat": 4,
 "nbformat_minor": 5
}
