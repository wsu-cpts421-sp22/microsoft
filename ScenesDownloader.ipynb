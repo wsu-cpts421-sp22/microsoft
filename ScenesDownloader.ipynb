{
 "cells": [
  {
   "cell_type": "markdown",
   "id": "663a31c9",
   "metadata": {},
   "source": [
    "# Environment Setup"
   ]
  },
  {
   "cell_type": "code",
   "execution_count": 8,
   "id": "70312d43",
   "metadata": {
    "vscode": {
     "languageId": "python"
    }
   },
   "outputs": [],
   "source": [
    "import os\n",
    "import json\n",
    "import urllib3\n",
    "import planetary_computer\n",
    "from azure.storage.blob import ContainerClient"
   ]
  },
  {
   "cell_type": "markdown",
   "id": "9c3063a5",
   "metadata": {},
   "source": [
    "# Get Product"
   ]
  },
  {
   "cell_type": "code",
   "execution_count": null,
   "id": "f981bf4c",
   "metadata": {
    "vscode": {
     "languageId": "python"
    }
   },
   "outputs": [
    {
     "ename": "",
     "evalue": "",
     "output_type": "error",
     "traceback": [
      "\u001b[1;31mFailed to start the Kernel. \n",
      "View Jupyter <a href='command:jupyter.viewOutput'>log</a> for further details."
     ]
    }
   ],
   "source": [
    "Valid_Gas = ['CH4', 'NO2']\n",
    "\n",
    "input_gas = input('Enter Gas [ CH4 , O2 ]: ')\n",
    "if input_gas not in Valid_Gas:\n",
    "    print('invalid choice.')\n",
    "    sys.exit()\n",
    "\n",
    "if input_gas == 'CH4':\n",
    "    product = 'L2__CH4___'\n",
    "else if input_gas == 'O2':\n",
    "    product = 'L2__NO2___'\n",
    "else if input_gas == 'O3':\n",
    "    product = 'L2__O3___'"
   ]
  },
  {
   "cell_type": "markdown",
   "id": "e362952c",
   "metadata": {},
   "source": [
    "# Get Date Range"
   ]
  },
  {
   "cell_type": "code",
   "execution_count": 11,
   "id": "ce179384",
   "metadata": {
    "vscode": {
     "languageId": "python"
    }
   },
   "outputs": [
    {
     "name": "stdout",
     "output_type": "stream",
     "text": [
      "enter date [yyyy/mm/dd]: 2022/03/01\n",
      "enter your choice of Gas (O3 / NO2 / CH4): CH4\n"
     ]
    }
   ],
   "source": [
    "start_date = input('enter date [yyyy/mm/dd]: ')\n",
    "end_date = input('enter date [yyyy/mm/dd]: ')   #not done yet will be implemented with datetime\n",
    "        \n",
    "date = start_date"
   ]
  },
  {
   "cell_type": "markdown",
   "id": "1b670501",
   "metadata": {},
   "source": [
    "# Helper Functions"
   ]
  },
  {
   "cell_type": "code",
   "execution_count": null,
   "id": "4d9781f7",
   "metadata": {
    "vscode": {
     "languageId": "python"
    }
   },
   "outputs": [
    {
     "ename": "",
     "evalue": "",
     "output_type": "error",
     "traceback": [
      "\u001b[1;31mFailed to start the Kernel. \n",
      "View Jupyter <a href='command:jupyter.viewOutput'>log</a> for further details."
     ]
    }
   ],
   "source": [
    "def get_Token_Data():\n",
    "    http = urllib3.PoolManager()\n",
    "    response = http.request('GET', 'https://planetarycomputer.microsoft.com/api/sas/v1/token/sentinel5euwest/sentinel-5p')\n",
    "    data = json.loads(response.data.decode('utf-8'))\n",
    "    return data\n",
    "\n",
    "def is_file_empty(file_path):\n",
    "    # check if file exist and is empty\n",
    "    return os.path.exists(file_path) and os.stat(file_path).st_size == 0\n",
    "\n",
    "def getTime():\n",
    "    dt = datetime().now().astimezone(timezone.pst)\n",
    "    dt_string = dt.isoformat(timespec = 'milliseconds').replace('+00:00', 'Z')\n",
    "    return dt_string\n",
    "    \n",
    "def checkToken(jsonData):\n",
    "    token_expiration = jsonData['msft:expiry']\n",
    "    currTime = getTime()\n",
    "    if token_expiration <= currTime :\n",
    "        print('token expired! expiration Time: ', currTime)\n",
    "        return 0\n",
    "    else:\n",
    "        print('token still Valid! expiration Time ', curTime)\n",
    "        return 1\n",
    "\n",
    "def _create_dirs(dest_path):\n",
    "    if not os.path.exists(dest_path):\n",
    "        os.makedirs(dest_path)\n",
    "    elif not os.path.isdir(dest_path):\n",
    "        shutil.rmtree(dst_path)\n",
    "        os.makedirs(dest_path)"
   ]
  },
  {
   "cell_type": "markdown",
   "id": "a16380c2",
   "metadata": {},
   "source": [
    "# Check Token"
   ]
  },
  {
   "cell_type": "code",
   "execution_count": 9,
   "id": "be430573",
   "metadata": {
    "vscode": {
     "languageId": "python"
    }
   },
   "outputs": [],
   "source": [
    "sas_path = '/mnt/d/Wsu/microsoft/microsoft/tokens/sentinel-5p_sas.json'\n",
    "is_empty = is_file_empty(sas_path)\n",
    "\n",
    "if is_empty != 0:\n",
    "    with open(sas_path, 'r+') as f:\n",
    "        data = json.load(f)\n",
    "        if checkToken(data):\n",
    "            sas_token=data['token']\n",
    "        else:\n",
    "            newData = get_Token_Data()\n",
    "            sas_token = newData['token']\n",
    "            f.seek(0)\n",
    "            json.dump(newData, f)\n",
    "else:\n",
    "    with open(sas_path, 'r+') as f:\n",
    "        newData = get_Token_Data()\n",
    "        sas_token = newData['token']\n",
    "        f.seek(0)\n",
    "        json.dump(newData, f)"
   ]
  },
  {
   "cell_type": "markdown",
   "id": "ebd97b54",
   "metadata": {},
   "source": [
    "# Azure storage constants"
   ]
  },
  {
   "cell_type": "code",
   "execution_count": 10,
   "id": "b80cdd3d",
   "metadata": {
    "vscode": {
     "languageId": "python"
    }
   },
   "outputs": [],
   "source": [
    "storage_account_name = 'sentinel5euwest'\n",
    "container_name = 'sentinel-5p'\n",
    "storage_account_url = 'https://' + storage_account_name + '.blob.core.windows.net/'\n",
    "\n",
    "container_client = ContainerClient(account_url=storage_account_url, \n",
    "                                                container_name=container_name,\n",
    "                                                credential=sas_token)"
   ]
  },
  {
   "cell_type": "markdown",
   "id": "73ac8ebf",
   "metadata": {},
   "source": [
    "# List products matching the product and date"
   ]
  },
  {
   "cell_type": "code",
   "execution_count": 12,
   "id": "e603f3f4",
   "metadata": {
    "vscode": {
     "languageId": "python"
    }
   },
   "outputs": [
    {
     "name": "stdout",
     "output_type": "stream",
     "text": [
      "Searching for prefix TROPOMI/L2__CH4___/2022/03/01\n",
      "\n",
      "Found 14 matching scenes:\n",
      "\n",
      "S5P_OFFL_L2__CH4____20220301T004505_20220301T022635_22695_02_020301_20220302T164456.nc\n",
      "S5P_OFFL_L2__CH4____20220301T022635_20220301T040805_22696_02_020301_20220302T181137.nc\n",
      "S5P_OFFL_L2__CH4____20220301T040805_20220301T054936_22697_02_020301_20220302T200810.nc\n",
      "S5P_OFFL_L2__CH4____20220301T054936_20220301T073106_22698_02_020301_20220302T220046.nc\n",
      "S5P_OFFL_L2__CH4____20220301T073106_20220301T091237_22699_02_020301_20220302T234452.nc\n",
      "S5P_OFFL_L2__CH4____20220301T091237_20220301T105407_22700_02_020301_20220303T012017.nc\n",
      "S5P_OFFL_L2__CH4____20220301T105407_20220301T123537_22701_02_020301_20220303T031500.nc\n",
      "S5P_OFFL_L2__CH4____20220301T123537_20220301T141708_22702_02_020301_20220303T044722.nc\n",
      "S5P_OFFL_L2__CH4____20220301T141708_20220301T155838_22703_02_020301_20220303T061839.nc\n",
      "S5P_OFFL_L2__CH4____20220301T155838_20220301T174008_22704_02_020301_20220303T075219.nc\n",
      "S5P_OFFL_L2__CH4____20220301T174008_20220301T192139_22705_02_020301_20220303T100224.nc\n",
      "S5P_OFFL_L2__CH4____20220301T192139_20220301T210309_22706_02_020301_20220303T113041.nc\n",
      "S5P_OFFL_L2__CH4____20220301T210309_20220301T224440_22707_02_020301_20220303T125033.nc\n",
      "S5P_OFFL_L2__CH4____20220301T224440_20220302T002610_22708_02_020301_20220303T143253.nc\n"
     ]
    }
   ],
   "source": [
    "prefix = '/'.join(['TROPOMI',product,date])\n",
    "print('Searching for prefix {}'.format(prefix))\n",
    "generator = container_client.list_blobs(name_starts_with=prefix)\n",
    "scene_paths = [blob.name for blob in generator]\n",
    "print('\\nFound {} matching scenes:\\n'.format(len(scene_paths)))\n",
    "for s in scene_paths:\n",
    "    print(s.split('/')[-1])"
   ]
  },
  {
   "cell_type": "markdown",
   "id": "409007a2",
   "metadata": {},
   "source": [
    "# Download"
   ]
  },
  {
   "cell_type": "code",
   "execution_count": 19,
   "id": "a343661b",
   "metadata": {
    "vscode": {
     "languageId": "python"
    }
   },
   "outputs": [
    {
     "name": "stdout",
     "output_type": "stream",
     "text": [
      "Downloading TROPOMI/L2__CH4___/2022/03/01/S5P_OFFL_L2__CH4____20220301T004505_20220301T022635_22695_02_020301_20220302T164456/S5P_OFFL_L2__CH4____20220301T004505_20220301T022635_22695_02_020301_20220302T164456.nc to //wsl$/Ubuntu-20.04/home/kdaoud/mycontainer/data\\TROPOMI/L2__CH4___/2022/03/01/S5P_OFFL_L2__CH4____20220301T004505_20220301T022635_22695_02_020301_20220302T164456/S5P_OFFL_L2__CH4____20220301T004505_20220301T022635_22695_02_020301_20220302T164456.nc\n"
     ]
    },
    {
     "ename": "PermissionError",
     "evalue": "[WinError 5] Access is denied: '//wsl$/Ubuntu-20.04/home/kdaoud/mycontainer/data'",
     "output_type": "error",
     "traceback": [
      "\u001b[1;31m---------------------------------------------------------------------------\u001b[0m",
      "\u001b[1;31mPermissionError\u001b[0m                           Traceback (most recent call last)",
      "Input \u001b[1;32mIn [19]\u001b[0m, in \u001b[0;36m<cell line: 3>\u001b[1;34m()\u001b[0m\n\u001b[0;32m      7\u001b[0m \u001b[38;5;66;03m# get blob client which has download_blob method\u001b[39;00m\n\u001b[0;32m      8\u001b[0m blob_client \u001b[38;5;241m=\u001b[39m container_client\u001b[38;5;241m.\u001b[39mget_blob_client(blob)\n\u001b[1;32m----> 9\u001b[0m \u001b[43m_create_dirs\u001b[49m\u001b[43m(\u001b[49m\u001b[43mos\u001b[49m\u001b[38;5;241;43m.\u001b[39;49m\u001b[43mpath\u001b[49m\u001b[38;5;241;43m.\u001b[39;49m\u001b[43mdirname\u001b[49m\u001b[43m(\u001b[49m\u001b[43mfname\u001b[49m\u001b[43m)\u001b[49m\u001b[43m)\u001b[49m\n\u001b[0;32m     10\u001b[0m \u001b[38;5;28;01mwith\u001b[39;00m \u001b[38;5;28mopen\u001b[39m(fname, \u001b[38;5;124m\"\u001b[39m\u001b[38;5;124mwb\u001b[39m\u001b[38;5;124m\"\u001b[39m) \u001b[38;5;28;01mas\u001b[39;00m download_file:\n\u001b[0;32m     11\u001b[0m     download_file\u001b[38;5;241m.\u001b[39mwrite(blob_client\u001b[38;5;241m.\u001b[39mdownload_blob()\u001b[38;5;241m.\u001b[39mreadall())\n",
      "Input \u001b[1;32mIn [17]\u001b[0m, in \u001b[0;36m_create_dirs\u001b[1;34m(dest_path)\u001b[0m\n\u001b[0;32m      1\u001b[0m \u001b[38;5;28;01mdef\u001b[39;00m \u001b[38;5;21m_create_dirs\u001b[39m(dest_path):\n\u001b[0;32m      2\u001b[0m     \u001b[38;5;28;01mif\u001b[39;00m \u001b[38;5;129;01mnot\u001b[39;00m os\u001b[38;5;241m.\u001b[39mpath\u001b[38;5;241m.\u001b[39mexists(dest_path):\n\u001b[1;32m----> 3\u001b[0m         \u001b[43mos\u001b[49m\u001b[38;5;241;43m.\u001b[39;49m\u001b[43mmakedirs\u001b[49m\u001b[43m(\u001b[49m\u001b[43mdest_path\u001b[49m\u001b[43m)\u001b[49m\n\u001b[0;32m      4\u001b[0m     \u001b[38;5;28;01melif\u001b[39;00m \u001b[38;5;129;01mnot\u001b[39;00m os\u001b[38;5;241m.\u001b[39mpath\u001b[38;5;241m.\u001b[39misdir(dest_path):\n\u001b[0;32m      5\u001b[0m         shutil\u001b[38;5;241m.\u001b[39mrmtree(dst_path)\n",
      "File \u001b[1;32mD:\\anaconda3\\envs\\seniorProject\\lib\\os.py:215\u001b[0m, in \u001b[0;36mmakedirs\u001b[1;34m(name, mode, exist_ok)\u001b[0m\n\u001b[0;32m    213\u001b[0m \u001b[38;5;28;01mif\u001b[39;00m head \u001b[38;5;129;01mand\u001b[39;00m tail \u001b[38;5;129;01mand\u001b[39;00m \u001b[38;5;129;01mnot\u001b[39;00m path\u001b[38;5;241m.\u001b[39mexists(head):\n\u001b[0;32m    214\u001b[0m     \u001b[38;5;28;01mtry\u001b[39;00m:\n\u001b[1;32m--> 215\u001b[0m         \u001b[43mmakedirs\u001b[49m\u001b[43m(\u001b[49m\u001b[43mhead\u001b[49m\u001b[43m,\u001b[49m\u001b[43m \u001b[49m\u001b[43mexist_ok\u001b[49m\u001b[38;5;241;43m=\u001b[39;49m\u001b[43mexist_ok\u001b[49m\u001b[43m)\u001b[49m\n\u001b[0;32m    216\u001b[0m     \u001b[38;5;28;01mexcept\u001b[39;00m \u001b[38;5;167;01mFileExistsError\u001b[39;00m:\n\u001b[0;32m    217\u001b[0m         \u001b[38;5;66;03m# Defeats race condition when another thread created the path\u001b[39;00m\n\u001b[0;32m    218\u001b[0m         \u001b[38;5;28;01mpass\u001b[39;00m\n",
      "File \u001b[1;32mD:\\anaconda3\\envs\\seniorProject\\lib\\os.py:215\u001b[0m, in \u001b[0;36mmakedirs\u001b[1;34m(name, mode, exist_ok)\u001b[0m\n\u001b[0;32m    213\u001b[0m \u001b[38;5;28;01mif\u001b[39;00m head \u001b[38;5;129;01mand\u001b[39;00m tail \u001b[38;5;129;01mand\u001b[39;00m \u001b[38;5;129;01mnot\u001b[39;00m path\u001b[38;5;241m.\u001b[39mexists(head):\n\u001b[0;32m    214\u001b[0m     \u001b[38;5;28;01mtry\u001b[39;00m:\n\u001b[1;32m--> 215\u001b[0m         \u001b[43mmakedirs\u001b[49m\u001b[43m(\u001b[49m\u001b[43mhead\u001b[49m\u001b[43m,\u001b[49m\u001b[43m \u001b[49m\u001b[43mexist_ok\u001b[49m\u001b[38;5;241;43m=\u001b[39;49m\u001b[43mexist_ok\u001b[49m\u001b[43m)\u001b[49m\n\u001b[0;32m    216\u001b[0m     \u001b[38;5;28;01mexcept\u001b[39;00m \u001b[38;5;167;01mFileExistsError\u001b[39;00m:\n\u001b[0;32m    217\u001b[0m         \u001b[38;5;66;03m# Defeats race condition when another thread created the path\u001b[39;00m\n\u001b[0;32m    218\u001b[0m         \u001b[38;5;28;01mpass\u001b[39;00m\n",
      "    \u001b[1;31m[... skipping similar frames: makedirs at line 215 (3 times)]\u001b[0m\n",
      "File \u001b[1;32mD:\\anaconda3\\envs\\seniorProject\\lib\\os.py:215\u001b[0m, in \u001b[0;36mmakedirs\u001b[1;34m(name, mode, exist_ok)\u001b[0m\n\u001b[0;32m    213\u001b[0m \u001b[38;5;28;01mif\u001b[39;00m head \u001b[38;5;129;01mand\u001b[39;00m tail \u001b[38;5;129;01mand\u001b[39;00m \u001b[38;5;129;01mnot\u001b[39;00m path\u001b[38;5;241m.\u001b[39mexists(head):\n\u001b[0;32m    214\u001b[0m     \u001b[38;5;28;01mtry\u001b[39;00m:\n\u001b[1;32m--> 215\u001b[0m         \u001b[43mmakedirs\u001b[49m\u001b[43m(\u001b[49m\u001b[43mhead\u001b[49m\u001b[43m,\u001b[49m\u001b[43m \u001b[49m\u001b[43mexist_ok\u001b[49m\u001b[38;5;241;43m=\u001b[39;49m\u001b[43mexist_ok\u001b[49m\u001b[43m)\u001b[49m\n\u001b[0;32m    216\u001b[0m     \u001b[38;5;28;01mexcept\u001b[39;00m \u001b[38;5;167;01mFileExistsError\u001b[39;00m:\n\u001b[0;32m    217\u001b[0m         \u001b[38;5;66;03m# Defeats race condition when another thread created the path\u001b[39;00m\n\u001b[0;32m    218\u001b[0m         \u001b[38;5;28;01mpass\u001b[39;00m\n",
      "File \u001b[1;32mD:\\anaconda3\\envs\\seniorProject\\lib\\os.py:225\u001b[0m, in \u001b[0;36mmakedirs\u001b[1;34m(name, mode, exist_ok)\u001b[0m\n\u001b[0;32m    223\u001b[0m         \u001b[38;5;28;01mreturn\u001b[39;00m\n\u001b[0;32m    224\u001b[0m \u001b[38;5;28;01mtry\u001b[39;00m:\n\u001b[1;32m--> 225\u001b[0m     \u001b[43mmkdir\u001b[49m\u001b[43m(\u001b[49m\u001b[43mname\u001b[49m\u001b[43m,\u001b[49m\u001b[43m \u001b[49m\u001b[43mmode\u001b[49m\u001b[43m)\u001b[49m\n\u001b[0;32m    226\u001b[0m \u001b[38;5;28;01mexcept\u001b[39;00m \u001b[38;5;167;01mOSError\u001b[39;00m:\n\u001b[0;32m    227\u001b[0m     \u001b[38;5;66;03m# Cannot rely on checking for EEXIST, since the operating system\u001b[39;00m\n\u001b[0;32m    228\u001b[0m     \u001b[38;5;66;03m# could give priority to other errors like EACCES or EROFS\u001b[39;00m\n\u001b[0;32m    229\u001b[0m     \u001b[38;5;28;01mif\u001b[39;00m \u001b[38;5;129;01mnot\u001b[39;00m exist_ok \u001b[38;5;129;01mor\u001b[39;00m \u001b[38;5;129;01mnot\u001b[39;00m path\u001b[38;5;241m.\u001b[39misdir(name):\n",
      "\u001b[1;31mPermissionError\u001b[0m: [WinError 5] Access is denied: '//wsl$/Ubuntu-20.04/home/kdaoud/mycontainer/data'"
     ]
    }
   ],
   "source": [
    "# We cannot access and read the files directly from the blob. We will need to download it first.\n",
    "blob_list = container_client.list_blobs(name_starts_with=prefix)\n",
    "for blob in blob_list:\n",
    "        fname = os.path.join('./mycontainer/data', blob.name)\n",
    "        print(f'Downloading {blob.name} to {fname}')\n",
    "\n",
    "        # get blob client which has download_blob method\n",
    "        blob_client = container_client.get_blob_client(blob)\n",
    "        _create_dirs(os.path.dirname(fname))\n",
    "        with open(fname, \"wb\") as download_file:\n",
    "            download_file.write(blob_client.download_blob().readall())"
   ]
  }
 ],
 "metadata": {
  "kernelspec": {
   "display_name": "Python 3 (ipykernel)",
   "language": "python",
   "name": "python3"
  }
 },
 "nbformat": 4,
 "nbformat_minor": 5
}
