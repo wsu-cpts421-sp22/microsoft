{
 "cells": [
  {
   "cell_type": "markdown",
   "id": "4c433478",
   "metadata": {},
   "source": [
    "this set up was made with the help of this guide https://nbviewer.org/github/microsoft/AIforEarthDataSets/blob/main/data/sentinel-5p.ipynb#Auth-files"
   ]
  },
  {
   "cell_type": "markdown",
   "id": "ab2eee72",
   "metadata": {},
   "source": [
    "# Environment setup"
   ]
  },
  {
   "cell_type": "code",
   "execution_count": 1,
   "id": "ae1854d8",
   "metadata": {
    "scrolled": true
   },
   "outputs": [],
   "source": [
    "import os\n",
    "import fsspec\n",
    "import json\n",
    "import urllib3\n",
    "import xarray as xr\n",
    "import numpy as np\n",
    "from azure.storage.blob import ContainerClient\n",
    "from datetime import datetime, timezone\n",
    "\n",
    "# Not used directly, but needs to be installed to read NetCDF files with xarray\n",
    "import h5netcdf"
   ]
  },
  {
   "cell_type": "markdown",
   "id": "8981776a",
   "metadata": {},
   "source": [
    "# get Product & Date"
   ]
  },
  {
   "cell_type": "code",
   "execution_count": 2,
   "id": "f95b5df0",
   "metadata": {},
   "outputs": [
    {
     "name": "stdout",
     "output_type": "stream",
     "text": [
      "enter date [yyyy/mm/dd]: 2022/03/01\n",
      "enter your choice of Gas (O3 / NO2 / CH4): CH4\n"
     ]
    }
   ],
   "source": [
    "input_date = input('enter date [yyyy/mm/dd]: ')\n",
    "input_gas = input('enter your choice of Gas (O3 / NO2 / CH4): ')\n",
    "\n",
    "if input_gas == 'CH4':\n",
    "    product = 'L2__CH4___'\n",
    "else:\n",
    "    if input_gas == 'NO2':\n",
    "        product = 'L2__NO2___'\n",
    "    else:\n",
    "        product = 'L2__O3____'\n",
    "        \n",
    "date = input_date"
   ]
  },
  {
   "cell_type": "markdown",
   "id": "ca3213dc",
   "metadata": {},
   "source": [
    "# get Token from URL"
   ]
  },
  {
   "cell_type": "code",
   "execution_count": 3,
   "id": "0a54c390",
   "metadata": {
    "scrolled": true
   },
   "outputs": [],
   "source": [
    "def get_Token_Data():\n",
    "    http = urllib3.PoolManager()\n",
    "    response = http.request('GET', 'https://planetarycomputer.microsoft.com/api/sas/v1/token/sentinel5euwest/sentinel-5p')\n",
    "    data = json.loads(response.data.decode('utf-8'))\n",
    "    return data"
   ]
  },
  {
   "cell_type": "markdown",
   "id": "fe463978",
   "metadata": {},
   "source": [
    "# Check Token File"
   ]
  },
  {
   "cell_type": "markdown",
   "id": "0213b39f",
   "metadata": {},
   "source": [
    "## helper functions"
   ]
  },
  {
   "cell_type": "code",
   "execution_count": 4,
   "id": "449cc9b2",
   "metadata": {},
   "outputs": [],
   "source": [
    "def is_file_empty(file_path):\n",
    "    # check if file exist and is empty\n",
    "    return os.path.exists(file_path) and os.stat(file_path).st_size == 0\n",
    "\n",
    "def getTime():\n",
    "    dt = datetime().now().astimezone(timezone.pst)\n",
    "    dt_string = dt.isoformat(timespec = 'milliseconds').replace('+00:00', 'Z')\n",
    "    return dt_string\n",
    "    \n",
    "def checkToken(jsonData):\n",
    "    token_expiration = jsonData['msft:expiry']\n",
    "    currTime = getTime()\n",
    "    if token_expiration <= currTime :\n",
    "        print('token expired! expiration Time: ', currTime)\n",
    "        return 0\n",
    "    else:\n",
    "        print('token still Valid! expiration Time ', curTime)\n",
    "        return 1"
   ]
  },
  {
   "cell_type": "markdown",
   "id": "729205e0",
   "metadata": {},
   "source": [
    "## Read Token"
   ]
  },
  {
   "cell_type": "code",
   "execution_count": 5,
   "id": "c354d8a3",
   "metadata": {},
   "outputs": [],
   "source": [
    "sas_path = './tokens/sentinel-5p_sas.json'\n",
    "is_empty = is_file_empty(sas_path)\n",
    "\n",
    "if is_empty != 0:\n",
    "    with open(sas_path, 'r+') as f:\n",
    "        data = json.load(f)\n",
    "        if checkToken(data):\n",
    "            sas_token=data['token']\n",
    "        else:\n",
    "            newData = get_Token_Data()\n",
    "            sas_token = newData['token']\n",
    "            f.seek(0)\n",
    "            json.dump(newData, f)\n",
    "else:\n",
    "    with open(sas_path, 'r+') as f:\n",
    "        newData = get_Token_Data()\n",
    "        sas_token = newData['token']\n",
    "        f.seek(0)\n",
    "        json.dump(newData, f)"
   ]
  },
  {
   "cell_type": "markdown",
   "id": "eda9ea7a",
   "metadata": {},
   "source": [
    "# Azure storage constants"
   ]
  },
  {
   "cell_type": "code",
   "execution_count": 6,
   "id": "ab8afb62",
   "metadata": {},
   "outputs": [],
   "source": [
    "storage_account_name = 'sentinel5euwest'\n",
    "container_name = 'sentinel-5p'\n",
    "storage_account_url = 'https://' + storage_account_name + '.blob.core.windows.net/'\n",
    "\n",
    "container_client = ContainerClient(account_url=storage_account_url, \n",
    "                                                container_name=container_name,\n",
    "                                                credential=sas_token)"
   ]
  },
  {
   "cell_type": "markdown",
   "id": "342124d1",
   "metadata": {},
   "source": [
    "# List products matching our product/date"
   ]
  },
  {
   "cell_type": "code",
   "execution_count": 7,
   "id": "fe9a8498",
   "metadata": {
    "scrolled": true
   },
   "outputs": [
    {
     "name": "stdout",
     "output_type": "stream",
     "text": [
      "Searching for prefix TROPOMI/L2__CH4___/2022/03/01\n",
      "\n",
      "Found 14 matching scenes:\n",
      "\n",
      "S5P_OFFL_L2__CH4____20220301T004505_20220301T022635_22695_02_020301_20220302T164456.nc\n",
      "S5P_OFFL_L2__CH4____20220301T022635_20220301T040805_22696_02_020301_20220302T181137.nc\n",
      "S5P_OFFL_L2__CH4____20220301T040805_20220301T054936_22697_02_020301_20220302T200810.nc\n",
      "S5P_OFFL_L2__CH4____20220301T054936_20220301T073106_22698_02_020301_20220302T220046.nc\n",
      "S5P_OFFL_L2__CH4____20220301T073106_20220301T091237_22699_02_020301_20220302T234452.nc\n",
      "S5P_OFFL_L2__CH4____20220301T091237_20220301T105407_22700_02_020301_20220303T012017.nc\n",
      "S5P_OFFL_L2__CH4____20220301T105407_20220301T123537_22701_02_020301_20220303T031500.nc\n",
      "S5P_OFFL_L2__CH4____20220301T123537_20220301T141708_22702_02_020301_20220303T044722.nc\n",
      "S5P_OFFL_L2__CH4____20220301T141708_20220301T155838_22703_02_020301_20220303T061839.nc\n",
      "S5P_OFFL_L2__CH4____20220301T155838_20220301T174008_22704_02_020301_20220303T075219.nc\n",
      "S5P_OFFL_L2__CH4____20220301T174008_20220301T192139_22705_02_020301_20220303T100224.nc\n",
      "S5P_OFFL_L2__CH4____20220301T192139_20220301T210309_22706_02_020301_20220303T113041.nc\n",
      "S5P_OFFL_L2__CH4____20220301T210309_20220301T224440_22707_02_020301_20220303T125033.nc\n",
      "S5P_OFFL_L2__CH4____20220301T224440_20220302T002610_22708_02_020301_20220303T143253.nc\n"
     ]
    }
   ],
   "source": [
    "prefix = '/'.join(['TROPOMI',product,date])\n",
    "print('Searching for prefix {}'.format(prefix))\n",
    "generator = container_client.list_blobs(name_starts_with=prefix)\n",
    "scene_paths = [blob.name for blob in generator]\n",
    "print('\\nFound {} matching scenes:\\n'.format(len(scene_paths)))\n",
    "for s in scene_paths:\n",
    "    print(s.split('/')[-1])"
   ]
  },
  {
   "cell_type": "markdown",
   "id": "9a9e254b",
   "metadata": {},
   "source": [
    "# Print Metadata for one scene"
   ]
  },
  {
   "cell_type": "code",
   "execution_count": 8,
   "id": "0594f3d4",
   "metadata": {},
   "outputs": [
    {
     "name": "stdout",
     "output_type": "stream",
     "text": [
      "Processing image at URL:\n",
      "https://sentinel5euwest.blob.core.windows.net/sentinel-5p/TROPOMI/L2__CH4___/2022/03/01/S5P_OFFL_L2__CH4____20220301T123537_20220301T141708_22702_02_020301_20220303T044722/S5P_OFFL_L2__CH4____20220301T123537_20220301T141708_22702_02_020301_20220303T044722.nc\n"
     ]
    }
   ],
   "source": [
    "#different gas use different sc_mode, default CH4\n",
    "sc_mode = 'OFFL'\n",
    "if (product == 'L2__NO2___'):\n",
    "    sc_mode = 'NRTI'\n",
    "#need to add sc_mode for the other gases. will probably move this part to the beginning\n",
    "\n",
    "offl_scenes = [s for s in scene_paths if sc_mode in s]\n",
    "scene_path = offl_scenes[len(offl_scenes) // 2]\n",
    "url = storage_account_url + container_name + '/' + scene_path\n",
    "print('Processing image at URL:\\n{}'.format(url))"
   ]
  },
  {
   "cell_type": "markdown",
   "id": "00e9132c",
   "metadata": {},
   "source": [
    "## Sign URL"
   ]
  },
  {
   "cell_type": "code",
   "execution_count": 9,
   "id": "efa45453",
   "metadata": {
    "scrolled": true
   },
   "outputs": [
    {
     "name": "stdout",
     "output_type": "stream",
     "text": [
      "https://sentinel5euwest.blob.core.windows.net/sentinel-5p/TROPOMI/L2__CH4___/2022/03/01/S5P_OFFL_L2__CH4____20220301T123537_20220301T141708_22702_02_020301_20220303T044722/S5P_OFFL_L2__CH4____20220301T123537_20220301T141708_22702_02_020301_20220303T044722.nc?st=2022-04-09T22%3A04%3A04Z&se=2022-04-10T22%3A49%3A04Z&sp=rl&sv=2020-06-12&sr=c&skoid=c85c15d6-d1ae-42d4-af60-e2ca0f81359b&sktid=72f988bf-86f1-41af-91ab-2d7cd011db47&skt=2022-04-10T22%3A04%3A03Z&ske=2022-04-17T22%3A04%3A03Z&sks=b&skv=2020-06-12&sig=37GEsPsmbf8FkUsokSVFNCgfO5P1uriVT2S%2B1ZCl298%3D\n"
     ]
    }
   ],
   "source": [
    "import planetary_computer\n",
    "import pystac\n",
    "import rasterio #this seems to break when called\n",
    "\n",
    "#item: pystac.Item = ... # no idea what goes here been trying multiple things but still stuck\n",
    "b4_href = planetary_computer.sign(url) #i think this sign the url directly\n",
    "\n",
    "print(b4_href)\n",
    "#this print a url if clicked would download the scene\n",
    "\n",
    "\n"
   ]
  },
  {
   "cell_type": "code",
   "execution_count": 10,
   "id": "4ee26430",
   "metadata": {},
   "outputs": [
    {
     "name": "stdout",
     "output_type": "stream",
     "text": [
      "opening file...\n",
      "<h5netcdf.File 'S5P_OFFL_L2__CH4____20220301T123537_20220301T141708_22702_02_020301_20220303T044722.nc?st=2022-04-09T22%3A04%3A04Z&se=2022-04-10T22%3A49%3A04Z&sp=rl&sv=2020-06-12&sr=c&skoid=c85c15d6-d1ae-42d4-af60-e2ca0f81359b&sktid=72f988bf-86f1-41af-91ab-2d7cd011db47&skt=2022-04-10T22%3A04%3A03Z&ske=2022-04-17T22%3A04%3A03Z&sks=b&skv=2020-06-12&sig=37GEsPsmbf8FkUsokSVFNCgfO5P1uriVT2S%2B1ZCl298%3D>' (mode r)>\n",
      "Dimensions:\n",
      "Groups:\n",
      "    PRODUCT\n",
      "    METADATA\n",
      "Variables:\n",
      "Attributes:\n",
      "    Conventions: 'CF-1.7'\n",
      "    institution: 'KNMI/SRON'\n",
      "    source: 'Sentinel 5 precursor, TROPOMI, space-borne remote sensing, L2'\n",
      "    history: '2022-03-04 04:24:47 f_s5pops tropnll2dp /mnt/data1/storage_offl_l2/cache_offl_l2/WORKING-610674121/JobOrder.610674092.xml'\n",
      "    summary: 'TROPOMI/S5P Methane 1-Orbit L2 Swath 5.5x7.0km'\n",
      "    tracking_id: '14ba427e-8470-40af-9c63-c0d0426e924c'\n",
      "    id: 'S5P_OFFL_L2__CH4____20220301T123537_20220301T141708_22702_02_020301_20220303T044722'\n",
      "    time_reference: '2022-03-01T00:00:00Z'\n",
      "    time_reference_days_since_1950: 26357\n",
      "    time_reference_julian_day: 2459639.5\n",
      "    time_reference_seconds_since_1970: 1646092800\n",
      "    time_coverage_start: '2022-03-01T12:57:11Z'\n",
      "    time_coverage_end: '2022-03-01T13:55:36Z'\n",
      "    time_coverage_duration: 'PT3504.401S'\n",
      "    time_coverage_resolution: 'PT0.840S'\n",
      "    orbit: 22702\n",
      "    references: 'http://www.tropomi.eu/data-products/methane https://sentinels.copernicus.eu/web/sentinel/technical-guides/sentinel-5p/products-algorithms'\n",
      "    processor_version: '2.3.1'\n",
      "    keywords_vocabulary: 'AGU index terms, http://publications.agu.org/author-resource-center/index-terms/'\n",
      "    keywords: '0300 Atmospheric Composition and Structure; 0365 Troposphere, Composition and Chemistry; 0400 Biogeosciences; 0428 Carbon Cycling; 1600 Global Change'\n",
      "    standard_name_vocabulary: 'NetCDF Climate and Forecast Metadata Conventions Standard Name Table (v29, 08 July 2015), http://cfconventions.org/standard-names.html'\n",
      "    naming_authority: 'nl.knmi'\n",
      "    cdm_data_type: 'Swath'\n",
      "    date_created: '2022-03-03T04:47:26Z'\n",
      "    creator_name: 'The Sentinel 5 Precursor TROPOMI Level 2 products are developed with funding from the European Space Agency (ESA), the Netherlands Space Office (NSO), the Belgian Science Policy Office, the German Aerospace Center (DLR) and the Bayerisches Staatsministerium f\\udcc3\\udcbcr Wirtschaft und Medien, Energie und Technologie (StMWi).'\n",
      "    creator_url: 'http://www.tropomi.eu https://sentinels.copernicus.eu/web/sentinel/missions/sentinel-5p'\n",
      "    creator_email: 'EOSupport@Copernicus.esa.int'\n",
      "    project: 'Sentinel 5 precursor/TROPOMI'\n",
      "    geospatial_lat_min: -89.939125\n",
      "    geospatial_lat_max: 89.93883\n",
      "    geospatial_lon_min: -179.99837\n",
      "    geospatial_lon_max: 179.99539\n",
      "    license: 'No conditions apply'\n",
      "    platform: 'S5P'\n",
      "    sensor: 'TROPOMI'\n",
      "    spatial_resolution: '5.5x7.0 km2'\n",
      "    cpp_compiler_version: 'g++ (GCC) 4.8.5 20150623 (Red Hat 4.8.5-11)'\n",
      "    cpp_compiler_flags: '-g -O2 -fPIC -std=c++11 -W -Wall -Wno-ignored-qualifiers -Wno-write-strings -Wno-unused-variable -Wno-unused-parameter -DTROPNLL2DP'\n",
      "    f90_compiler_version: 'GNU Fortran (GCC) 4.8.5 20150623 (Red Hat 4.8.5-11)'\n",
      "    f90_compiler_flags: '-gdwarf-3 -O2 -fPIC -cpp -ffpe-trap=invalid -fno-range-check -frecursive -fimplicit-none -ffree-line-length-none -DTROPNLL2DP -Wuninitialized -Wtabs'\n",
      "    build_date: '2021-10-08T11:04:00Z'\n",
      "    revision_control_identifier: 'd70206b382e3'\n",
      "    geolocation_grid_from_band: 7\n",
      "    identifier_product_doi: '10.5270/S5P-3lcdqiv'\n",
      "    identifier_product_doi_authority: 'http://dx.doi.org/'\n",
      "    algorithm_version: '1.4.0'\n",
      "    title: 'TROPOMI/S5P Methane 1-Orbit L2 Swath 5.5x7.0km'\n",
      "    product_version: '1.4.0'\n",
      "    processing_status: 'Nominal'\n",
      "    Status_MET_2D: 'Nominal'\n",
      "    Status_CTM_CO: 'Nominal'\n",
      "    Status_CTMCH4: 'Nominal'\n",
      "    Status_NPP_VIIRS: 'Nominal'\n"
     ]
    },
    {
     "name": "stderr",
     "output_type": "stream",
     "text": [
      "C:\\Users\\khali\\AppData\\Local\\Temp\\ipykernel_17164\\250077703.py:3: FutureWarning: String decoding changed with h5py >= 3.0. See https://docs.h5py.org/en/latest/strings.html and https://github.com/h5netcdf/h5netcdf/issues/132 for more details. Currently backwards compatibility with h5py < 3.0 is kept by decoding vlen strings per default. This will change in future versions for consistency with h5py >= 3.0. To silence this warning set kwarg ``decode_vlen_strings=False`` which will return Python bytes from variables containing vlen strings. Setting ``decode_vlen_strings=True`` forces vlen string decoding which returns Python strings from variables containing vlen strings.\n",
      "  ds1 = h5netcdf.File(f1, 'r')\n"
     ]
    }
   ],
   "source": [
    "print('opening file...')\n",
    "with fsspec.open(b4_href) as f1:\n",
    "    ds1 = h5netcdf.File(f1, 'r')\n",
    "    print(ds1)"
   ]
  },
  {
   "cell_type": "markdown",
   "id": "c81d75b7",
   "metadata": {},
   "source": [
    "## Print metadata"
   ]
  },
  {
   "cell_type": "code",
   "execution_count": 11,
   "id": "fae2e11a",
   "metadata": {
    "scrolled": true
   },
   "outputs": [
    {
     "name": "stdout",
     "output_type": "stream",
     "text": [
      "loading METADATA\n",
      "=METADATA===================================\n",
      "<xarray.Dataset>\n",
      "Dimensions:  ()\n",
      "Data variables:\n",
      "    *empty*\n",
      "Attributes: (12/53)\n",
      "    Conventions:                        CF-1.7\n",
      "    institution:                        KNMI/SRON\n",
      "    source:                             Sentinel 5 precursor, TROPOMI, space-...\n",
      "    history:                            2022-03-04 04:24:47 f_s5pops tropnll2...\n",
      "    summary:                            TROPOMI/S5P Methane 1-Orbit L2 Swath ...\n",
      "    tracking_id:                        14ba427e-8470-40af-9c63-c0d0426e924c\n",
      "    ...                                 ...\n",
      "    product_version:                    1.4.0\n",
      "    processing_status:                  Nominal\n",
      "    Status_MET_2D:                      Nominal\n",
      "    Status_CTM_CO:                      Nominal\n",
      "    Status_CTMCH4:                      Nominal\n",
      "    Status_NPP_VIIRS:                   Nominal\n"
     ]
    }
   ],
   "source": [
    "import warnings; warnings.filterwarnings('ignore')\n",
    "\n",
    "print('loading METADATA')\n",
    "\n",
    "with fsspec.open(b4_href) as f:\n",
    "    ds = xr.open_dataset(f)    \n",
    "print('=METADATA===================================')\n",
    "print(ds)"
   ]
  },
  {
   "cell_type": "markdown",
   "id": "dd288539",
   "metadata": {},
   "source": [
    "# Open Data"
   ]
  },
  {
   "cell_type": "code",
   "execution_count": null,
   "id": "940e4e75",
   "metadata": {},
   "outputs": [],
   "source": []
  },
  {
   "cell_type": "code",
   "execution_count": null,
   "id": "c0fc4ac2",
   "metadata": {},
   "outputs": [],
   "source": []
  }
 ],
 "metadata": {
  "kernelspec": {
   "display_name": "Python 3 (ipykernel)",
   "language": "python",
   "name": "python3"
  },
  "language_info": {
   "codemirror_mode": {
    "name": "ipython",
    "version": 3
   },
   "file_extension": ".py",
   "mimetype": "text/x-python",
   "name": "python",
   "nbconvert_exporter": "python",
   "pygments_lexer": "ipython3",
   "version": "3.9.7"
  }
 },
 "nbformat": 4,
 "nbformat_minor": 5
}
