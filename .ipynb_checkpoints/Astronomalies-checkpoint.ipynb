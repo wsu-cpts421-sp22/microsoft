{
 "cells": [
  {
   "cell_type": "markdown",
   "id": "4c433478",
   "metadata": {},
   "source": [
    "this set up was made with the help of this guide https://nbviewer.org/github/microsoft/AIforEarthDataSets/blob/main/data/sentinel-5p.ipynb#Auth-files"
   ]
  },
  {
   "cell_type": "markdown",
   "id": "ab2eee72",
   "metadata": {},
   "source": [
    "# Environment setup"
   ]
  },
  {
   "cell_type": "code",
   "execution_count": 1,
   "id": "ae1854d8",
   "metadata": {
    "scrolled": true
   },
   "outputs": [],
   "source": [
    "import os\n",
    "import fsspec\n",
    "import json\n",
    "import urllib3\n",
    "import xarray as xr\n",
    "import numpy as np\n",
    "from azure.storage.blob import ContainerClient\n",
    "from datetime import datetime, timezone\n",
    "\n",
    "# Not used directly, but needs to be installed to read NetCDF files with xarray\n",
    "import h5netcdf"
   ]
  },
  {
   "cell_type": "markdown",
   "id": "8981776a",
   "metadata": {},
   "source": [
    "# get Product & Date"
   ]
  },
  {
   "cell_type": "code",
   "execution_count": 2,
   "id": "f95b5df0",
   "metadata": {},
   "outputs": [
    {
     "name": "stdout",
     "output_type": "stream",
     "text": [
      "enter date [yyyy/mm/dd]: 2022/04/01\n",
      "enter your choice of Gas (O3 / NO2 / CH4): NO2\n"
     ]
    }
   ],
   "source": [
    "input_date = input('enter date [yyyy/mm/dd]: ')\n",
    "input_gas = input('enter your choice of Gas (O3 / NO2 / CH4): ')\n",
    "\n",
    "if input_gas == 'CH4':\n",
    "    product = 'L2__CH4___'\n",
    "else:\n",
    "    if input_gas == 'NO2':\n",
    "        product = 'L2__NO2___'\n",
    "    else:\n",
    "        product = 'L2__O3____'\n",
    "        \n",
    "date = input_date"
   ]
  },
  {
   "cell_type": "markdown",
   "id": "ca3213dc",
   "metadata": {},
   "source": [
    "# get Token from URL"
   ]
  },
  {
   "cell_type": "code",
   "execution_count": 3,
   "id": "0a54c390",
   "metadata": {
    "scrolled": true
   },
   "outputs": [],
   "source": [
    "def get_Token_Data():\n",
    "    http = urllib3.PoolManager()\n",
    "    response = http.request('GET', 'https://planetarycomputer.microsoft.com/api/sas/v1/token/sentinel5euwest/sentinel-5p')\n",
    "    data = json.loads(response.data.decode('utf-8'))\n",
    "    return data"
   ]
  },
  {
   "cell_type": "markdown",
   "id": "fe463978",
   "metadata": {},
   "source": [
    "# Check Token File"
   ]
  },
  {
   "cell_type": "markdown",
   "id": "0213b39f",
   "metadata": {},
   "source": [
    "## helper functions"
   ]
  },
  {
   "cell_type": "code",
   "execution_count": 4,
   "id": "449cc9b2",
   "metadata": {},
   "outputs": [],
   "source": [
    "def is_file_empty(file_path):\n",
    "    # check if file exist and is empty\n",
    "    return os.path.exists(file_path) and os.stat(file_path).st_size == 0\n",
    "\n",
    "def getTime():\n",
    "    dt = datetime().now().astimezone(timezone.pst)\n",
    "    dt_string = dt.isoformat(timespec = 'milliseconds').replace('+00:00', 'Z')\n",
    "    return dt_string\n",
    "    \n",
    "def checkToken(jsonData):\n",
    "    token_expiration = jsonData['msft:expiry']\n",
    "    currTime = getTime()\n",
    "    if token_expiration <= currTime :\n",
    "        print('token expired! expiration Time: ', currTime)\n",
    "        return 0\n",
    "    else:\n",
    "        print('token still Valid! expiration Time ', curTime)\n",
    "        return 1"
   ]
  },
  {
   "cell_type": "markdown",
   "id": "729205e0",
   "metadata": {},
   "source": [
    "## Read Token"
   ]
  },
  {
   "cell_type": "code",
   "execution_count": 5,
   "id": "c354d8a3",
   "metadata": {},
   "outputs": [],
   "source": [
    "sas_path = './tokens/sentinel-5p_sas.json'\n",
    "is_empty = is_file_empty(sas_path)\n",
    "\n",
    "if is_empty != 0:\n",
    "    with open(sas_path, 'r+') as f:\n",
    "        data = json.load(f)\n",
    "        if checkToken(data):\n",
    "            sas_token=data['token']\n",
    "        else:\n",
    "            newData = get_Token_Data()\n",
    "            sas_token = newData['token']\n",
    "            f.seek(0)\n",
    "            json.dump(newData, f)\n",
    "else:\n",
    "    with open(sas_path, 'r+') as f:\n",
    "        newData = get_Token_Data()\n",
    "        sas_token = newData['token']\n",
    "        f.seek(0)\n",
    "        json.dump(newData, f)"
   ]
  },
  {
   "cell_type": "markdown",
   "id": "eda9ea7a",
   "metadata": {},
   "source": [
    "# Azure storage constants"
   ]
  },
  {
   "cell_type": "code",
   "execution_count": 6,
   "id": "ab8afb62",
   "metadata": {},
   "outputs": [],
   "source": [
    "storage_account_name = 'sentinel5euwest'\n",
    "container_name = 'sentinel-5p'\n",
    "storage_account_url = 'https://' + storage_account_name + '.blob.core.windows.net/'\n",
    "\n",
    "container_client = ContainerClient(account_url=storage_account_url, \n",
    "                                                container_name=container_name,\n",
    "                                                credential=sas_token)"
   ]
  },
  {
   "cell_type": "markdown",
   "id": "342124d1",
   "metadata": {},
   "source": [
    "# List products matching our product/date"
   ]
  },
  {
   "cell_type": "code",
   "execution_count": 7,
   "id": "fe9a8498",
   "metadata": {
    "scrolled": true
   },
   "outputs": [
    {
     "name": "stdout",
     "output_type": "stream",
     "text": [
      "Searching for prefix TROPOMI/L2__NO2___/2022/04/01\n",
      "\n",
      "Found 181 matching scenes:\n",
      "\n",
      "S5P_NRTI_L2__NO2____20220401T000021_20220401T000521_23134_02_020301_20220401T010548.nc\n",
      "S5P_NRTI_L2__NO2____20220401T000521_20220401T001021_23134_02_020301_20220401T011141.nc\n",
      "S5P_NRTI_L2__NO2____20220401T001021_20220401T001521_23134_02_020301_20220401T011325.nc\n",
      "S5P_NRTI_L2__NO2____20220401T001521_20220401T002021_23134_02_020301_20220401T012101.nc\n",
      "S5P_NRTI_L2__NO2____20220401T002021_20220401T002521_23134_02_020301_20220401T012601.nc\n",
      "S5P_NRTI_L2__NO2____20220401T002521_20220401T003021_23134_02_020301_20220401T012731.nc\n",
      "S5P_NRTI_L2__NO2____20220401T003021_20220401T003521_23134_02_020301_20220401T013526.nc\n",
      "S5P_NRTI_L2__NO2____20220401T003521_20220401T004021_23134_02_020301_20220401T022758.nc\n",
      "S5P_NRTI_L2__NO2____20220401T004021_20220401T004521_23134_02_020301_20220401T022657.nc\n",
      "S5P_NRTI_L2__NO2____20220401T004521_20220401T005021_23134_02_020301_20220401T022451.nc\n",
      "S5P_NRTI_L2__NO2____20220401T012521_20220401T013021_23135_02_020301_20220401T022828.nc\n",
      "S5P_NRTI_L2__NO2____20220401T013021_20220401T013521_23135_02_020301_20220401T023123.nc\n",
      "S5P_NRTI_L2__NO2____20220401T013521_20220401T014021_23135_02_020301_20220401T023606.nc\n",
      "S5P_NRTI_L2__NO2____20220401T014021_20220401T014521_23135_02_020301_20220401T023434.nc\n",
      "S5P_NRTI_L2__NO2____20220401T014521_20220401T015021_23135_02_020301_20220401T023302.nc\n",
      "S5P_NRTI_L2__NO2____20220401T015021_20220401T015521_23135_02_020301_20220401T024134.nc\n",
      "S5P_NRTI_L2__NO2____20220401T015521_20220401T020021_23135_02_020301_20220401T024312.nc\n",
      "S5P_NRTI_L2__NO2____20220401T020021_20220401T020521_23135_02_020301_20220401T024927.nc\n",
      "S5P_NRTI_L2__NO2____20220401T020521_20220401T021021_23135_02_020301_20220401T025041.nc\n",
      "S5P_NRTI_L2__NO2____20220401T021021_20220401T021521_23135_02_020301_20220401T025954.nc\n",
      "S5P_NRTI_L2__NO2____20220401T021521_20220401T022021_23135_02_020301_20220401T040953.nc\n",
      "S5P_NRTI_L2__NO2____20220401T022021_20220401T022521_23135_02_020301_20220401T040854.nc\n",
      "S5P_NRTI_L2__NO2____20220401T022521_20220401T023021_23135_02_020301_20220401T040653.nc\n",
      "S5P_NRTI_L2__NO2____20220401T031021_20220401T031521_23136_02_020301_20220401T041057.nc\n",
      "S5P_NRTI_L2__NO2____20220401T031521_20220401T032021_23136_02_020301_20220401T041607.nc\n",
      "S5P_NRTI_L2__NO2____20220401T032021_20220401T032521_23136_02_020301_20220401T041616.nc\n",
      "S5P_NRTI_L2__NO2____20220401T032521_20220401T033021_23136_02_020301_20220401T041433.nc\n",
      "S5P_NRTI_L2__NO2____20220401T033021_20220401T033521_23136_02_020301_20220401T042307.nc\n",
      "S5P_NRTI_L2__NO2____20220401T033521_20220401T034021_23136_02_020301_20220401T042406.nc\n",
      "S5P_NRTI_L2__NO2____20220401T034021_20220401T034521_23136_02_020301_20220401T042900.nc\n",
      "S5P_NRTI_L2__NO2____20220401T034521_20220401T035021_23136_02_020301_20220401T043457.nc\n",
      "S5P_NRTI_L2__NO2____20220401T035021_20220401T035521_23136_02_020301_20220401T043602.nc\n",
      "S5P_NRTI_L2__NO2____20220401T035521_20220401T040021_23136_02_020301_20220401T054957.nc\n",
      "S5P_NRTI_L2__NO2____20220401T040021_20220401T040521_23136_02_020301_20220401T055001.nc\n",
      "S5P_NRTI_L2__NO2____20220401T040521_20220401T041021_23136_02_020301_20220401T054753.nc\n",
      "S5P_NRTI_L2__NO2____20220401T045021_20220401T045521_23137_02_020301_20220401T055055.nc\n",
      "S5P_NRTI_L2__NO2____20220401T045521_20220401T050021_23137_02_020301_20220401T055552.nc\n",
      "S5P_NRTI_L2__NO2____20220401T050021_20220401T050521_23137_02_020301_20220401T055605.nc\n",
      "S5P_NRTI_L2__NO2____20220401T050521_20220401T051021_23137_02_020301_20220401T055640.nc\n",
      "S5P_NRTI_L2__NO2____20220401T051021_20220401T051521_23137_02_020301_20220401T055742.nc\n",
      "S5P_NRTI_L2__NO2____20220401T051521_20220401T052021_23137_02_020301_20220401T060632.nc\n",
      "S5P_NRTI_L2__NO2____20220401T052021_20220401T052521_23137_02_020301_20220401T060804.nc\n",
      "S5P_NRTI_L2__NO2____20220401T052521_20220401T053021_23137_02_020301_20220401T061527.nc\n",
      "S5P_NRTI_L2__NO2____20220401T053021_20220401T053521_23137_02_020301_20220401T061656.nc\n",
      "S5P_NRTI_L2__NO2____20220401T053521_20220401T054021_23137_02_020301_20220401T072958.nc\n",
      "S5P_NRTI_L2__NO2____20220401T054021_20220401T054521_23137_02_020301_20220401T072927.nc\n",
      "S5P_NRTI_L2__NO2____20220401T054521_20220401T055021_23137_02_020301_20220401T072825.nc\n",
      "S5P_NRTI_L2__NO2____20220401T055021_20220401T055521_23137_02_020301_20220401T072655.nc\n",
      "S5P_NRTI_L2__NO2____20220401T063021_20220401T063521_23138_02_020301_20220401T073024.nc\n",
      "S5P_NRTI_L2__NO2____20220401T063521_20220401T064021_23138_02_020301_20220401T073602.nc\n",
      "S5P_NRTI_L2__NO2____20220401T064021_20220401T064521_23138_02_020301_20220401T073548.nc\n",
      "S5P_NRTI_L2__NO2____20220401T064521_20220401T065021_23138_02_020301_20220401T073716.nc\n",
      "S5P_NRTI_L2__NO2____20220401T065021_20220401T065521_23138_02_020301_20220401T074204.nc\n",
      "S5P_NRTI_L2__NO2____20220401T065521_20220401T070021_23138_02_020301_20220401T074535.nc\n",
      "S5P_NRTI_L2__NO2____20220401T070021_20220401T070521_23138_02_020301_20220401T075127.nc\n",
      "S5P_NRTI_L2__NO2____20220401T070521_20220401T071021_23138_02_020301_20220401T075625.nc\n",
      "S5P_NRTI_L2__NO2____20220401T071021_20220401T071521_23138_02_020301_20220401T080157.nc\n",
      "S5P_NRTI_L2__NO2____20220401T071521_20220401T072021_23138_02_020301_20220401T091026.nc\n",
      "S5P_NRTI_L2__NO2____20220401T072021_20220401T072521_23138_02_020301_20220401T091101.nc\n",
      "S5P_NRTI_L2__NO2____20220401T072521_20220401T073021_23138_02_020301_20220401T090925.nc\n",
      "S5P_NRTI_L2__NO2____20220401T073021_20220401T073521_23138_02_020301_20220401T090753.nc\n",
      "S5P_NRTI_L2__NO2____20220401T081021_20220401T081521_23139_02_020301_20220401T091124.nc\n",
      "S5P_NRTI_L2__NO2____20220401T081521_20220401T082021_23139_02_020301_20220401T091605.nc\n",
      "S5P_NRTI_L2__NO2____20220401T082021_20220401T082521_23139_02_020301_20220401T091706.nc\n",
      "S5P_NRTI_L2__NO2____20220401T082521_20220401T083021_23139_02_020301_20220401T091746.nc\n",
      "S5P_NRTI_L2__NO2____20220401T083021_20220401T083521_23139_02_020301_20220401T092243.nc\n",
      "S5P_NRTI_L2__NO2____20220401T083521_20220401T084021_23139_02_020301_20220401T092407.nc\n",
      "S5P_NRTI_L2__NO2____20220401T084021_20220401T084521_23139_02_020301_20220401T093126.nc\n",
      "S5P_NRTI_L2__NO2____20220401T084521_20220401T085021_23139_02_020301_20220401T093230.nc\n",
      "S5P_NRTI_L2__NO2____20220401T085021_20220401T085521_23139_02_020301_20220401T094152.nc\n",
      "S5P_NRTI_L2__NO2____20220401T085521_20220401T090021_23139_02_020301_20220401T105126.nc\n",
      "S5P_NRTI_L2__NO2____20220401T090021_20220401T090521_23139_02_020301_20220401T105156.nc\n",
      "S5P_NRTI_L2__NO2____20220401T090521_20220401T091021_23139_02_020301_20220401T104955.nc\n",
      "S5P_NRTI_L2__NO2____20220401T091021_20220401T091521_23139_02_020301_20220401T104900.nc\n",
      "S5P_NRTI_L2__NO2____20220401T095521_20220401T100021_23140_02_020301_20220401T105635.nc\n",
      "S5P_NRTI_L2__NO2____20220401T100021_20220401T100521_23140_02_020301_20220401T105748.nc\n",
      "S5P_NRTI_L2__NO2____20220401T100521_20220401T101021_23140_02_020301_20220401T105814.nc\n",
      "S5P_NRTI_L2__NO2____20220401T101021_20220401T101521_23140_02_020301_20220401T110309.nc\n",
      "S5P_NRTI_L2__NO2____20220401T101521_20220401T102021_23140_02_020301_20220401T110433.nc\n",
      "S5P_NRTI_L2__NO2____20220401T102021_20220401T102521_23140_02_020301_20220401T111132.nc\n",
      "S5P_NRTI_L2__NO2____20220401T102521_20220401T103021_23140_02_020301_20220401T111728.nc\n",
      "S5P_NRTI_L2__NO2____20220401T103021_20220401T103521_23140_02_020301_20220401T112358.nc\n",
      "S5P_NRTI_L2__NO2____20220401T103521_20220401T104021_23140_02_020301_20220401T124124.nc\n",
      "S5P_NRTI_L2__NO2____20220401T104021_20220401T104521_23140_02_020301_20220401T124158.nc\n",
      "S5P_NRTI_L2__NO2____20220401T104521_20220401T105021_23140_02_020301_20220401T123953.nc\n",
      "S5P_NRTI_L2__NO2____20220401T105021_20220401T105521_23140_02_020301_20220401T124023.nc\n",
      "S5P_NRTI_L2__NO2____20220401T113521_20220401T114021_23141_02_020301_20220401T124716.nc\n",
      "S5P_NRTI_L2__NO2____20220401T114021_20220401T114521_23141_02_020301_20220401T124821.nc\n",
      "S5P_NRTI_L2__NO2____20220401T114521_20220401T115021_23141_02_020301_20220401T124954.nc\n",
      "S5P_NRTI_L2__NO2____20220401T115021_20220401T115521_23141_02_020301_20220401T125209.nc\n",
      "S5P_NRTI_L2__NO2____20220401T115521_20220401T120021_23141_02_020301_20220401T125734.nc\n",
      "S5P_NRTI_L2__NO2____20220401T120021_20220401T120521_23141_02_020301_20220401T130239.nc\n",
      "S5P_NRTI_L2__NO2____20220401T120521_20220401T121021_23141_02_020301_20220401T130820.nc\n",
      "S5P_NRTI_L2__NO2____20220401T121021_20220401T121521_23141_02_020301_20220401T130941.nc\n",
      "S5P_NRTI_L2__NO2____20220401T121521_20220401T122021_23141_02_020301_20220401T131924.nc\n",
      "S5P_NRTI_L2__NO2____20220401T122021_20220401T122521_23141_02_020301_20220401T132654.nc\n",
      "S5P_NRTI_L2__NO2____20220401T122521_20220401T123021_23141_02_020301_20220401T141958.nc\n",
      "S5P_NRTI_L2__NO2____20220401T123021_20220401T123521_23141_02_020301_20220401T141936.nc\n",
      "S5P_NRTI_L2__NO2____20220401T123521_20220401T124021_23141_02_020301_20220401T141652.nc\n",
      "S5P_NRTI_L2__NO2____20220401T131521_20220401T132021_23142_02_020301_20220401T142029.nc\n",
      "S5P_NRTI_L2__NO2____20220401T132021_20220401T132521_23142_02_020301_20220401T142408.nc\n",
      "S5P_NRTI_L2__NO2____20220401T132521_20220401T133021_23142_02_020301_20220401T142734.nc\n",
      "S5P_NRTI_L2__NO2____20220401T133021_20220401T133521_23142_02_020301_20220401T142647.nc\n",
      "S5P_NRTI_L2__NO2____20220401T133521_20220401T134021_23142_02_020301_20220401T143144.nc\n",
      "S5P_NRTI_L2__NO2____20220401T134021_20220401T134521_23142_02_020301_20220401T143244.nc\n",
      "S5P_NRTI_L2__NO2____20220401T134521_20220401T135021_23142_02_020301_20220401T143801.nc\n",
      "S5P_NRTI_L2__NO2____20220401T135021_20220401T135521_23142_02_020301_20220401T144131.nc\n",
      "S5P_NRTI_L2__NO2____20220401T135521_20220401T140021_23142_02_020301_20220401T144904.nc\n",
      "S5P_NRTI_L2__NO2____20220401T140021_20220401T140521_23142_02_020301_20220401T145433.nc\n",
      "S5P_NRTI_L2__NO2____20220401T140521_20220401T141021_23142_02_020301_20220401T155935.nc\n",
      "S5P_NRTI_L2__NO2____20220401T141021_20220401T141521_23142_02_020301_20220401T160002.nc\n",
      "S5P_NRTI_L2__NO2____20220401T141521_20220401T142021_23142_02_020301_20220401T155659.nc\n",
      "S5P_NRTI_L2__NO2____20220401T150021_20220401T150521_23143_02_020301_20220401T160105.nc\n",
      "S5P_NRTI_L2__NO2____20220401T150521_20220401T151021_23143_02_020301_20220401T160606.nc\n",
      "S5P_NRTI_L2__NO2____20220401T151021_20220401T151521_23143_02_020301_20220401T160715.nc\n",
      "S5P_NRTI_L2__NO2____20220401T151521_20220401T152021_23143_02_020301_20220401T160750.nc\n",
      "S5P_NRTI_L2__NO2____20220401T152021_20220401T152521_23143_02_020301_20220401T161335.nc\n",
      "S5P_NRTI_L2__NO2____20220401T152521_20220401T153021_23143_02_020301_20220401T161451.nc\n",
      "S5P_NRTI_L2__NO2____20220401T153021_20220401T153521_23143_02_020301_20220401T162236.nc\n",
      "S5P_NRTI_L2__NO2____20220401T153521_20220401T154021_23143_02_020301_20220401T162344.nc\n",
      "S5P_NRTI_L2__NO2____20220401T154021_20220401T154521_23143_02_020301_20220401T163339.nc\n",
      "S5P_NRTI_L2__NO2____20220401T154521_20220401T155021_23143_02_020301_20220401T173705.nc\n",
      "S5P_NRTI_L2__NO2____20220401T155021_20220401T155521_23143_02_020301_20220401T173600.nc\n",
      "S5P_NRTI_L2__NO2____20220401T164021_20220401T164521_23144_02_020301_20220401T173942.nc\n",
      "S5P_NRTI_L2__NO2____20220401T164521_20220401T165021_23144_02_020301_20220401T174422.nc\n",
      "S5P_NRTI_L2__NO2____20220401T165021_20220401T165521_23144_02_020301_20220401T174454.nc\n",
      "S5P_NRTI_L2__NO2____20220401T165521_20220401T170021_23144_02_020301_20220401T174558.nc\n",
      "S5P_NRTI_L2__NO2____20220401T170021_20220401T170521_23144_02_020301_20220401T175120.nc\n",
      "S5P_NRTI_L2__NO2____20220401T170521_20220401T171021_23144_02_020301_20220401T175630.nc\n",
      "S5P_NRTI_L2__NO2____20220401T171021_20220401T171521_23144_02_020301_20220401T175805.nc\n",
      "S5P_NRTI_L2__NO2____20220401T171521_20220401T172021_23144_02_020301_20220401T180539.nc\n",
      "S5P_NRTI_L2__NO2____20220401T172021_20220401T172521_23144_02_020301_20220401T180849.nc\n",
      "S5P_NRTI_L2__NO2____20220401T172521_20220401T173021_23144_02_020301_20220401T191755.nc\n",
      "S5P_NRTI_L2__NO2____20220401T173021_20220401T173521_23144_02_020301_20220401T191933.nc\n",
      "S5P_NRTI_L2__NO2____20220401T173521_20220401T174021_23144_02_020301_20220401T191637.nc\n",
      "S5P_NRTI_L2__NO2____20220401T174021_20220401T174521_23144_02_020301_20220401T191440.nc\n",
      "S5P_NRTI_L2__NO2____20220401T182021_20220401T182521_23145_02_020301_20220401T192117.nc\n",
      "S5P_NRTI_L2__NO2____20220401T182521_20220401T183021_23145_02_020301_20220401T192744.nc\n",
      "S5P_NRTI_L2__NO2____20220401T183021_20220401T183521_23145_02_020301_20220401T192839.nc\n",
      "S5P_NRTI_L2__NO2____20220401T183521_20220401T184021_23145_02_020301_20220401T193253.nc\n",
      "S5P_NRTI_L2__NO2____20220401T184021_20220401T184521_23145_02_020301_20220401T193409.nc\n",
      "S5P_NRTI_L2__NO2____20220401T184521_20220401T185021_23145_02_020301_20220401T194036.nc\n",
      "S5P_NRTI_L2__NO2____20220401T185021_20220401T185521_23145_02_020301_20220401T194435.nc\n",
      "S5P_NRTI_L2__NO2____20220401T185521_20220401T190021_23145_02_020301_20220401T194634.nc\n",
      "S5P_NRTI_L2__NO2____20220401T190021_20220401T190521_23145_02_020301_20220401T195218.nc\n",
      "S5P_NRTI_L2__NO2____20220401T190521_20220401T191021_23145_02_020301_20220401T210150.nc\n",
      "S5P_NRTI_L2__NO2____20220401T191021_20220401T191521_23145_02_020301_20220401T210252.nc\n",
      "S5P_NRTI_L2__NO2____20220401T191521_20220401T192021_23145_02_020301_20220401T210623.nc\n",
      "S5P_NRTI_L2__NO2____20220401T192021_20220401T192521_23145_02_020301_20220401T205743.nc\n",
      "S5P_NRTI_L2__NO2____20220401T200521_20220401T201021_23146_02_020301_20220401T211302.nc\n",
      "S5P_NRTI_L2__NO2____20220401T201021_20220401T201521_23146_02_020301_20220401T211513.nc\n",
      "S5P_NRTI_L2__NO2____20220401T201521_20220401T202021_23146_02_020301_20220401T212109.nc\n",
      "S5P_NRTI_L2__NO2____20220401T202021_20220401T202521_23146_02_020301_20220401T212237.nc\n",
      "S5P_NRTI_L2__NO2____20220401T202521_20220401T203021_23146_02_020301_20220401T212750.nc\n",
      "S5P_NRTI_L2__NO2____20220401T203021_20220401T203521_23146_02_020301_20220401T212905.nc\n",
      "S5P_NRTI_L2__NO2____20220401T203521_20220401T204021_23146_02_020301_20220401T213619.nc\n",
      "S5P_NRTI_L2__NO2____20220401T204021_20220401T204521_23146_02_020301_20220401T214112.nc\n",
      "S5P_NRTI_L2__NO2____20220401T204521_20220401T205021_23146_02_020301_20220401T224025.nc\n",
      "S5P_NRTI_L2__NO2____20220401T205021_20220401T205521_23146_02_020301_20220401T224214.nc\n",
      "S5P_NRTI_L2__NO2____20220401T205521_20220401T210021_23146_02_020301_20220401T223751.nc\n",
      "S5P_NRTI_L2__NO2____20220401T210021_20220401T210521_23146_02_020301_20220401T223837.nc\n",
      "S5P_NRTI_L2__NO2____20220401T214521_20220401T215021_23147_02_020301_20220401T224737.nc\n",
      "S5P_NRTI_L2__NO2____20220401T215021_20220401T215521_23147_02_020301_20220401T224908.nc\n",
      "S5P_NRTI_L2__NO2____20220401T215521_20220401T220021_23147_02_020301_20220401T225245.nc\n",
      "S5P_NRTI_L2__NO2____20220401T220021_20220401T220521_23147_02_020301_20220401T225801.nc\n",
      "S5P_NRTI_L2__NO2____20220401T220521_20220401T221021_23147_02_020301_20220401T225830.nc\n",
      "S5P_NRTI_L2__NO2____20220401T221021_20220401T221521_23147_02_020301_20220401T230451.nc\n",
      "S5P_NRTI_L2__NO2____20220401T221521_20220401T222021_23147_02_020301_20220401T231044.nc\n",
      "S5P_NRTI_L2__NO2____20220401T222021_20220401T222521_23147_02_020301_20220401T231311.nc\n",
      "S5P_NRTI_L2__NO2____20220401T222521_20220401T223021_23147_02_020301_20220402T003300.nc\n",
      "S5P_NRTI_L2__NO2____20220401T223021_20220401T223521_23147_02_020301_20220402T003407.nc\n",
      "S5P_NRTI_L2__NO2____20220401T223521_20220401T224021_23147_02_020301_20220402T003534.nc\n",
      "S5P_NRTI_L2__NO2____20220401T224021_20220401T224521_23147_02_020301_20220402T004322.nc\n",
      "S5P_NRTI_L2__NO2____20220401T224521_20220401T225021_23147_02_020301_20220402T004628.nc\n",
      "S5P_NRTI_L2__NO2____20220401T232521_20220401T233021_23148_02_020301_20220402T004901.nc\n",
      "S5P_NRTI_L2__NO2____20220401T233021_20220401T233521_23148_02_020301_20220402T005603.nc\n",
      "S5P_NRTI_L2__NO2____20220401T233521_20220401T234021_23148_02_020301_20220402T005920.nc\n",
      "S5P_NRTI_L2__NO2____20220401T234021_20220401T234521_23148_02_020301_20220402T010415.nc\n",
      "S5P_NRTI_L2__NO2____20220401T234521_20220401T235021_23148_02_020301_20220402T010630.nc\n",
      "S5P_NRTI_L2__NO2____20220401T235021_20220401T235521_23148_02_020301_20220402T010908.nc\n",
      "S5P_NRTI_L2__NO2____20220401T235521_20220402T000021_23148_02_020301_20220402T011518.nc\n"
     ]
    }
   ],
   "source": [
    "prefix = '/'.join(['TROPOMI',product,date])\n",
    "print('Searching for prefix {}'.format(prefix))\n",
    "generator = container_client.list_blobs(name_starts_with=prefix)\n",
    "scene_paths = [blob.name for blob in generator]\n",
    "print('\\nFound {} matching scenes:\\n'.format(len(scene_paths)))\n",
    "for s in scene_paths:\n",
    "    print(s.split('/')[-1])"
   ]
  },
  {
   "cell_type": "markdown",
   "id": "9a9e254b",
   "metadata": {},
   "source": [
    "# Print Metadata for one scene"
   ]
  },
  {
   "cell_type": "code",
   "execution_count": 8,
   "id": "0594f3d4",
   "metadata": {},
   "outputs": [
    {
     "name": "stdout",
     "output_type": "stream",
     "text": [
      "Processing image at URL:\n",
      "https://sentinel5euwest.blob.core.windows.net/sentinel-5p/TROPOMI/L2__NO2___/2022/04/01/S5P_NRTI_L2__NO2____20220401T115521_20220401T120021_23141_02_020301_20220401T125734/S5P_NRTI_L2__NO2____20220401T115521_20220401T120021_23141_02_020301_20220401T125734.nc\n"
     ]
    }
   ],
   "source": [
    "#different gas use different sc_mode, default CH4\n",
    "sc_mode = 'OFFL'\n",
    "if (product == 'L2__NO2___'):\n",
    "    sc_mode = 'NRTI'\n",
    "#need to add sc_mode for the other gases. will probably move this part to the beginning\n",
    "\n",
    "offl_scenes = [s for s in scene_paths if sc_mode in s]\n",
    "scene_path = offl_scenes[len(offl_scenes) // 2]\n",
    "url = storage_account_url + container_name + '/' + scene_path\n",
    "print('Processing image at URL:\\n{}'.format(url))"
   ]
  },
  {
   "cell_type": "markdown",
   "id": "00e9132c",
   "metadata": {},
   "source": [
    "## Sign URL"
   ]
  },
  {
   "cell_type": "code",
   "execution_count": 9,
   "id": "efa45453",
   "metadata": {
    "scrolled": true
   },
   "outputs": [
    {
     "name": "stdout",
     "output_type": "stream",
     "text": [
      "https://sentinel5euwest.blob.core.windows.net/sentinel-5p/TROPOMI/L2__NO2___/2022/04/01/S5P_NRTI_L2__NO2____20220401T115521_20220401T120021_23141_02_020301_20220401T125734/S5P_NRTI_L2__NO2____20220401T115521_20220401T120021_23141_02_020301_20220401T125734.nc?st=2022-04-03T00%3A42%3A47Z&se=2022-04-04T01%3A27%3A47Z&sp=rl&sv=2020-06-12&sr=c&skoid=c85c15d6-d1ae-42d4-af60-e2ca0f81359b&sktid=72f988bf-86f1-41af-91ab-2d7cd011db47&skt=2022-04-03T23%3A42%3A47Z&ske=2022-04-05T00%3A42%3A47Z&sks=b&skv=2020-06-12&sig=pMGIYXwv2h24kHJSrgTwQ2R4BXHV2UxpIe8So/iL3ww%3D\n"
     ]
    }
   ],
   "source": [
    "import planetary_computer\n",
    "import pystac\n",
    "import rasterio #this seems to break when called\n",
    "\n",
    "#item: pystac.Item = ... # no idea what goes here been trying multiple things but still stuck\n",
    "b4_href = planetary_computer.sign(url) #i think this sign the url directly\n",
    "\n",
    "print(b4_href)\n",
    "#this print a url if clicked would download the scene\n",
    "\n",
    "\n"
   ]
  },
  {
   "cell_type": "markdown",
   "id": "c81d75b7",
   "metadata": {},
   "source": [
    "## Print metadata"
   ]
  },
  {
   "cell_type": "code",
   "execution_count": 10,
   "id": "fae2e11a",
   "metadata": {
    "scrolled": true
   },
   "outputs": [
    {
     "name": "stdout",
     "output_type": "stream",
     "text": [
      "<xarray.Dataset>\n",
      "Dimensions:  ()\n",
      "Data variables:\n",
      "    *empty*\n",
      "Attributes: (12/52)\n",
      "    Conventions:                        CF-1.7\n",
      "    institution:                        KNMI\n",
      "    source:                             Sentinel 5 precursor, TROPOMI, space-...\n",
      "    history:                            2022-04-01 13:01:40 f_s5pops tropnll2...\n",
      "    summary:                            TROPOMI/S5P NO2 5-minute L2 Swath 5.5...\n",
      "    tracking_id:                        bdd1916a-7c47-47d5-9f22-4bb4203f6dcb\n",
      "    ...                                 ...\n",
      "    title:                              TROPOMI/S5P NO2 5-minute L2 Swath 5.5...\n",
      "    processing_status:                  NRTI-processing product\n",
      "    product_version:                    2.1.0\n",
      "    Status_MET_2D:                      Nominal\n",
      "    Status_NISE__:                      Nominal\n",
      "    Status_CTMFCT:                      Nominal\n"
     ]
    }
   ],
   "source": [
    "import warnings; warnings.filterwarnings('ignore')\n",
    "\n",
    "with fsspec.open(b4_href) as f:\n",
    "    ds = xr.open_dataset(f)\n",
    "print(ds)"
   ]
  },
  {
   "cell_type": "markdown",
   "id": "dd288539",
   "metadata": {},
   "source": [
    "# Open Data"
   ]
  },
  {
   "cell_type": "code",
   "execution_count": 11,
   "id": "940e4e75",
   "metadata": {},
   "outputs": [
    {
     "ename": "ValueError",
     "evalue": "I/O operation on closed file.",
     "output_type": "error",
     "traceback": [
      "\u001b[1;31m---------------------------------------------------------------------------\u001b[0m",
      "\u001b[1;31mValueError\u001b[0m                                Traceback (most recent call last)",
      "Input \u001b[1;32mIn [11]\u001b[0m, in \u001b[0;36m<cell line: 1>\u001b[1;34m()\u001b[0m\n\u001b[0;32m      1\u001b[0m \u001b[38;5;28;01mwith\u001b[39;00m fsspec\u001b[38;5;241m.\u001b[39mopen(b4_href) \u001b[38;5;28;01mas\u001b[39;00m f:\n\u001b[1;32m----> 2\u001b[0m     ds_product \u001b[38;5;241m=\u001b[39m \u001b[43mxr\u001b[49m\u001b[38;5;241;43m.\u001b[39;49m\u001b[43mopen_dataset\u001b[49m\u001b[43m(\u001b[49m\u001b[43mf\u001b[49m\u001b[43m,\u001b[49m\u001b[43m \u001b[49m\u001b[43mgroup\u001b[49m\u001b[38;5;241;43m=\u001b[39;49m\u001b[38;5;124;43m'\u001b[39;49m\u001b[38;5;124;43m/PRODUCT\u001b[39;49m\u001b[38;5;124;43m'\u001b[39;49m\u001b[43m)\u001b[49m\n\u001b[0;32m      3\u001b[0m \u001b[38;5;28mprint\u001b[39m(ds_product)\n",
      "File \u001b[1;32m~\\anaconda3\\envs\\SeniorProject\\lib\\site-packages\\xarray\\backends\\api.py:495\u001b[0m, in \u001b[0;36mopen_dataset\u001b[1;34m(filename_or_obj, engine, chunks, cache, decode_cf, mask_and_scale, decode_times, decode_timedelta, use_cftime, concat_characters, decode_coords, drop_variables, backend_kwargs, *args, **kwargs)\u001b[0m\n\u001b[0;32m    483\u001b[0m decoders \u001b[38;5;241m=\u001b[39m _resolve_decoders_kwargs(\n\u001b[0;32m    484\u001b[0m     decode_cf,\n\u001b[0;32m    485\u001b[0m     open_backend_dataset_parameters\u001b[38;5;241m=\u001b[39mbackend\u001b[38;5;241m.\u001b[39mopen_dataset_parameters,\n\u001b[1;32m   (...)\u001b[0m\n\u001b[0;32m    491\u001b[0m     decode_coords\u001b[38;5;241m=\u001b[39mdecode_coords,\n\u001b[0;32m    492\u001b[0m )\n\u001b[0;32m    494\u001b[0m overwrite_encoded_chunks \u001b[38;5;241m=\u001b[39m kwargs\u001b[38;5;241m.\u001b[39mpop(\u001b[38;5;124m\"\u001b[39m\u001b[38;5;124moverwrite_encoded_chunks\u001b[39m\u001b[38;5;124m\"\u001b[39m, \u001b[38;5;28;01mNone\u001b[39;00m)\n\u001b[1;32m--> 495\u001b[0m backend_ds \u001b[38;5;241m=\u001b[39m backend\u001b[38;5;241m.\u001b[39mopen_dataset(\n\u001b[0;32m    496\u001b[0m     filename_or_obj,\n\u001b[0;32m    497\u001b[0m     drop_variables\u001b[38;5;241m=\u001b[39mdrop_variables,\n\u001b[0;32m    498\u001b[0m     \u001b[38;5;241m*\u001b[39m\u001b[38;5;241m*\u001b[39mdecoders,\n\u001b[0;32m    499\u001b[0m     \u001b[38;5;241m*\u001b[39m\u001b[38;5;241m*\u001b[39mkwargs,\n\u001b[0;32m    500\u001b[0m )\n\u001b[0;32m    501\u001b[0m ds \u001b[38;5;241m=\u001b[39m _dataset_from_backend_dataset(\n\u001b[0;32m    502\u001b[0m     backend_ds,\n\u001b[0;32m    503\u001b[0m     filename_or_obj,\n\u001b[1;32m   (...)\u001b[0m\n\u001b[0;32m    510\u001b[0m     \u001b[38;5;241m*\u001b[39m\u001b[38;5;241m*\u001b[39mkwargs,\n\u001b[0;32m    511\u001b[0m )\n\u001b[0;32m    512\u001b[0m \u001b[38;5;28;01mreturn\u001b[39;00m ds\n",
      "File \u001b[1;32m~\\anaconda3\\envs\\SeniorProject\\lib\\site-packages\\xarray\\backends\\h5netcdf_.py:374\u001b[0m, in \u001b[0;36mH5netcdfBackendEntrypoint.open_dataset\u001b[1;34m(self, filename_or_obj, mask_and_scale, decode_times, concat_characters, decode_coords, drop_variables, use_cftime, decode_timedelta, format, group, lock, invalid_netcdf, phony_dims, decode_vlen_strings)\u001b[0m\n\u001b[0;32m    354\u001b[0m \u001b[38;5;28;01mdef\u001b[39;00m \u001b[38;5;21mopen_dataset\u001b[39m(\n\u001b[0;32m    355\u001b[0m     \u001b[38;5;28mself\u001b[39m,\n\u001b[0;32m    356\u001b[0m     filename_or_obj,\n\u001b[1;32m   (...)\u001b[0m\n\u001b[0;32m    370\u001b[0m     decode_vlen_strings\u001b[38;5;241m=\u001b[39m\u001b[38;5;28;01mTrue\u001b[39;00m,\n\u001b[0;32m    371\u001b[0m ):\n\u001b[0;32m    373\u001b[0m     filename_or_obj \u001b[38;5;241m=\u001b[39m _normalize_path(filename_or_obj)\n\u001b[1;32m--> 374\u001b[0m     store \u001b[38;5;241m=\u001b[39m \u001b[43mH5NetCDFStore\u001b[49m\u001b[38;5;241;43m.\u001b[39;49m\u001b[43mopen\u001b[49m\u001b[43m(\u001b[49m\n\u001b[0;32m    375\u001b[0m \u001b[43m        \u001b[49m\u001b[43mfilename_or_obj\u001b[49m\u001b[43m,\u001b[49m\n\u001b[0;32m    376\u001b[0m \u001b[43m        \u001b[49m\u001b[38;5;28;43mformat\u001b[39;49m\u001b[38;5;241;43m=\u001b[39;49m\u001b[38;5;28;43mformat\u001b[39;49m\u001b[43m,\u001b[49m\n\u001b[0;32m    377\u001b[0m \u001b[43m        \u001b[49m\u001b[43mgroup\u001b[49m\u001b[38;5;241;43m=\u001b[39;49m\u001b[43mgroup\u001b[49m\u001b[43m,\u001b[49m\n\u001b[0;32m    378\u001b[0m \u001b[43m        \u001b[49m\u001b[43mlock\u001b[49m\u001b[38;5;241;43m=\u001b[39;49m\u001b[43mlock\u001b[49m\u001b[43m,\u001b[49m\n\u001b[0;32m    379\u001b[0m \u001b[43m        \u001b[49m\u001b[43minvalid_netcdf\u001b[49m\u001b[38;5;241;43m=\u001b[39;49m\u001b[43minvalid_netcdf\u001b[49m\u001b[43m,\u001b[49m\n\u001b[0;32m    380\u001b[0m \u001b[43m        \u001b[49m\u001b[43mphony_dims\u001b[49m\u001b[38;5;241;43m=\u001b[39;49m\u001b[43mphony_dims\u001b[49m\u001b[43m,\u001b[49m\n\u001b[0;32m    381\u001b[0m \u001b[43m        \u001b[49m\u001b[43mdecode_vlen_strings\u001b[49m\u001b[38;5;241;43m=\u001b[39;49m\u001b[43mdecode_vlen_strings\u001b[49m\u001b[43m,\u001b[49m\n\u001b[0;32m    382\u001b[0m \u001b[43m    \u001b[49m\u001b[43m)\u001b[49m\n\u001b[0;32m    384\u001b[0m     store_entrypoint \u001b[38;5;241m=\u001b[39m StoreBackendEntrypoint()\n\u001b[0;32m    386\u001b[0m     ds \u001b[38;5;241m=\u001b[39m store_entrypoint\u001b[38;5;241m.\u001b[39mopen_dataset(\n\u001b[0;32m    387\u001b[0m         store,\n\u001b[0;32m    388\u001b[0m         mask_and_scale\u001b[38;5;241m=\u001b[39mmask_and_scale,\n\u001b[1;32m   (...)\u001b[0m\n\u001b[0;32m    394\u001b[0m         decode_timedelta\u001b[38;5;241m=\u001b[39mdecode_timedelta,\n\u001b[0;32m    395\u001b[0m     )\n",
      "File \u001b[1;32m~\\anaconda3\\envs\\SeniorProject\\lib\\site-packages\\xarray\\backends\\h5netcdf_.py:178\u001b[0m, in \u001b[0;36mH5NetCDFStore.open\u001b[1;34m(cls, filename, mode, format, group, lock, autoclose, invalid_netcdf, phony_dims, decode_vlen_strings)\u001b[0m\n\u001b[0;32m    175\u001b[0m         lock \u001b[38;5;241m=\u001b[39m combine_locks([HDF5_LOCK, get_write_lock(filename)])\n\u001b[0;32m    177\u001b[0m manager \u001b[38;5;241m=\u001b[39m CachingFileManager(h5netcdf\u001b[38;5;241m.\u001b[39mFile, filename, mode\u001b[38;5;241m=\u001b[39mmode, kwargs\u001b[38;5;241m=\u001b[39mkwargs)\n\u001b[1;32m--> 178\u001b[0m \u001b[38;5;28;01mreturn\u001b[39;00m \u001b[38;5;28;43mcls\u001b[39;49m\u001b[43m(\u001b[49m\u001b[43mmanager\u001b[49m\u001b[43m,\u001b[49m\u001b[43m \u001b[49m\u001b[43mgroup\u001b[49m\u001b[38;5;241;43m=\u001b[39;49m\u001b[43mgroup\u001b[49m\u001b[43m,\u001b[49m\u001b[43m \u001b[49m\u001b[43mmode\u001b[49m\u001b[38;5;241;43m=\u001b[39;49m\u001b[43mmode\u001b[49m\u001b[43m,\u001b[49m\u001b[43m \u001b[49m\u001b[43mlock\u001b[49m\u001b[38;5;241;43m=\u001b[39;49m\u001b[43mlock\u001b[49m\u001b[43m,\u001b[49m\u001b[43m \u001b[49m\u001b[43mautoclose\u001b[49m\u001b[38;5;241;43m=\u001b[39;49m\u001b[43mautoclose\u001b[49m\u001b[43m)\u001b[49m\n",
      "File \u001b[1;32m~\\anaconda3\\envs\\SeniorProject\\lib\\site-packages\\xarray\\backends\\h5netcdf_.py:123\u001b[0m, in \u001b[0;36mH5NetCDFStore.__init__\u001b[1;34m(self, manager, group, mode, lock, autoclose)\u001b[0m\n\u001b[0;32m    120\u001b[0m \u001b[38;5;28mself\u001b[39m\u001b[38;5;241m.\u001b[39mformat \u001b[38;5;241m=\u001b[39m \u001b[38;5;28;01mNone\u001b[39;00m\n\u001b[0;32m    121\u001b[0m \u001b[38;5;66;03m# todo: utilizing find_root_and_group seems a bit clunky\u001b[39;00m\n\u001b[0;32m    122\u001b[0m \u001b[38;5;66;03m#  making filename available on h5netcdf.Group seems better\u001b[39;00m\n\u001b[1;32m--> 123\u001b[0m \u001b[38;5;28mself\u001b[39m\u001b[38;5;241m.\u001b[39m_filename \u001b[38;5;241m=\u001b[39m find_root_and_group(\u001b[38;5;28;43mself\u001b[39;49m\u001b[38;5;241;43m.\u001b[39;49m\u001b[43mds\u001b[49m)[\u001b[38;5;241m0\u001b[39m]\u001b[38;5;241m.\u001b[39mfilename\n\u001b[0;32m    124\u001b[0m \u001b[38;5;28mself\u001b[39m\u001b[38;5;241m.\u001b[39mis_remote \u001b[38;5;241m=\u001b[39m is_remote_uri(\u001b[38;5;28mself\u001b[39m\u001b[38;5;241m.\u001b[39m_filename)\n\u001b[0;32m    125\u001b[0m \u001b[38;5;28mself\u001b[39m\u001b[38;5;241m.\u001b[39mlock \u001b[38;5;241m=\u001b[39m ensure_lock(lock)\n",
      "File \u001b[1;32m~\\anaconda3\\envs\\SeniorProject\\lib\\site-packages\\xarray\\backends\\h5netcdf_.py:189\u001b[0m, in \u001b[0;36mH5NetCDFStore.ds\u001b[1;34m(self)\u001b[0m\n\u001b[0;32m    187\u001b[0m \u001b[38;5;129m@property\u001b[39m\n\u001b[0;32m    188\u001b[0m \u001b[38;5;28;01mdef\u001b[39;00m \u001b[38;5;21mds\u001b[39m(\u001b[38;5;28mself\u001b[39m):\n\u001b[1;32m--> 189\u001b[0m     \u001b[38;5;28;01mreturn\u001b[39;00m \u001b[38;5;28;43mself\u001b[39;49m\u001b[38;5;241;43m.\u001b[39;49m\u001b[43m_acquire\u001b[49m\u001b[43m(\u001b[49m\u001b[43m)\u001b[49m\n",
      "File \u001b[1;32m~\\anaconda3\\envs\\SeniorProject\\lib\\site-packages\\xarray\\backends\\h5netcdf_.py:182\u001b[0m, in \u001b[0;36mH5NetCDFStore._acquire\u001b[1;34m(self, needs_lock)\u001b[0m\n\u001b[0;32m    180\u001b[0m \u001b[38;5;28;01mdef\u001b[39;00m \u001b[38;5;21m_acquire\u001b[39m(\u001b[38;5;28mself\u001b[39m, needs_lock\u001b[38;5;241m=\u001b[39m\u001b[38;5;28;01mTrue\u001b[39;00m):\n\u001b[0;32m    181\u001b[0m     \u001b[38;5;28;01mwith\u001b[39;00m \u001b[38;5;28mself\u001b[39m\u001b[38;5;241m.\u001b[39m_manager\u001b[38;5;241m.\u001b[39macquire_context(needs_lock) \u001b[38;5;28;01mas\u001b[39;00m root:\n\u001b[1;32m--> 182\u001b[0m         ds \u001b[38;5;241m=\u001b[39m \u001b[43m_nc4_require_group\u001b[49m\u001b[43m(\u001b[49m\n\u001b[0;32m    183\u001b[0m \u001b[43m            \u001b[49m\u001b[43mroot\u001b[49m\u001b[43m,\u001b[49m\u001b[43m \u001b[49m\u001b[38;5;28;43mself\u001b[39;49m\u001b[38;5;241;43m.\u001b[39;49m\u001b[43m_group\u001b[49m\u001b[43m,\u001b[49m\u001b[43m \u001b[49m\u001b[38;5;28;43mself\u001b[39;49m\u001b[38;5;241;43m.\u001b[39;49m\u001b[43m_mode\u001b[49m\u001b[43m,\u001b[49m\u001b[43m \u001b[49m\u001b[43mcreate_group\u001b[49m\u001b[38;5;241;43m=\u001b[39;49m\u001b[43m_h5netcdf_create_group\u001b[49m\n\u001b[0;32m    184\u001b[0m \u001b[43m        \u001b[49m\u001b[43m)\u001b[49m\n\u001b[0;32m    185\u001b[0m     \u001b[38;5;28;01mreturn\u001b[39;00m ds\n",
      "File \u001b[1;32m~\\anaconda3\\envs\\SeniorProject\\lib\\site-packages\\xarray\\backends\\netCDF4_.py:177\u001b[0m, in \u001b[0;36m_nc4_require_group\u001b[1;34m(ds, group, mode, create_group)\u001b[0m\n\u001b[0;32m    175\u001b[0m \u001b[38;5;28;01mfor\u001b[39;00m key \u001b[38;5;129;01min\u001b[39;00m path:\n\u001b[0;32m    176\u001b[0m     \u001b[38;5;28;01mtry\u001b[39;00m:\n\u001b[1;32m--> 177\u001b[0m         ds \u001b[38;5;241m=\u001b[39m \u001b[43mds\u001b[49m\u001b[38;5;241;43m.\u001b[39;49m\u001b[43mgroups\u001b[49m\u001b[43m[\u001b[49m\u001b[43mkey\u001b[49m\u001b[43m]\u001b[49m\n\u001b[0;32m    178\u001b[0m     \u001b[38;5;28;01mexcept\u001b[39;00m \u001b[38;5;167;01mKeyError\u001b[39;00m \u001b[38;5;28;01mas\u001b[39;00m e:\n\u001b[0;32m    179\u001b[0m         \u001b[38;5;28;01mif\u001b[39;00m mode \u001b[38;5;241m!=\u001b[39m \u001b[38;5;124m\"\u001b[39m\u001b[38;5;124mr\u001b[39m\u001b[38;5;124m\"\u001b[39m:\n",
      "File \u001b[1;32m~\\anaconda3\\envs\\SeniorProject\\lib\\site-packages\\h5netcdf\\utils.py:14\u001b[0m, in \u001b[0;36mFrozen.__getitem__\u001b[1;34m(self, key)\u001b[0m\n\u001b[0;32m     13\u001b[0m \u001b[38;5;28;01mdef\u001b[39;00m \u001b[38;5;21m__getitem__\u001b[39m(\u001b[38;5;28mself\u001b[39m, key):\n\u001b[1;32m---> 14\u001b[0m     \u001b[38;5;28;01mreturn\u001b[39;00m \u001b[38;5;28;43mself\u001b[39;49m\u001b[38;5;241;43m.\u001b[39;49m\u001b[43m_mapping\u001b[49m\u001b[43m[\u001b[49m\u001b[43mkey\u001b[49m\u001b[43m]\u001b[49m\n",
      "File \u001b[1;32m~\\anaconda3\\envs\\SeniorProject\\lib\\site-packages\\h5netcdf\\core.py:396\u001b[0m, in \u001b[0;36m_LazyObjectLookup.__getitem__\u001b[1;34m(self, key)\u001b[0m\n\u001b[0;32m    394\u001b[0m     \u001b[38;5;28;01mreturn\u001b[39;00m \u001b[38;5;28mself\u001b[39m\u001b[38;5;241m.\u001b[39m_objects[key]\n\u001b[0;32m    395\u001b[0m \u001b[38;5;28;01melse\u001b[39;00m:\n\u001b[1;32m--> 396\u001b[0m     \u001b[38;5;28mself\u001b[39m\u001b[38;5;241m.\u001b[39m_objects[key] \u001b[38;5;241m=\u001b[39m \u001b[38;5;28;43mself\u001b[39;49m\u001b[38;5;241;43m.\u001b[39;49m\u001b[43m_object_cls\u001b[49m\u001b[43m(\u001b[49m\u001b[38;5;28;43mself\u001b[39;49m\u001b[38;5;241;43m.\u001b[39;49m\u001b[43m_parent\u001b[49m\u001b[43m,\u001b[49m\u001b[43m \u001b[49m\u001b[43mkey\u001b[49m\u001b[43m)\u001b[49m\n\u001b[0;32m    397\u001b[0m     \u001b[38;5;28;01mreturn\u001b[39;00m \u001b[38;5;28mself\u001b[39m\u001b[38;5;241m.\u001b[39m_objects[key]\n",
      "File \u001b[1;32m~\\anaconda3\\envs\\SeniorProject\\lib\\site-packages\\h5netcdf\\core.py:446\u001b[0m, in \u001b[0;36mGroup.__init__\u001b[1;34m(self, parent, name)\u001b[0m\n\u001b[0;32m    443\u001b[0m \u001b[38;5;28;01mif\u001b[39;00m \u001b[38;5;28mself\u001b[39m\u001b[38;5;241m.\u001b[39m_root\u001b[38;5;241m.\u001b[39m_phony_dims_mode \u001b[38;5;129;01mis\u001b[39;00m \u001b[38;5;129;01mnot\u001b[39;00m \u001b[38;5;28;01mNone\u001b[39;00m:\n\u001b[0;32m    444\u001b[0m     phony_dims \u001b[38;5;241m=\u001b[39m Counter()\n\u001b[1;32m--> 446\u001b[0m \u001b[38;5;28;01mfor\u001b[39;00m k, v \u001b[38;5;129;01min\u001b[39;00m \u001b[38;5;28mself\u001b[39m\u001b[38;5;241m.\u001b[39m_h5group\u001b[38;5;241m.\u001b[39mitems():\n\u001b[0;32m    447\u001b[0m     \u001b[38;5;28;01mif\u001b[39;00m \u001b[38;5;28misinstance\u001b[39m(v, h5_group_types):\n\u001b[0;32m    448\u001b[0m         \u001b[38;5;66;03m# add to the groups collection if this is a h5py(d) Group\u001b[39;00m\n\u001b[0;32m    449\u001b[0m         \u001b[38;5;66;03m# instance\u001b[39;00m\n\u001b[0;32m    450\u001b[0m         \u001b[38;5;28mself\u001b[39m\u001b[38;5;241m.\u001b[39m_groups\u001b[38;5;241m.\u001b[39madd(k)\n",
      "File \u001b[1;32m~\\anaconda3\\envs\\SeniorProject\\lib\\site-packages\\h5py\\_hl\\base.py:435\u001b[0m, in \u001b[0;36mItemsViewHDF5.__iter__\u001b[1;34m(self)\u001b[0m\n\u001b[0;32m    433\u001b[0m \u001b[38;5;28;01mdef\u001b[39;00m \u001b[38;5;21m__iter__\u001b[39m(\u001b[38;5;28mself\u001b[39m):\n\u001b[0;32m    434\u001b[0m     \u001b[38;5;28;01mwith\u001b[39;00m phil:\n\u001b[1;32m--> 435\u001b[0m         \u001b[38;5;28;01mfor\u001b[39;00m key \u001b[38;5;129;01min\u001b[39;00m \u001b[38;5;28mself\u001b[39m\u001b[38;5;241m.\u001b[39m_mapping:\n\u001b[0;32m    436\u001b[0m             \u001b[38;5;28;01myield\u001b[39;00m (key, \u001b[38;5;28mself\u001b[39m\u001b[38;5;241m.\u001b[39m_mapping\u001b[38;5;241m.\u001b[39mget(key))\n",
      "File \u001b[1;32m~\\anaconda3\\envs\\SeniorProject\\lib\\site-packages\\h5py\\_hl\\group.py:448\u001b[0m, in \u001b[0;36mGroup.__iter__\u001b[1;34m(self)\u001b[0m\n\u001b[0;32m    445\u001b[0m \u001b[38;5;129m@with_phil\u001b[39m\n\u001b[0;32m    446\u001b[0m \u001b[38;5;28;01mdef\u001b[39;00m \u001b[38;5;21m__iter__\u001b[39m(\u001b[38;5;28mself\u001b[39m):\n\u001b[0;32m    447\u001b[0m     \u001b[38;5;124;03m\"\"\" Iterate over member names \"\"\"\u001b[39;00m\n\u001b[1;32m--> 448\u001b[0m     \u001b[38;5;28;01mfor\u001b[39;00m x \u001b[38;5;129;01min\u001b[39;00m \u001b[38;5;28;43mself\u001b[39;49m\u001b[38;5;241;43m.\u001b[39;49m\u001b[43mid\u001b[49m\u001b[38;5;241;43m.\u001b[39;49m\u001b[38;5;21;43m__iter__\u001b[39;49m\u001b[43m(\u001b[49m\u001b[43m)\u001b[49m:\n\u001b[0;32m    449\u001b[0m         \u001b[38;5;28;01myield\u001b[39;00m \u001b[38;5;28mself\u001b[39m\u001b[38;5;241m.\u001b[39m_d(x)\n",
      "File \u001b[1;32mh5py\\h5g.pyx:477\u001b[0m, in \u001b[0;36mh5py.h5g.GroupID.__iter__\u001b[1;34m()\u001b[0m\n",
      "File \u001b[1;32mh5py\\h5g.pyx:478\u001b[0m, in \u001b[0;36mh5py.h5g.GroupID.__iter__\u001b[1;34m()\u001b[0m\n",
      "File \u001b[1;32mh5py\\h5g.pyx:102\u001b[0m, in \u001b[0;36mh5py.h5g.GroupIter.__init__\u001b[1;34m()\u001b[0m\n",
      "File \u001b[1;32mh5py\\_objects.pyx:54\u001b[0m, in \u001b[0;36mh5py._objects.with_phil.wrapper\u001b[1;34m()\u001b[0m\n",
      "File \u001b[1;32mh5py\\_objects.pyx:55\u001b[0m, in \u001b[0;36mh5py._objects.with_phil.wrapper\u001b[1;34m()\u001b[0m\n",
      "File \u001b[1;32mh5py\\h5g.pyx:336\u001b[0m, in \u001b[0;36mh5py.h5g.GroupID.get_num_objs\u001b[1;34m()\u001b[0m\n",
      "File \u001b[1;32mh5py\\h5fd.pyx:162\u001b[0m, in \u001b[0;36mh5py.h5fd.H5FD_fileobj_read\u001b[1;34m()\u001b[0m\n",
      "File \u001b[1;32m~\\anaconda3\\envs\\SeniorProject\\lib\\site-packages\\fsspec\\spec.py:1554\u001b[0m, in \u001b[0;36mAbstractBufferedFile.readinto\u001b[1;34m(self, b)\u001b[0m\n\u001b[0;32m   1549\u001b[0m \u001b[38;5;124;03m\"\"\"mirrors builtin file's readinto method\u001b[39;00m\n\u001b[0;32m   1550\u001b[0m \n\u001b[0;32m   1551\u001b[0m \u001b[38;5;124;03mhttps://docs.python.org/3/library/io.html#io.RawIOBase.readinto\u001b[39;00m\n\u001b[0;32m   1552\u001b[0m \u001b[38;5;124;03m\"\"\"\u001b[39;00m\n\u001b[0;32m   1553\u001b[0m out \u001b[38;5;241m=\u001b[39m \u001b[38;5;28mmemoryview\u001b[39m(b)\u001b[38;5;241m.\u001b[39mcast(\u001b[38;5;124m\"\u001b[39m\u001b[38;5;124mB\u001b[39m\u001b[38;5;124m\"\u001b[39m)\n\u001b[1;32m-> 1554\u001b[0m data \u001b[38;5;241m=\u001b[39m \u001b[38;5;28;43mself\u001b[39;49m\u001b[38;5;241;43m.\u001b[39;49m\u001b[43mread\u001b[49m\u001b[43m(\u001b[49m\u001b[43mout\u001b[49m\u001b[38;5;241;43m.\u001b[39;49m\u001b[43mnbytes\u001b[49m\u001b[43m)\u001b[49m\n\u001b[0;32m   1555\u001b[0m out[: \u001b[38;5;28mlen\u001b[39m(data)] \u001b[38;5;241m=\u001b[39m data\n\u001b[0;32m   1556\u001b[0m \u001b[38;5;28;01mreturn\u001b[39;00m \u001b[38;5;28mlen\u001b[39m(data)\n",
      "File \u001b[1;32m~\\anaconda3\\envs\\SeniorProject\\lib\\site-packages\\fsspec\\implementations\\http.py:566\u001b[0m, in \u001b[0;36mHTTPFile.read\u001b[1;34m(self, length)\u001b[0m\n\u001b[0;32m    564\u001b[0m \u001b[38;5;28;01melse\u001b[39;00m:\n\u001b[0;32m    565\u001b[0m     length \u001b[38;5;241m=\u001b[39m \u001b[38;5;28mmin\u001b[39m(\u001b[38;5;28mself\u001b[39m\u001b[38;5;241m.\u001b[39msize \u001b[38;5;241m-\u001b[39m \u001b[38;5;28mself\u001b[39m\u001b[38;5;241m.\u001b[39mloc, length)\n\u001b[1;32m--> 566\u001b[0m \u001b[38;5;28;01mreturn\u001b[39;00m \u001b[38;5;28;43msuper\u001b[39;49m\u001b[43m(\u001b[49m\u001b[43m)\u001b[49m\u001b[38;5;241;43m.\u001b[39;49m\u001b[43mread\u001b[49m\u001b[43m(\u001b[49m\u001b[43mlength\u001b[49m\u001b[43m)\u001b[49m\n",
      "File \u001b[1;32m~\\anaconda3\\envs\\SeniorProject\\lib\\site-packages\\fsspec\\spec.py:1539\u001b[0m, in \u001b[0;36mAbstractBufferedFile.read\u001b[1;34m(self, length)\u001b[0m\n\u001b[0;32m   1537\u001b[0m     length \u001b[38;5;241m=\u001b[39m \u001b[38;5;28mself\u001b[39m\u001b[38;5;241m.\u001b[39msize \u001b[38;5;241m-\u001b[39m \u001b[38;5;28mself\u001b[39m\u001b[38;5;241m.\u001b[39mloc\n\u001b[0;32m   1538\u001b[0m \u001b[38;5;28;01mif\u001b[39;00m \u001b[38;5;28mself\u001b[39m\u001b[38;5;241m.\u001b[39mclosed:\n\u001b[1;32m-> 1539\u001b[0m     \u001b[38;5;28;01mraise\u001b[39;00m \u001b[38;5;167;01mValueError\u001b[39;00m(\u001b[38;5;124m\"\u001b[39m\u001b[38;5;124mI/O operation on closed file.\u001b[39m\u001b[38;5;124m\"\u001b[39m)\n\u001b[0;32m   1540\u001b[0m logger\u001b[38;5;241m.\u001b[39mdebug(\u001b[38;5;124m\"\u001b[39m\u001b[38;5;132;01m%s\u001b[39;00m\u001b[38;5;124m read: \u001b[39m\u001b[38;5;132;01m%i\u001b[39;00m\u001b[38;5;124m - \u001b[39m\u001b[38;5;132;01m%i\u001b[39;00m\u001b[38;5;124m\"\u001b[39m \u001b[38;5;241m%\u001b[39m (\u001b[38;5;28mself\u001b[39m, \u001b[38;5;28mself\u001b[39m\u001b[38;5;241m.\u001b[39mloc, \u001b[38;5;28mself\u001b[39m\u001b[38;5;241m.\u001b[39mloc \u001b[38;5;241m+\u001b[39m length))\n\u001b[0;32m   1541\u001b[0m \u001b[38;5;28;01mif\u001b[39;00m length \u001b[38;5;241m==\u001b[39m \u001b[38;5;241m0\u001b[39m:\n\u001b[0;32m   1542\u001b[0m     \u001b[38;5;66;03m# don't even bother calling fetch\u001b[39;00m\n",
      "\u001b[1;31mValueError\u001b[0m: I/O operation on closed file."
     ]
    }
   ],
   "source": [
    "with fsspec.open(b4_href) as f:\n",
    "    ds_product = xr.open_dataset(f, group='/PRODUCT')\n",
    "print(ds_product)"
   ]
  },
  {
   "cell_type": "code",
   "execution_count": null,
   "id": "c0fc4ac2",
   "metadata": {},
   "outputs": [],
   "source": []
  }
 ],
 "metadata": {
  "kernelspec": {
   "display_name": "Python 3 (ipykernel)",
   "language": "python",
   "name": "python3"
  },
  "language_info": {
   "codemirror_mode": {
    "name": "ipython",
    "version": 3
   },
   "file_extension": ".py",
   "mimetype": "text/x-python",
   "name": "python",
   "nbconvert_exporter": "python",
   "pygments_lexer": "ipython3",
   "version": "3.9.7"
  }
 },
 "nbformat": 4,
 "nbformat_minor": 5
}
